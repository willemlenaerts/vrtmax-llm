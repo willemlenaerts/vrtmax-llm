{
 "cells": [
  {
   "cell_type": "code",
   "execution_count": 5,
   "metadata": {},
   "outputs": [],
   "source": [
    "import sagemaker\n",
    "import boto3\n",
    "import json\n",
    "import subprocess\n",
    "from langchain_aws import ChatBedrockConverse\n",
    "from os import environ\n",
    "from langchain.embeddings.huggingface import HuggingFaceEmbeddings\n",
    "from langchain.vectorstores import OpenSearchVectorSearch\n",
    "from opensearchpy import RequestsHttpConnection, AWSV4SignerAuth\n",
    "from langchain_core.prompts import ChatPromptTemplate\n",
    "from langchain_core.output_parsers import StrOutputParser\n",
    "from langchain_core.runnables import RunnablePassthrough\n",
    "from typing import List\n",
    "from langchain.embeddings.base import Embeddings\n",
    "from sentence_transformers import SentenceTransformer"
   ]
  },
  {
   "cell_type": "code",
   "execution_count": 6,
   "metadata": {},
   "outputs": [],
   "source": [
    "# Login AWS\n",
    "aws_profile = \"vrt-analytics-engineer-nonsensitive\"\n",
    "envvars = subprocess.check_output(['aws-vault', 'exec', aws_profile, '--', 'env'])\n",
    "for envline in envvars.split(b'\\n'):\n",
    "    line = envline.decode('utf8')\n",
    "    eqpos = line.find('=')\n",
    "    if eqpos < 4:\n",
    "        continue\n",
    "    k = line[0:eqpos]\n",
    "    v = line[eqpos+1:]\n",
    "    if k == 'AWS_ACCESS_KEY_ID':\n",
    "        aws_access_key_id = v\n",
    "    if k == 'AWS_SECRET_ACCESS_KEY':\n",
    "        aws_secret_access_key = v\n",
    "    if k == 'AWS_SESSION_TOKEN':\n",
    "        aws_session_token = v\n",
    "\n",
    "session = boto3.Session(\n",
    "aws_access_key_id, aws_secret_access_key, aws_session_token,region_name=\"eu-west-1\"\n",
    ")\n",
    "credentials = session.get_credentials()\n",
    "sagemaker_session = sagemaker.Session(boto_session=session)\n",
    "role = sagemaker.get_execution_role(sagemaker_session=sagemaker_session)\n",
    "auth = AWSV4SignerAuth(credentials, 'eu-west-2', 'aoss')\n",
    "\n",
    "\n",
    "environ[\"AWS_ACCESS_KEY_ID\"] = aws_access_key_id\n",
    "environ[\"AWS_SECRET_ACCESS_KEY\"] = aws_secret_access_key\n",
    "environ[\"AWS_SESSION_TOKEN\"] = aws_session_token"
   ]
  },
  {
   "cell_type": "code",
   "execution_count": 17,
   "metadata": {},
   "outputs": [],
   "source": [
    "# LLM endpoint\n",
    "llm = ChatBedrockConverse(\n",
    "    region_name=\"eu-west-2\",\n",
    "    model=\"mistral.mistral-large-2402-v1:0\" , # \"meta.llama3-70b-instruct-v1:0\"\n",
    "    temperature=0.6,\n",
    "    top_p=0.6,\n",
    "    max_tokens=512\n",
    ")\n",
    "\n",
    "model_name = \"NetherlandsForensicInstitute/robbert-2022-dutch-sentence-transformers\"\n",
    "encode_kwargs = {'normalize_embeddings': False}\n",
    "\n",
    "class CustomEmbeddings(Embeddings):\n",
    "    def __init__(self, model_name: str):\n",
    "        self.model = SentenceTransformer(model_name)\n",
    "\n",
    "    def embed_documents(self, documents: List[str]) -> List[List[float]]:\n",
    "        return [self.model.encode(d).tolist() for d in documents]\n",
    "\n",
    "    def embed_query(self, query: str) -> List[float]:\n",
    "        return self.model.encode([query])[0].tolist()\n",
    "    \n",
    "model_name = \"NetherlandsForensicInstitute/robbert-2022-dutch-sentence-transformers\"\n",
    "encode_kwargs = {'normalize_embeddings': False}\n",
    "embeddings = HuggingFaceEmbeddings(\n",
    "    model_name=model_name,\n",
    "    encode_kwargs=encode_kwargs\n",
    ")\n",
    "\n",
    "embeddings = CustomEmbeddings(model_name=model_name)\n",
    "\n",
    "# Init OpenSearch client connection\n",
    "docsearch = OpenSearchVectorSearch(\n",
    "     index_name=\"aoss-index\",  # TODO: use the same index-name used in the ingestion script\n",
    "     embedding_function=embeddings,\n",
    "     opensearch_url=\"https://epcavlvwitam2ivpwv4k.eu-west-2.aoss.amazonaws.com:443\",  # TODO: e.g. use the AWS OpenSearch domain instantiated previously\n",
    "      http_auth = auth,\n",
    "      use_ssl = True,\n",
    "      verify_certs = True,\n",
    "      connection_class = RequestsHttpConnection,\n",
    ")\n",
    "\n",
    "retriever = docsearch.as_retriever(search_kwargs={'k': 5,\"vector_field\":\"vrtmax_catalog_vector\"})"
   ]
  },
  {
   "cell_type": "code",
   "execution_count": 8,
   "metadata": {},
   "outputs": [],
   "source": [
    "def format_docs(docs):\n",
    "    context = []\n",
    "    for d in docs:\n",
    "        program_description = \"\"\n",
    "        if d.metadata[\"mediacontent_page_description_program\"]  != \"\":\n",
    "            program_description = docs[0].metadata[\"mediacontent_page_description_program\"]\n",
    "        elif d.metadata[\"mediacontent_page_editorialtitle_program\"]  != \"\":\n",
    "            program_description = docs[0].metadata[\"mediacontent_page_editorialtitle_program\"]\n",
    "\n",
    "        context.append(\"Het programma met de naam \" + d.metadata[\"mediacontent_pagetitle_program\"] +\\\n",
    "                \" heeft volgende beschrijving: \" + program_description  +\\\n",
    "                \" De episode van dit programma heeft als beschrijving: \" + d.metadata[\"mediacontent_page_description\"] +\\\n",
    "                \" De episode zal online staan tot \" + d.metadata[\"offering_publication_planneduntil\"] +\\\n",
    "                \" De episode heeft als URL \" + d.metadata[\"mediacontent_pageurl\"] +\\\n",
    "                \" De episode heeft als foto \" + \"https:\" +d.metadata[\"mediacontent_imageurl\"] \n",
    "        )\n",
    "        \n",
    "    return \"\\n\\n\".join(context)"
   ]
  },
  {
   "cell_type": "code",
   "execution_count": 9,
   "metadata": {},
   "outputs": [],
   "source": [
    "\n",
    "system_prompt = \"\"\"\n",
    "Je bent een hulpvaardige assistent die Nederlands spreekt.\n",
    "Je krijgt vragen over de catalogus van programma's van het videoplatform VRT MAX. \n",
    "Je probeert mensen te helpen om programma's aan te bevelen die aansluiten bij hun vraag.\n",
    "Daarvoor krijg je een beschrijving van een aantal programma's.\n",
    "Aan jou om wat relevant is aan te bevelen.\n",
    "Begin niet met het geven van jouw mening over de programma's. Begin direct met het aanbevelen van relevante content aan de gebruiker.\n",
    "\"\"\"\n",
    "\n",
    "message = \"\"\"Beantwoordt de vraag op basis van de volgende context:\n",
    "\n",
    "{context}\n",
    "\n",
    "Vraag: {question}\n",
    "\"\"\"\n",
    "prompt = ChatPromptTemplate.from_messages(\n",
    "    [\n",
    "        (\"system\", system_prompt),\n",
    "        (\"human\", message),\n",
    "    ]\n",
    ")\n",
    "\n",
    "\n",
    "from langchain_core.runnables import RunnableParallel\n",
    "\n",
    "rag_chain_from_docs = (\n",
    "    RunnablePassthrough.assign(context=(lambda x: format_docs(x[\"context\"])))\n",
    "    | prompt\n",
    "    | llm\n",
    "    | StrOutputParser()\n",
    ")\n",
    "\n",
    "rag_chain_with_source = RunnableParallel(\n",
    "    {\"context\": retriever, \"question\": RunnablePassthrough()}\n",
    ").assign(answer=rag_chain_from_docs)\n",
    "\n",
    "config = {\"configurable\": {\"session_id\": \"special_key\"}}\n",
    "\n",
    "question = \"iets over geld en beleggen\"\n",
    "response = rag_chain_with_source.invoke({\"question\": question}, config)"
   ]
  },
  {
   "cell_type": "code",
   "execution_count": 13,
   "metadata": {},
   "outputs": [],
   "source": [
    "import mlflow"
   ]
  },
  {
   "cell_type": "code",
   "execution_count": 15,
   "metadata": {},
   "outputs": [
    {
     "name": "stdout",
     "output_type": "stream",
     "text": [
      "Overwriting chain.py\n"
     ]
    }
   ],
   "source": [
    "%%writefile chain.py\n",
    "import sagemaker\n",
    "import boto3\n",
    "import json\n",
    "import subprocess\n",
    "from langchain_aws import ChatBedrockConverse\n",
    "from os import environ\n",
    "from langchain.embeddings.huggingface import HuggingFaceEmbeddings\n",
    "from langchain.vectorstores import OpenSearchVectorSearch\n",
    "from opensearchpy import RequestsHttpConnection, AWSV4SignerAuth\n",
    "from langchain_core.prompts import ChatPromptTemplate\n",
    "from langchain_core.output_parsers import StrOutputParser\n",
    "from langchain_core.runnables import RunnablePassthrough\n",
    "from typing import List\n",
    "from langchain.embeddings.base import Embeddings\n",
    "from sentence_transformers import SentenceTransformer\n",
    "\n",
    "\n",
    "# LLM endpoint\n",
    "llm = ChatBedrockConverse(\n",
    "    region_name=\"eu-west-2\",\n",
    "    model=\"mistral.mistral-large-2402-v1:0\" , # \"meta.llama3-70b-instruct-v1:0\"\n",
    "    temperature=0.6,\n",
    "    top_p=0.6,\n",
    "    max_tokens=512\n",
    ")\n",
    "\n",
    "model_name = \"NetherlandsForensicInstitute/robbert-2022-dutch-sentence-transformers\"\n",
    "encode_kwargs = {'normalize_embeddings': False}\n",
    "\n",
    "class CustomEmbeddings(Embeddings):\n",
    "    def __init__(self, model_name: str):\n",
    "        self.model = SentenceTransformer(model_name)\n",
    "\n",
    "    def embed_documents(self, documents: List[str]) -> List[List[float]]:\n",
    "        return [self.model.encode(d).tolist() for d in documents]\n",
    "\n",
    "    def embed_query(self, query: str) -> List[float]:\n",
    "        return self.model.encode([query])[0].tolist()\n",
    "    \n",
    "model_name = \"NetherlandsForensicInstitute/robbert-2022-dutch-sentence-transformers\"\n",
    "encode_kwargs = {'normalize_embeddings': False}\n",
    "embeddings = HuggingFaceEmbeddings(\n",
    "    model_name=model_name,\n",
    "    encode_kwargs=encode_kwargs\n",
    ")\n",
    "\n",
    "embeddings = CustomEmbeddings(model_name=model_name)\n",
    "\n",
    "# Init OpenSearch client connection\n",
    "docsearch = OpenSearchVectorSearch(\n",
    "     index_name=\"aoss-index\",  # TODO: use the same index-name used in the ingestion script\n",
    "     embedding_function=embeddings,\n",
    "     opensearch_url=\"https://epcavlvwitam2ivpwv4k.eu-west-2.aoss.amazonaws.com:443\",  # TODO: e.g. use the AWS OpenSearch domain instantiated previously\n",
    "      http_auth = auth,\n",
    "      use_ssl = True,\n",
    "      verify_certs = True,\n",
    "      connection_class = RequestsHttpConnection,\n",
    ")\n",
    "\n",
    "retriever = docsearch.as_retriever(search_kwargs={'k': 5,\"vector_field\":\"vrtmax_catalog_vector\"})\n",
    "\n",
    "def format_docs(docs):\n",
    "    context = []\n",
    "    for d in docs:\n",
    "        program_description = \"\"\n",
    "        if d.metadata[\"mediacontent_page_description_program\"]  != \"\":\n",
    "            program_description = docs[0].metadata[\"mediacontent_page_description_program\"]\n",
    "        elif d.metadata[\"mediacontent_page_editorialtitle_program\"]  != \"\":\n",
    "            program_description = docs[0].metadata[\"mediacontent_page_editorialtitle_program\"]\n",
    "\n",
    "        context.append(\"Het programma met de naam \" + d.metadata[\"mediacontent_pagetitle_program\"] +\\\n",
    "                \" heeft volgende beschrijving: \" + program_description  +\\\n",
    "                \" De episode van dit programma heeft als beschrijving: \" + d.metadata[\"mediacontent_page_description\"] +\\\n",
    "                \" De episode zal online staan tot \" + d.metadata[\"offering_publication_planneduntil\"] +\\\n",
    "                \" De episode heeft als URL \" + d.metadata[\"mediacontent_pageurl\"] +\\\n",
    "                \" De episode heeft als foto \" + \"https:\" +d.metadata[\"mediacontent_imageurl\"] \n",
    "        )\n",
    "        \n",
    "    return \"\\n\\n\".join(context)\n",
    "\n",
    "\n",
    "system_prompt = \"\"\"\n",
    "Je bent een hulpvaardige assistent die Nederlands spreekt.\n",
    "Je krijgt vragen over de catalogus van programma's van het videoplatform VRT MAX. \n",
    "Je probeert mensen te helpen om programma's aan te bevelen die aansluiten bij hun vraag.\n",
    "Daarvoor krijg je een beschrijving van een aantal programma's.\n",
    "Aan jou om wat relevant is aan te bevelen.\n",
    "Begin niet met het geven van jouw mening over de programma's. Begin direct met het aanbevelen van relevante content aan de gebruiker.\n",
    "\"\"\"\n",
    "\n",
    "message = \"\"\"Beantwoordt de vraag op basis van de volgende context:\n",
    "\n",
    "{context}\n",
    "\n",
    "Vraag: {question}\n",
    "\"\"\"\n",
    "prompt = ChatPromptTemplate.from_messages(\n",
    "    [\n",
    "        (\"system\", system_prompt),\n",
    "        (\"human\", message),\n",
    "    ]\n",
    ")\n",
    "\n",
    "\n",
    "from langchain_core.runnables import RunnableParallel\n",
    "\n",
    "rag_chain_from_docs = (\n",
    "    RunnablePassthrough.assign(context=(lambda x: format_docs(x[\"context\"])))\n",
    "    | prompt\n",
    "    | llm\n",
    "    | StrOutputParser()\n",
    ")\n",
    "\n",
    "rag_chain_with_source = RunnableParallel(\n",
    "    {\"context\": retriever, \"question\": RunnablePassthrough()}\n",
    ").assign(answer=rag_chain_from_docs)\n",
    "\n",
    "config = {\"configurable\": {\"session_id\": \"special_key\"}}\n",
    "\n",
    "question = \"iets over geld en beleggen\"\n",
    "response = rag_chain_with_source.invoke({\"question\": question}, config)\n",
    "mlflow.models.set_model(rag_chain_with_source)"
   ]
  },
  {
   "cell_type": "code",
   "execution_count": 16,
   "metadata": {},
   "outputs": [
    {
     "ename": "MlflowException",
     "evalue": "Failed to run user code from /home/willem/Documents/vrt/vrtmax-llm/chain.py. Error: name 'auth' is not defined.Review the stack trace for more information.",
     "output_type": "error",
     "traceback": [
      "\u001b[0;31m---------------------------------------------------------------------------\u001b[0m",
      "\u001b[0;31mNameError\u001b[0m                                 Traceback (most recent call last)",
      "File \u001b[0;32m~/miniconda3/envs/llm/lib/python3.9/site-packages/mlflow/models/utils.py:1730\u001b[0m, in \u001b[0;36m_load_model_code_path\u001b[0;34m(code_path, config)\u001b[0m\n\u001b[1;32m   1729\u001b[0m     \u001b[38;5;28;01mwith\u001b[39;00m _mock_dbutils(module\u001b[38;5;241m.\u001b[39m\u001b[38;5;18m__dict__\u001b[39m):\n\u001b[0;32m-> 1730\u001b[0m         \u001b[43mspec\u001b[49m\u001b[38;5;241;43m.\u001b[39;49m\u001b[43mloader\u001b[49m\u001b[38;5;241;43m.\u001b[39;49m\u001b[43mexec_module\u001b[49m\u001b[43m(\u001b[49m\u001b[43mmodule\u001b[49m\u001b[43m)\u001b[49m\n\u001b[1;32m   1731\u001b[0m \u001b[38;5;28;01mexcept\u001b[39;00m \u001b[38;5;167;01mImportError\u001b[39;00m \u001b[38;5;28;01mas\u001b[39;00m e:\n",
      "File \u001b[0;32m<frozen importlib._bootstrap_external>:850\u001b[0m, in \u001b[0;36mexec_module\u001b[0;34m(self, module)\u001b[0m\n",
      "File \u001b[0;32m<frozen importlib._bootstrap>:228\u001b[0m, in \u001b[0;36m_call_with_frames_removed\u001b[0;34m(f, *args, **kwds)\u001b[0m\n",
      "File \u001b[0;32m~/Documents/vrt/vrtmax-llm/chain.py:54\u001b[0m\n\u001b[1;32m     49\u001b[0m \u001b[38;5;66;03m# Init OpenSearch client connection\u001b[39;00m\n\u001b[1;32m     50\u001b[0m docsearch \u001b[38;5;241m=\u001b[39m OpenSearchVectorSearch(\n\u001b[1;32m     51\u001b[0m      index_name\u001b[38;5;241m=\u001b[39m\u001b[38;5;124m\"\u001b[39m\u001b[38;5;124maoss-index\u001b[39m\u001b[38;5;124m\"\u001b[39m,  \u001b[38;5;66;03m# TODO: use the same index-name used in the ingestion script\u001b[39;00m\n\u001b[1;32m     52\u001b[0m      embedding_function\u001b[38;5;241m=\u001b[39membeddings,\n\u001b[1;32m     53\u001b[0m      opensearch_url\u001b[38;5;241m=\u001b[39m\u001b[38;5;124m\"\u001b[39m\u001b[38;5;124mhttps://epcavlvwitam2ivpwv4k.eu-west-2.aoss.amazonaws.com:443\u001b[39m\u001b[38;5;124m\"\u001b[39m,  \u001b[38;5;66;03m# TODO: e.g. use the AWS OpenSearch domain instantiated previously\u001b[39;00m\n\u001b[0;32m---> 54\u001b[0m       http_auth \u001b[38;5;241m=\u001b[39m \u001b[43mauth\u001b[49m,\n\u001b[1;32m     55\u001b[0m       use_ssl \u001b[38;5;241m=\u001b[39m \u001b[38;5;28;01mTrue\u001b[39;00m,\n\u001b[1;32m     56\u001b[0m       verify_certs \u001b[38;5;241m=\u001b[39m \u001b[38;5;28;01mTrue\u001b[39;00m,\n\u001b[1;32m     57\u001b[0m       connection_class \u001b[38;5;241m=\u001b[39m RequestsHttpConnection,\n\u001b[1;32m     58\u001b[0m )\n\u001b[1;32m     60\u001b[0m retriever \u001b[38;5;241m=\u001b[39m docsearch\u001b[38;5;241m.\u001b[39mas_retriever(search_kwargs\u001b[38;5;241m=\u001b[39m{\u001b[38;5;124m'\u001b[39m\u001b[38;5;124mk\u001b[39m\u001b[38;5;124m'\u001b[39m: \u001b[38;5;241m5\u001b[39m,\u001b[38;5;124m\"\u001b[39m\u001b[38;5;124mvector_field\u001b[39m\u001b[38;5;124m\"\u001b[39m:\u001b[38;5;124m\"\u001b[39m\u001b[38;5;124mvrtmax_catalog_vector\u001b[39m\u001b[38;5;124m\"\u001b[39m})\n",
      "\u001b[0;31mNameError\u001b[0m: name 'auth' is not defined",
      "\nThe above exception was the direct cause of the following exception:\n",
      "\u001b[0;31mMlflowException\u001b[0m                           Traceback (most recent call last)",
      "Cell \u001b[0;32mIn[16], line 2\u001b[0m\n\u001b[1;32m      1\u001b[0m \u001b[38;5;28;01mwith\u001b[39;00m mlflow\u001b[38;5;241m.\u001b[39mstart_run():\n\u001b[0;32m----> 2\u001b[0m     model_info \u001b[38;5;241m=\u001b[39m \u001b[43mmlflow\u001b[49m\u001b[38;5;241;43m.\u001b[39;49m\u001b[43mlangchain\u001b[49m\u001b[38;5;241;43m.\u001b[39;49m\u001b[43mlog_model\u001b[49m\u001b[43m(\u001b[49m\n\u001b[1;32m      3\u001b[0m \u001b[43m      \u001b[49m\u001b[43mlc_model\u001b[49m\u001b[38;5;241;43m=\u001b[39;49m\u001b[38;5;124;43m\"\u001b[39;49m\u001b[38;5;124;43mchain.py\u001b[39;49m\u001b[38;5;124;43m\"\u001b[39;49m\u001b[43m,\u001b[49m\n\u001b[1;32m      4\u001b[0m \u001b[43m      \u001b[49m\u001b[43martifact_path\u001b[49m\u001b[38;5;241;43m=\u001b[39;49m\u001b[38;5;124;43m\"\u001b[39;49m\u001b[38;5;124;43mchat_agent\u001b[39;49m\u001b[38;5;124;43m\"\u001b[39;49m\u001b[43m,\u001b[49m\n\u001b[1;32m      5\u001b[0m \u001b[43m    \u001b[49m\u001b[43m)\u001b[49m\n",
      "File \u001b[0;32m~/miniconda3/envs/llm/lib/python3.9/site-packages/mlflow/utils/docstring_utils.py:423\u001b[0m, in \u001b[0;36mdocstring_version_compatibility_warning.<locals>.annotated_func.<locals>.version_func\u001b[0;34m(*args, **kwargs)\u001b[0m\n\u001b[1;32m    417\u001b[0m \u001b[38;5;28;01mif\u001b[39;00m (\n\u001b[1;32m    418\u001b[0m     warn\n\u001b[1;32m    419\u001b[0m     \u001b[38;5;129;01mand\u001b[39;00m installed_version \u001b[38;5;241m<\u001b[39m Version(min_ver)\n\u001b[1;32m    420\u001b[0m     \u001b[38;5;129;01mor\u001b[39;00m installed_version \u001b[38;5;241m>\u001b[39m Version(max_ver)\n\u001b[1;32m    421\u001b[0m ):\n\u001b[1;32m    422\u001b[0m     _do_version_compatibility_warning(notice)\n\u001b[0;32m--> 423\u001b[0m \u001b[38;5;28;01mreturn\u001b[39;00m \u001b[43mfunc\u001b[49m\u001b[43m(\u001b[49m\u001b[38;5;241;43m*\u001b[39;49m\u001b[43margs\u001b[49m\u001b[43m,\u001b[49m\u001b[43m \u001b[49m\u001b[38;5;241;43m*\u001b[39;49m\u001b[38;5;241;43m*\u001b[39;49m\u001b[43mkwargs\u001b[49m\u001b[43m)\u001b[49m\n",
      "File \u001b[0;32m~/miniconda3/envs/llm/lib/python3.9/site-packages/mlflow/tracing/provider.py:237\u001b[0m, in \u001b[0;36mtrace_disabled.<locals>.wrapper\u001b[0;34m(*args, **kwargs)\u001b[0m\n\u001b[1;32m    235\u001b[0m disable()\n\u001b[1;32m    236\u001b[0m \u001b[38;5;28;01mtry\u001b[39;00m:\n\u001b[0;32m--> 237\u001b[0m     is_func_called, result \u001b[38;5;241m=\u001b[39m \u001b[38;5;28;01mTrue\u001b[39;00m, \u001b[43mf\u001b[49m\u001b[43m(\u001b[49m\u001b[38;5;241;43m*\u001b[39;49m\u001b[43margs\u001b[49m\u001b[43m,\u001b[49m\u001b[43m \u001b[49m\u001b[38;5;241;43m*\u001b[39;49m\u001b[38;5;241;43m*\u001b[39;49m\u001b[43mkwargs\u001b[49m\u001b[43m)\u001b[49m\n\u001b[1;32m    238\u001b[0m \u001b[38;5;28;01mfinally\u001b[39;00m:\n\u001b[1;32m    239\u001b[0m     enable()\n",
      "File \u001b[0;32m~/miniconda3/envs/llm/lib/python3.9/site-packages/mlflow/langchain/__init__.py:552\u001b[0m, in \u001b[0;36mlog_model\u001b[0;34m(lc_model, artifact_path, conda_env, code_paths, registered_model_name, signature, input_example, await_registration_for, pip_requirements, extra_pip_requirements, metadata, loader_fn, persist_dir, example_no_conversion, run_id, model_config, streamable)\u001b[0m\n\u001b[1;32m    405\u001b[0m \u001b[38;5;129m@experimental\u001b[39m\n\u001b[1;32m    406\u001b[0m \u001b[38;5;129m@format_docstring\u001b[39m(LOG_MODEL_PARAM_DOCS\u001b[38;5;241m.\u001b[39mformat(package_name\u001b[38;5;241m=\u001b[39mFLAVOR_NAME))\n\u001b[1;32m    407\u001b[0m \u001b[38;5;129m@docstring_version_compatibility_warning\u001b[39m(FLAVOR_NAME, warn\u001b[38;5;241m=\u001b[39m\u001b[38;5;28;01mFalse\u001b[39;00m)\n\u001b[0;32m   (...)\u001b[0m\n\u001b[1;32m    426\u001b[0m     streamable\u001b[38;5;241m=\u001b[39m\u001b[38;5;28;01mNone\u001b[39;00m,\n\u001b[1;32m    427\u001b[0m ):\n\u001b[1;32m    428\u001b[0m \u001b[38;5;250m    \u001b[39m\u001b[38;5;124;03m\"\"\"\u001b[39;00m\n\u001b[1;32m    429\u001b[0m \u001b[38;5;124;03m    Log a LangChain model as an MLflow artifact for the current run.\u001b[39;00m\n\u001b[1;32m    430\u001b[0m \n\u001b[0;32m   (...)\u001b[0m\n\u001b[1;32m    550\u001b[0m \u001b[38;5;124;03m        metadata of the logged model.\u001b[39;00m\n\u001b[1;32m    551\u001b[0m \u001b[38;5;124;03m    \"\"\"\u001b[39;00m\n\u001b[0;32m--> 552\u001b[0m     \u001b[38;5;28;01mreturn\u001b[39;00m \u001b[43mModel\u001b[49m\u001b[38;5;241;43m.\u001b[39;49m\u001b[43mlog\u001b[49m\u001b[43m(\u001b[49m\n\u001b[1;32m    553\u001b[0m \u001b[43m        \u001b[49m\u001b[43martifact_path\u001b[49m\u001b[38;5;241;43m=\u001b[39;49m\u001b[43martifact_path\u001b[49m\u001b[43m,\u001b[49m\n\u001b[1;32m    554\u001b[0m \u001b[43m        \u001b[49m\u001b[43mflavor\u001b[49m\u001b[38;5;241;43m=\u001b[39;49m\u001b[43mmlflow\u001b[49m\u001b[38;5;241;43m.\u001b[39;49m\u001b[43mlangchain\u001b[49m\u001b[43m,\u001b[49m\n\u001b[1;32m    555\u001b[0m \u001b[43m        \u001b[49m\u001b[43mregistered_model_name\u001b[49m\u001b[38;5;241;43m=\u001b[39;49m\u001b[43mregistered_model_name\u001b[49m\u001b[43m,\u001b[49m\n\u001b[1;32m    556\u001b[0m \u001b[43m        \u001b[49m\u001b[43mlc_model\u001b[49m\u001b[38;5;241;43m=\u001b[39;49m\u001b[43mlc_model\u001b[49m\u001b[43m,\u001b[49m\n\u001b[1;32m    557\u001b[0m \u001b[43m        \u001b[49m\u001b[43mconda_env\u001b[49m\u001b[38;5;241;43m=\u001b[39;49m\u001b[43mconda_env\u001b[49m\u001b[43m,\u001b[49m\n\u001b[1;32m    558\u001b[0m \u001b[43m        \u001b[49m\u001b[43mcode_paths\u001b[49m\u001b[38;5;241;43m=\u001b[39;49m\u001b[43mcode_paths\u001b[49m\u001b[43m,\u001b[49m\n\u001b[1;32m    559\u001b[0m \u001b[43m        \u001b[49m\u001b[43msignature\u001b[49m\u001b[38;5;241;43m=\u001b[39;49m\u001b[43msignature\u001b[49m\u001b[43m,\u001b[49m\n\u001b[1;32m    560\u001b[0m \u001b[43m        \u001b[49m\u001b[43minput_example\u001b[49m\u001b[38;5;241;43m=\u001b[39;49m\u001b[43minput_example\u001b[49m\u001b[43m,\u001b[49m\n\u001b[1;32m    561\u001b[0m \u001b[43m        \u001b[49m\u001b[43mawait_registration_for\u001b[49m\u001b[38;5;241;43m=\u001b[39;49m\u001b[43mawait_registration_for\u001b[49m\u001b[43m,\u001b[49m\n\u001b[1;32m    562\u001b[0m \u001b[43m        \u001b[49m\u001b[43mpip_requirements\u001b[49m\u001b[38;5;241;43m=\u001b[39;49m\u001b[43mpip_requirements\u001b[49m\u001b[43m,\u001b[49m\n\u001b[1;32m    563\u001b[0m \u001b[43m        \u001b[49m\u001b[43mextra_pip_requirements\u001b[49m\u001b[38;5;241;43m=\u001b[39;49m\u001b[43mextra_pip_requirements\u001b[49m\u001b[43m,\u001b[49m\n\u001b[1;32m    564\u001b[0m \u001b[43m        \u001b[49m\u001b[43mmetadata\u001b[49m\u001b[38;5;241;43m=\u001b[39;49m\u001b[43mmetadata\u001b[49m\u001b[43m,\u001b[49m\n\u001b[1;32m    565\u001b[0m \u001b[43m        \u001b[49m\u001b[43mloader_fn\u001b[49m\u001b[38;5;241;43m=\u001b[39;49m\u001b[43mloader_fn\u001b[49m\u001b[43m,\u001b[49m\n\u001b[1;32m    566\u001b[0m \u001b[43m        \u001b[49m\u001b[43mpersist_dir\u001b[49m\u001b[38;5;241;43m=\u001b[39;49m\u001b[43mpersist_dir\u001b[49m\u001b[43m,\u001b[49m\n\u001b[1;32m    567\u001b[0m \u001b[43m        \u001b[49m\u001b[43mexample_no_conversion\u001b[49m\u001b[38;5;241;43m=\u001b[39;49m\u001b[43mexample_no_conversion\u001b[49m\u001b[43m,\u001b[49m\n\u001b[1;32m    568\u001b[0m \u001b[43m        \u001b[49m\u001b[43mrun_id\u001b[49m\u001b[38;5;241;43m=\u001b[39;49m\u001b[43mrun_id\u001b[49m\u001b[43m,\u001b[49m\n\u001b[1;32m    569\u001b[0m \u001b[43m        \u001b[49m\u001b[43mmodel_config\u001b[49m\u001b[38;5;241;43m=\u001b[39;49m\u001b[43mmodel_config\u001b[49m\u001b[43m,\u001b[49m\n\u001b[1;32m    570\u001b[0m \u001b[43m        \u001b[49m\u001b[43mstreamable\u001b[49m\u001b[38;5;241;43m=\u001b[39;49m\u001b[43mstreamable\u001b[49m\u001b[43m,\u001b[49m\n\u001b[1;32m    571\u001b[0m \u001b[43m    \u001b[49m\u001b[43m)\u001b[49m\n",
      "File \u001b[0;32m~/miniconda3/envs/llm/lib/python3.9/site-packages/mlflow/models/model.py:698\u001b[0m, in \u001b[0;36mModel.log\u001b[0;34m(cls, artifact_path, flavor, registered_model_name, await_registration_for, metadata, run_id, resources, **kwargs)\u001b[0m\n\u001b[1;32m    694\u001b[0m     run_id \u001b[38;5;241m=\u001b[39m mlflow\u001b[38;5;241m.\u001b[39mtracking\u001b[38;5;241m.\u001b[39mfluent\u001b[38;5;241m.\u001b[39m_get_or_start_run()\u001b[38;5;241m.\u001b[39minfo\u001b[38;5;241m.\u001b[39mrun_id\n\u001b[1;32m    695\u001b[0m mlflow_model \u001b[38;5;241m=\u001b[39m \u001b[38;5;28mcls\u001b[39m(\n\u001b[1;32m    696\u001b[0m     artifact_path\u001b[38;5;241m=\u001b[39martifact_path, run_id\u001b[38;5;241m=\u001b[39mrun_id, metadata\u001b[38;5;241m=\u001b[39mmetadata, resources\u001b[38;5;241m=\u001b[39mresources\n\u001b[1;32m    697\u001b[0m )\n\u001b[0;32m--> 698\u001b[0m \u001b[43mflavor\u001b[49m\u001b[38;5;241;43m.\u001b[39;49m\u001b[43msave_model\u001b[49m\u001b[43m(\u001b[49m\u001b[43mpath\u001b[49m\u001b[38;5;241;43m=\u001b[39;49m\u001b[43mlocal_path\u001b[49m\u001b[43m,\u001b[49m\u001b[43m \u001b[49m\u001b[43mmlflow_model\u001b[49m\u001b[38;5;241;43m=\u001b[39;49m\u001b[43mmlflow_model\u001b[49m\u001b[43m,\u001b[49m\u001b[43m \u001b[49m\u001b[38;5;241;43m*\u001b[39;49m\u001b[38;5;241;43m*\u001b[39;49m\u001b[43mkwargs\u001b[49m\u001b[43m)\u001b[49m\n\u001b[1;32m    699\u001b[0m \u001b[38;5;66;03m# `save_model` calls `load_model` to infer the model requirements, which may result in\u001b[39;00m\n\u001b[1;32m    700\u001b[0m \u001b[38;5;66;03m# __pycache__ directories being created in the model directory.\u001b[39;00m\n\u001b[1;32m    701\u001b[0m \u001b[38;5;28;01mfor\u001b[39;00m pycache \u001b[38;5;129;01min\u001b[39;00m Path(local_path)\u001b[38;5;241m.\u001b[39mrglob(\u001b[38;5;124m\"\u001b[39m\u001b[38;5;124m__pycache__\u001b[39m\u001b[38;5;124m\"\u001b[39m):\n",
      "File \u001b[0;32m~/miniconda3/envs/llm/lib/python3.9/site-packages/mlflow/utils/docstring_utils.py:423\u001b[0m, in \u001b[0;36mdocstring_version_compatibility_warning.<locals>.annotated_func.<locals>.version_func\u001b[0;34m(*args, **kwargs)\u001b[0m\n\u001b[1;32m    417\u001b[0m \u001b[38;5;28;01mif\u001b[39;00m (\n\u001b[1;32m    418\u001b[0m     warn\n\u001b[1;32m    419\u001b[0m     \u001b[38;5;129;01mand\u001b[39;00m installed_version \u001b[38;5;241m<\u001b[39m Version(min_ver)\n\u001b[1;32m    420\u001b[0m     \u001b[38;5;129;01mor\u001b[39;00m installed_version \u001b[38;5;241m>\u001b[39m Version(max_ver)\n\u001b[1;32m    421\u001b[0m ):\n\u001b[1;32m    422\u001b[0m     _do_version_compatibility_warning(notice)\n\u001b[0;32m--> 423\u001b[0m \u001b[38;5;28;01mreturn\u001b[39;00m \u001b[43mfunc\u001b[49m\u001b[43m(\u001b[49m\u001b[38;5;241;43m*\u001b[39;49m\u001b[43margs\u001b[49m\u001b[43m,\u001b[49m\u001b[43m \u001b[49m\u001b[38;5;241;43m*\u001b[39;49m\u001b[38;5;241;43m*\u001b[39;49m\u001b[43mkwargs\u001b[49m\u001b[43m)\u001b[49m\n",
      "File \u001b[0;32m~/miniconda3/envs/llm/lib/python3.9/site-packages/mlflow/tracing/provider.py:241\u001b[0m, in \u001b[0;36mtrace_disabled.<locals>.wrapper\u001b[0;34m(*args, **kwargs)\u001b[0m\n\u001b[1;32m    239\u001b[0m             enable()\n\u001b[1;32m    240\u001b[0m     \u001b[38;5;28;01melse\u001b[39;00m:\n\u001b[0;32m--> 241\u001b[0m         is_func_called, result \u001b[38;5;241m=\u001b[39m \u001b[38;5;28;01mTrue\u001b[39;00m, \u001b[43mf\u001b[49m\u001b[43m(\u001b[49m\u001b[38;5;241;43m*\u001b[39;49m\u001b[43margs\u001b[49m\u001b[43m,\u001b[49m\u001b[43m \u001b[49m\u001b[38;5;241;43m*\u001b[39;49m\u001b[38;5;241;43m*\u001b[39;49m\u001b[43mkwargs\u001b[49m\u001b[43m)\u001b[49m\n\u001b[1;32m    242\u001b[0m \u001b[38;5;66;03m# We should only catch the exception from disable() and enable()\u001b[39;00m\n\u001b[1;32m    243\u001b[0m \u001b[38;5;66;03m# and let other exceptions propagate.\u001b[39;00m\n\u001b[1;32m    244\u001b[0m \u001b[38;5;28;01mexcept\u001b[39;00m MlflowTracingException \u001b[38;5;28;01mas\u001b[39;00m e:\n",
      "File \u001b[0;32m~/miniconda3/envs/llm/lib/python3.9/site-packages/mlflow/langchain/__init__.py:281\u001b[0m, in \u001b[0;36msave_model\u001b[0;34m(lc_model, path, conda_env, code_paths, mlflow_model, signature, input_example, pip_requirements, extra_pip_requirements, metadata, loader_fn, persist_dir, example_no_conversion, model_config, streamable)\u001b[0m\n\u001b[1;32m    275\u001b[0m \u001b[38;5;28;01mif\u001b[39;00m \u001b[38;5;28misinstance\u001b[39m(lc_model_or_path, \u001b[38;5;28mstr\u001b[39m):\n\u001b[1;32m    276\u001b[0m     \u001b[38;5;66;03m# The LangChain model is defined as Python code located in the file at the path\u001b[39;00m\n\u001b[1;32m    277\u001b[0m     \u001b[38;5;66;03m# specified by `lc_model`. Verify that the path exists and, if so, copy it to the\u001b[39;00m\n\u001b[1;32m    278\u001b[0m     \u001b[38;5;66;03m# model directory along with any other specified code modules\u001b[39;00m\n\u001b[1;32m    279\u001b[0m     model_code_path \u001b[38;5;241m=\u001b[39m lc_model_or_path\n\u001b[0;32m--> 281\u001b[0m     lc_model \u001b[38;5;241m=\u001b[39m \u001b[43m_load_model_code_path\u001b[49m\u001b[43m(\u001b[49m\u001b[43mmodel_code_path\u001b[49m\u001b[43m,\u001b[49m\u001b[43m \u001b[49m\u001b[43mmodel_config\u001b[49m\u001b[43m)\u001b[49m\n\u001b[1;32m    282\u001b[0m     _validate_and_copy_file_to_directory(model_code_path, path, \u001b[38;5;124m\"\u001b[39m\u001b[38;5;124mcode\u001b[39m\u001b[38;5;124m\"\u001b[39m)\n\u001b[1;32m    283\u001b[0m \u001b[38;5;28;01melse\u001b[39;00m:\n",
      "File \u001b[0;32m~/miniconda3/envs/llm/lib/python3.9/site-packages/mlflow/models/utils.py:1736\u001b[0m, in \u001b[0;36m_load_model_code_path\u001b[0;34m(code_path, config)\u001b[0m\n\u001b[1;32m   1732\u001b[0m         \u001b[38;5;28;01mraise\u001b[39;00m MlflowException(\n\u001b[1;32m   1733\u001b[0m             \u001b[38;5;124mf\u001b[39m\u001b[38;5;124m\"\u001b[39m\u001b[38;5;124mFailed to import code model from \u001b[39m\u001b[38;5;132;01m{\u001b[39;00mcode_path\u001b[38;5;132;01m}\u001b[39;00m\u001b[38;5;124m. Error: \u001b[39m\u001b[38;5;132;01m{\u001b[39;00me\u001b[38;5;132;01m!s}\u001b[39;00m\u001b[38;5;124m\"\u001b[39m\n\u001b[1;32m   1734\u001b[0m         ) \u001b[38;5;28;01mfrom\u001b[39;00m \u001b[38;5;21;01me\u001b[39;00m\n\u001b[1;32m   1735\u001b[0m     \u001b[38;5;28;01mexcept\u001b[39;00m \u001b[38;5;167;01mException\u001b[39;00m \u001b[38;5;28;01mas\u001b[39;00m e:\n\u001b[0;32m-> 1736\u001b[0m         \u001b[38;5;28;01mraise\u001b[39;00m MlflowException(\n\u001b[1;32m   1737\u001b[0m             \u001b[38;5;124mf\u001b[39m\u001b[38;5;124m\"\u001b[39m\u001b[38;5;124mFailed to run user code from \u001b[39m\u001b[38;5;132;01m{\u001b[39;00mcode_path\u001b[38;5;132;01m}\u001b[39;00m\u001b[38;5;124m. \u001b[39m\u001b[38;5;124m\"\u001b[39m\n\u001b[1;32m   1738\u001b[0m             \u001b[38;5;124mf\u001b[39m\u001b[38;5;124m\"\u001b[39m\u001b[38;5;124mError: \u001b[39m\u001b[38;5;132;01m{\u001b[39;00me\u001b[38;5;132;01m!s}\u001b[39;00m\u001b[38;5;124m.\u001b[39m\u001b[38;5;124m\"\u001b[39m\n\u001b[1;32m   1739\u001b[0m             \u001b[38;5;124m\"\u001b[39m\u001b[38;5;124mReview the stack trace for more information.\u001b[39m\u001b[38;5;124m\"\u001b[39m\n\u001b[1;32m   1740\u001b[0m         ) \u001b[38;5;28;01mfrom\u001b[39;00m \u001b[38;5;21;01me\u001b[39;00m\n\u001b[1;32m   1742\u001b[0m \u001b[38;5;28;01mif\u001b[39;00m mlflow\u001b[38;5;241m.\u001b[39mmodels\u001b[38;5;241m.\u001b[39mmodel\u001b[38;5;241m.\u001b[39m__mlflow_model__ \u001b[38;5;129;01mis\u001b[39;00m \u001b[38;5;28;01mNone\u001b[39;00m:\n\u001b[1;32m   1743\u001b[0m     \u001b[38;5;28;01mraise\u001b[39;00m MlflowException(\n\u001b[1;32m   1744\u001b[0m         \u001b[38;5;124m\"\u001b[39m\u001b[38;5;124mIf the model is logged as code, ensure the model is set using \u001b[39m\u001b[38;5;124m\"\u001b[39m\n\u001b[1;32m   1745\u001b[0m         \u001b[38;5;124m\"\u001b[39m\u001b[38;5;124mmlflow.models.set_model() within the code file code file.\u001b[39m\u001b[38;5;124m\"\u001b[39m\n\u001b[1;32m   1746\u001b[0m     )\n",
      "\u001b[0;31mMlflowException\u001b[0m: Failed to run user code from /home/willem/Documents/vrt/vrtmax-llm/chain.py. Error: name 'auth' is not defined.Review the stack trace for more information."
     ]
    }
   ],
   "source": [
    "with mlflow.start_run():\n",
    "    model_info = mlflow.langchain.log_model(\n",
    "      lc_model=\"chain.py\",\n",
    "      artifact_path=\"chat_agent\",\n",
    "    )\n"
   ]
  },
  {
   "cell_type": "code",
   "execution_count": 12,
   "metadata": {},
   "outputs": [
    {
     "name": "stderr",
     "output_type": "stream",
     "text": [
      "2024/09/05 10:55:19 INFO mlflow.tracking.fluent: Experiment with name 'Test' does not exist. Creating a new experiment.\n"
     ]
    },
    {
     "ename": "MlflowException",
     "evalue": "Failed to save runnable sequence: {'2': 'ChatBedrockConverse -- Cannot save runnable without `save` method.'}.",
     "output_type": "error",
     "traceback": [
      "\u001b[0;31m---------------------------------------------------------------------------\u001b[0m",
      "\u001b[0;31mMlflowException\u001b[0m                           Traceback (most recent call last)",
      "Cell \u001b[0;32mIn[12], line 5\u001b[0m\n\u001b[1;32m      2\u001b[0m mlflow\u001b[38;5;241m.\u001b[39mset_experiment(\u001b[38;5;124m\"\u001b[39m\u001b[38;5;124mTest\u001b[39m\u001b[38;5;124m\"\u001b[39m)\n\u001b[1;32m      4\u001b[0m \u001b[38;5;28;01mwith\u001b[39;00m mlflow\u001b[38;5;241m.\u001b[39mstart_run():\n\u001b[0;32m----> 5\u001b[0m     logged_model \u001b[38;5;241m=\u001b[39m \u001b[43mmlflow\u001b[49m\u001b[38;5;241;43m.\u001b[39;49m\u001b[43mlangchain\u001b[49m\u001b[38;5;241;43m.\u001b[39;49m\u001b[43mlog_model\u001b[49m\u001b[43m(\u001b[49m\u001b[43mrag_chain_from_docs\u001b[49m\u001b[43m,\u001b[49m\u001b[43m \u001b[49m\u001b[38;5;124;43m\"\u001b[39;49m\u001b[38;5;124;43mlangchain_model\u001b[39;49m\u001b[38;5;124;43m\"\u001b[39;49m\u001b[43m)\u001b[49m\n",
      "File \u001b[0;32m~/miniconda3/envs/llm/lib/python3.9/site-packages/mlflow/utils/docstring_utils.py:423\u001b[0m, in \u001b[0;36mdocstring_version_compatibility_warning.<locals>.annotated_func.<locals>.version_func\u001b[0;34m(*args, **kwargs)\u001b[0m\n\u001b[1;32m    417\u001b[0m \u001b[38;5;28;01mif\u001b[39;00m (\n\u001b[1;32m    418\u001b[0m     warn\n\u001b[1;32m    419\u001b[0m     \u001b[38;5;129;01mand\u001b[39;00m installed_version \u001b[38;5;241m<\u001b[39m Version(min_ver)\n\u001b[1;32m    420\u001b[0m     \u001b[38;5;129;01mor\u001b[39;00m installed_version \u001b[38;5;241m>\u001b[39m Version(max_ver)\n\u001b[1;32m    421\u001b[0m ):\n\u001b[1;32m    422\u001b[0m     _do_version_compatibility_warning(notice)\n\u001b[0;32m--> 423\u001b[0m \u001b[38;5;28;01mreturn\u001b[39;00m \u001b[43mfunc\u001b[49m\u001b[43m(\u001b[49m\u001b[38;5;241;43m*\u001b[39;49m\u001b[43margs\u001b[49m\u001b[43m,\u001b[49m\u001b[43m \u001b[49m\u001b[38;5;241;43m*\u001b[39;49m\u001b[38;5;241;43m*\u001b[39;49m\u001b[43mkwargs\u001b[49m\u001b[43m)\u001b[49m\n",
      "File \u001b[0;32m~/miniconda3/envs/llm/lib/python3.9/site-packages/mlflow/tracing/provider.py:237\u001b[0m, in \u001b[0;36mtrace_disabled.<locals>.wrapper\u001b[0;34m(*args, **kwargs)\u001b[0m\n\u001b[1;32m    235\u001b[0m disable()\n\u001b[1;32m    236\u001b[0m \u001b[38;5;28;01mtry\u001b[39;00m:\n\u001b[0;32m--> 237\u001b[0m     is_func_called, result \u001b[38;5;241m=\u001b[39m \u001b[38;5;28;01mTrue\u001b[39;00m, \u001b[43mf\u001b[49m\u001b[43m(\u001b[49m\u001b[38;5;241;43m*\u001b[39;49m\u001b[43margs\u001b[49m\u001b[43m,\u001b[49m\u001b[43m \u001b[49m\u001b[38;5;241;43m*\u001b[39;49m\u001b[38;5;241;43m*\u001b[39;49m\u001b[43mkwargs\u001b[49m\u001b[43m)\u001b[49m\n\u001b[1;32m    238\u001b[0m \u001b[38;5;28;01mfinally\u001b[39;00m:\n\u001b[1;32m    239\u001b[0m     enable()\n",
      "File \u001b[0;32m~/miniconda3/envs/llm/lib/python3.9/site-packages/mlflow/langchain/__init__.py:552\u001b[0m, in \u001b[0;36mlog_model\u001b[0;34m(lc_model, artifact_path, conda_env, code_paths, registered_model_name, signature, input_example, await_registration_for, pip_requirements, extra_pip_requirements, metadata, loader_fn, persist_dir, example_no_conversion, run_id, model_config, streamable)\u001b[0m\n\u001b[1;32m    405\u001b[0m \u001b[38;5;129m@experimental\u001b[39m\n\u001b[1;32m    406\u001b[0m \u001b[38;5;129m@format_docstring\u001b[39m(LOG_MODEL_PARAM_DOCS\u001b[38;5;241m.\u001b[39mformat(package_name\u001b[38;5;241m=\u001b[39mFLAVOR_NAME))\n\u001b[1;32m    407\u001b[0m \u001b[38;5;129m@docstring_version_compatibility_warning\u001b[39m(FLAVOR_NAME, warn\u001b[38;5;241m=\u001b[39m\u001b[38;5;28;01mFalse\u001b[39;00m)\n\u001b[0;32m   (...)\u001b[0m\n\u001b[1;32m    426\u001b[0m     streamable\u001b[38;5;241m=\u001b[39m\u001b[38;5;28;01mNone\u001b[39;00m,\n\u001b[1;32m    427\u001b[0m ):\n\u001b[1;32m    428\u001b[0m \u001b[38;5;250m    \u001b[39m\u001b[38;5;124;03m\"\"\"\u001b[39;00m\n\u001b[1;32m    429\u001b[0m \u001b[38;5;124;03m    Log a LangChain model as an MLflow artifact for the current run.\u001b[39;00m\n\u001b[1;32m    430\u001b[0m \n\u001b[0;32m   (...)\u001b[0m\n\u001b[1;32m    550\u001b[0m \u001b[38;5;124;03m        metadata of the logged model.\u001b[39;00m\n\u001b[1;32m    551\u001b[0m \u001b[38;5;124;03m    \"\"\"\u001b[39;00m\n\u001b[0;32m--> 552\u001b[0m     \u001b[38;5;28;01mreturn\u001b[39;00m \u001b[43mModel\u001b[49m\u001b[38;5;241;43m.\u001b[39;49m\u001b[43mlog\u001b[49m\u001b[43m(\u001b[49m\n\u001b[1;32m    553\u001b[0m \u001b[43m        \u001b[49m\u001b[43martifact_path\u001b[49m\u001b[38;5;241;43m=\u001b[39;49m\u001b[43martifact_path\u001b[49m\u001b[43m,\u001b[49m\n\u001b[1;32m    554\u001b[0m \u001b[43m        \u001b[49m\u001b[43mflavor\u001b[49m\u001b[38;5;241;43m=\u001b[39;49m\u001b[43mmlflow\u001b[49m\u001b[38;5;241;43m.\u001b[39;49m\u001b[43mlangchain\u001b[49m\u001b[43m,\u001b[49m\n\u001b[1;32m    555\u001b[0m \u001b[43m        \u001b[49m\u001b[43mregistered_model_name\u001b[49m\u001b[38;5;241;43m=\u001b[39;49m\u001b[43mregistered_model_name\u001b[49m\u001b[43m,\u001b[49m\n\u001b[1;32m    556\u001b[0m \u001b[43m        \u001b[49m\u001b[43mlc_model\u001b[49m\u001b[38;5;241;43m=\u001b[39;49m\u001b[43mlc_model\u001b[49m\u001b[43m,\u001b[49m\n\u001b[1;32m    557\u001b[0m \u001b[43m        \u001b[49m\u001b[43mconda_env\u001b[49m\u001b[38;5;241;43m=\u001b[39;49m\u001b[43mconda_env\u001b[49m\u001b[43m,\u001b[49m\n\u001b[1;32m    558\u001b[0m \u001b[43m        \u001b[49m\u001b[43mcode_paths\u001b[49m\u001b[38;5;241;43m=\u001b[39;49m\u001b[43mcode_paths\u001b[49m\u001b[43m,\u001b[49m\n\u001b[1;32m    559\u001b[0m \u001b[43m        \u001b[49m\u001b[43msignature\u001b[49m\u001b[38;5;241;43m=\u001b[39;49m\u001b[43msignature\u001b[49m\u001b[43m,\u001b[49m\n\u001b[1;32m    560\u001b[0m \u001b[43m        \u001b[49m\u001b[43minput_example\u001b[49m\u001b[38;5;241;43m=\u001b[39;49m\u001b[43minput_example\u001b[49m\u001b[43m,\u001b[49m\n\u001b[1;32m    561\u001b[0m \u001b[43m        \u001b[49m\u001b[43mawait_registration_for\u001b[49m\u001b[38;5;241;43m=\u001b[39;49m\u001b[43mawait_registration_for\u001b[49m\u001b[43m,\u001b[49m\n\u001b[1;32m    562\u001b[0m \u001b[43m        \u001b[49m\u001b[43mpip_requirements\u001b[49m\u001b[38;5;241;43m=\u001b[39;49m\u001b[43mpip_requirements\u001b[49m\u001b[43m,\u001b[49m\n\u001b[1;32m    563\u001b[0m \u001b[43m        \u001b[49m\u001b[43mextra_pip_requirements\u001b[49m\u001b[38;5;241;43m=\u001b[39;49m\u001b[43mextra_pip_requirements\u001b[49m\u001b[43m,\u001b[49m\n\u001b[1;32m    564\u001b[0m \u001b[43m        \u001b[49m\u001b[43mmetadata\u001b[49m\u001b[38;5;241;43m=\u001b[39;49m\u001b[43mmetadata\u001b[49m\u001b[43m,\u001b[49m\n\u001b[1;32m    565\u001b[0m \u001b[43m        \u001b[49m\u001b[43mloader_fn\u001b[49m\u001b[38;5;241;43m=\u001b[39;49m\u001b[43mloader_fn\u001b[49m\u001b[43m,\u001b[49m\n\u001b[1;32m    566\u001b[0m \u001b[43m        \u001b[49m\u001b[43mpersist_dir\u001b[49m\u001b[38;5;241;43m=\u001b[39;49m\u001b[43mpersist_dir\u001b[49m\u001b[43m,\u001b[49m\n\u001b[1;32m    567\u001b[0m \u001b[43m        \u001b[49m\u001b[43mexample_no_conversion\u001b[49m\u001b[38;5;241;43m=\u001b[39;49m\u001b[43mexample_no_conversion\u001b[49m\u001b[43m,\u001b[49m\n\u001b[1;32m    568\u001b[0m \u001b[43m        \u001b[49m\u001b[43mrun_id\u001b[49m\u001b[38;5;241;43m=\u001b[39;49m\u001b[43mrun_id\u001b[49m\u001b[43m,\u001b[49m\n\u001b[1;32m    569\u001b[0m \u001b[43m        \u001b[49m\u001b[43mmodel_config\u001b[49m\u001b[38;5;241;43m=\u001b[39;49m\u001b[43mmodel_config\u001b[49m\u001b[43m,\u001b[49m\n\u001b[1;32m    570\u001b[0m \u001b[43m        \u001b[49m\u001b[43mstreamable\u001b[49m\u001b[38;5;241;43m=\u001b[39;49m\u001b[43mstreamable\u001b[49m\u001b[43m,\u001b[49m\n\u001b[1;32m    571\u001b[0m \u001b[43m    \u001b[49m\u001b[43m)\u001b[49m\n",
      "File \u001b[0;32m~/miniconda3/envs/llm/lib/python3.9/site-packages/mlflow/models/model.py:698\u001b[0m, in \u001b[0;36mModel.log\u001b[0;34m(cls, artifact_path, flavor, registered_model_name, await_registration_for, metadata, run_id, resources, **kwargs)\u001b[0m\n\u001b[1;32m    694\u001b[0m     run_id \u001b[38;5;241m=\u001b[39m mlflow\u001b[38;5;241m.\u001b[39mtracking\u001b[38;5;241m.\u001b[39mfluent\u001b[38;5;241m.\u001b[39m_get_or_start_run()\u001b[38;5;241m.\u001b[39minfo\u001b[38;5;241m.\u001b[39mrun_id\n\u001b[1;32m    695\u001b[0m mlflow_model \u001b[38;5;241m=\u001b[39m \u001b[38;5;28mcls\u001b[39m(\n\u001b[1;32m    696\u001b[0m     artifact_path\u001b[38;5;241m=\u001b[39martifact_path, run_id\u001b[38;5;241m=\u001b[39mrun_id, metadata\u001b[38;5;241m=\u001b[39mmetadata, resources\u001b[38;5;241m=\u001b[39mresources\n\u001b[1;32m    697\u001b[0m )\n\u001b[0;32m--> 698\u001b[0m \u001b[43mflavor\u001b[49m\u001b[38;5;241;43m.\u001b[39;49m\u001b[43msave_model\u001b[49m\u001b[43m(\u001b[49m\u001b[43mpath\u001b[49m\u001b[38;5;241;43m=\u001b[39;49m\u001b[43mlocal_path\u001b[49m\u001b[43m,\u001b[49m\u001b[43m \u001b[49m\u001b[43mmlflow_model\u001b[49m\u001b[38;5;241;43m=\u001b[39;49m\u001b[43mmlflow_model\u001b[49m\u001b[43m,\u001b[49m\u001b[43m \u001b[49m\u001b[38;5;241;43m*\u001b[39;49m\u001b[38;5;241;43m*\u001b[39;49m\u001b[43mkwargs\u001b[49m\u001b[43m)\u001b[49m\n\u001b[1;32m    699\u001b[0m \u001b[38;5;66;03m# `save_model` calls `load_model` to infer the model requirements, which may result in\u001b[39;00m\n\u001b[1;32m    700\u001b[0m \u001b[38;5;66;03m# __pycache__ directories being created in the model directory.\u001b[39;00m\n\u001b[1;32m    701\u001b[0m \u001b[38;5;28;01mfor\u001b[39;00m pycache \u001b[38;5;129;01min\u001b[39;00m Path(local_path)\u001b[38;5;241m.\u001b[39mrglob(\u001b[38;5;124m\"\u001b[39m\u001b[38;5;124m__pycache__\u001b[39m\u001b[38;5;124m\"\u001b[39m):\n",
      "File \u001b[0;32m~/miniconda3/envs/llm/lib/python3.9/site-packages/mlflow/utils/docstring_utils.py:423\u001b[0m, in \u001b[0;36mdocstring_version_compatibility_warning.<locals>.annotated_func.<locals>.version_func\u001b[0;34m(*args, **kwargs)\u001b[0m\n\u001b[1;32m    417\u001b[0m \u001b[38;5;28;01mif\u001b[39;00m (\n\u001b[1;32m    418\u001b[0m     warn\n\u001b[1;32m    419\u001b[0m     \u001b[38;5;129;01mand\u001b[39;00m installed_version \u001b[38;5;241m<\u001b[39m Version(min_ver)\n\u001b[1;32m    420\u001b[0m     \u001b[38;5;129;01mor\u001b[39;00m installed_version \u001b[38;5;241m>\u001b[39m Version(max_ver)\n\u001b[1;32m    421\u001b[0m ):\n\u001b[1;32m    422\u001b[0m     _do_version_compatibility_warning(notice)\n\u001b[0;32m--> 423\u001b[0m \u001b[38;5;28;01mreturn\u001b[39;00m \u001b[43mfunc\u001b[49m\u001b[43m(\u001b[49m\u001b[38;5;241;43m*\u001b[39;49m\u001b[43margs\u001b[49m\u001b[43m,\u001b[49m\u001b[43m \u001b[49m\u001b[38;5;241;43m*\u001b[39;49m\u001b[38;5;241;43m*\u001b[39;49m\u001b[43mkwargs\u001b[49m\u001b[43m)\u001b[49m\n",
      "File \u001b[0;32m~/miniconda3/envs/llm/lib/python3.9/site-packages/mlflow/tracing/provider.py:241\u001b[0m, in \u001b[0;36mtrace_disabled.<locals>.wrapper\u001b[0;34m(*args, **kwargs)\u001b[0m\n\u001b[1;32m    239\u001b[0m             enable()\n\u001b[1;32m    240\u001b[0m     \u001b[38;5;28;01melse\u001b[39;00m:\n\u001b[0;32m--> 241\u001b[0m         is_func_called, result \u001b[38;5;241m=\u001b[39m \u001b[38;5;28;01mTrue\u001b[39;00m, \u001b[43mf\u001b[49m\u001b[43m(\u001b[49m\u001b[38;5;241;43m*\u001b[39;49m\u001b[43margs\u001b[49m\u001b[43m,\u001b[49m\u001b[43m \u001b[49m\u001b[38;5;241;43m*\u001b[39;49m\u001b[38;5;241;43m*\u001b[39;49m\u001b[43mkwargs\u001b[49m\u001b[43m)\u001b[49m\n\u001b[1;32m    242\u001b[0m \u001b[38;5;66;03m# We should only catch the exception from disable() and enable()\u001b[39;00m\n\u001b[1;32m    243\u001b[0m \u001b[38;5;66;03m# and let other exceptions propagate.\u001b[39;00m\n\u001b[1;32m    244\u001b[0m \u001b[38;5;28;01mexcept\u001b[39;00m MlflowTracingException \u001b[38;5;28;01mas\u001b[39;00m e:\n",
      "File \u001b[0;32m~/miniconda3/envs/llm/lib/python3.9/site-packages/mlflow/langchain/__init__.py:344\u001b[0m, in \u001b[0;36msave_model\u001b[0;34m(lc_model, path, conda_env, code_paths, mlflow_model, signature, input_example, pip_requirements, extra_pip_requirements, metadata, loader_fn, persist_dir, example_no_conversion, model_config, streamable)\u001b[0m\n\u001b[1;32m    342\u001b[0m flavor_conf \u001b[38;5;241m=\u001b[39m {}\n\u001b[1;32m    343\u001b[0m \u001b[38;5;28;01mif\u001b[39;00m \u001b[38;5;129;01mnot\u001b[39;00m \u001b[38;5;28misinstance\u001b[39m(model_code_path, \u001b[38;5;28mstr\u001b[39m):\n\u001b[0;32m--> 344\u001b[0m     model_data_kwargs \u001b[38;5;241m=\u001b[39m \u001b[43m_save_model\u001b[49m\u001b[43m(\u001b[49m\u001b[43mlc_model\u001b[49m\u001b[43m,\u001b[49m\u001b[43m \u001b[49m\u001b[43mpath\u001b[49m\u001b[43m,\u001b[49m\u001b[43m \u001b[49m\u001b[43mloader_fn\u001b[49m\u001b[43m,\u001b[49m\u001b[43m \u001b[49m\u001b[43mpersist_dir\u001b[49m\u001b[43m)\u001b[49m\n\u001b[1;32m    345\u001b[0m     flavor_conf \u001b[38;5;241m=\u001b[39m {\n\u001b[1;32m    346\u001b[0m         _MODEL_TYPE_KEY: lc_model\u001b[38;5;241m.\u001b[39m\u001b[38;5;18m__class__\u001b[39m\u001b[38;5;241m.\u001b[39m\u001b[38;5;18m__name__\u001b[39m,\n\u001b[1;32m    347\u001b[0m         \u001b[38;5;241m*\u001b[39m\u001b[38;5;241m*\u001b[39mmodel_data_kwargs,\n\u001b[1;32m    348\u001b[0m     }\n\u001b[1;32m    350\u001b[0m pyfunc\u001b[38;5;241m.\u001b[39madd_to_model(\n\u001b[1;32m    351\u001b[0m     mlflow_model,\n\u001b[1;32m    352\u001b[0m     loader_module\u001b[38;5;241m=\u001b[39m\u001b[38;5;124m\"\u001b[39m\u001b[38;5;124mmlflow.langchain\u001b[39m\u001b[38;5;124m\"\u001b[39m,\n\u001b[0;32m   (...)\u001b[0m\n\u001b[1;32m    360\u001b[0m     \u001b[38;5;241m*\u001b[39m\u001b[38;5;241m*\u001b[39mmodel_data_kwargs,\n\u001b[1;32m    361\u001b[0m )\n",
      "File \u001b[0;32m~/miniconda3/envs/llm/lib/python3.9/site-packages/mlflow/langchain/__init__.py:586\u001b[0m, in \u001b[0;36m_save_model\u001b[0;34m(model, path, loader_fn, persist_dir)\u001b[0m\n\u001b[1;32m    584\u001b[0m \u001b[38;5;28;01mwith\u001b[39;00m register_pydantic_v1_serializer_cm(), patch_langchain_type_to_cls_dict():\n\u001b[1;32m    585\u001b[0m     \u001b[38;5;28;01mif\u001b[39;00m \u001b[38;5;28misinstance\u001b[39m(model, lc_runnables_types()):\n\u001b[0;32m--> 586\u001b[0m         \u001b[38;5;28;01mreturn\u001b[39;00m \u001b[43m_save_runnables\u001b[49m\u001b[43m(\u001b[49m\u001b[43mmodel\u001b[49m\u001b[43m,\u001b[49m\u001b[43m \u001b[49m\u001b[43mpath\u001b[49m\u001b[43m,\u001b[49m\u001b[43m \u001b[49m\u001b[43mloader_fn\u001b[49m\u001b[38;5;241;43m=\u001b[39;49m\u001b[43mloader_fn\u001b[49m\u001b[43m,\u001b[49m\u001b[43m \u001b[49m\u001b[43mpersist_dir\u001b[49m\u001b[38;5;241;43m=\u001b[39;49m\u001b[43mpersist_dir\u001b[49m\u001b[43m)\u001b[49m\n\u001b[1;32m    587\u001b[0m     \u001b[38;5;28;01melse\u001b[39;00m:\n\u001b[1;32m    588\u001b[0m         \u001b[38;5;28;01mreturn\u001b[39;00m _save_base_lcs(model, path, loader_fn, persist_dir)\n",
      "File \u001b[0;32m~/miniconda3/envs/llm/lib/python3.9/site-packages/mlflow/langchain/runnables.py:447\u001b[0m, in \u001b[0;36m_save_runnables\u001b[0;34m(model, path, loader_fn, persist_dir)\u001b[0m\n\u001b[1;32m    445\u001b[0m \u001b[38;5;28;01mif\u001b[39;00m \u001b[38;5;28misinstance\u001b[39m(model, lc_runnable_with_steps_types()):\n\u001b[1;32m    446\u001b[0m     model_data_path \u001b[38;5;241m=\u001b[39m _MODEL_DATA_FOLDER_NAME\n\u001b[0;32m--> 447\u001b[0m     \u001b[43m_save_runnable_with_steps\u001b[49m\u001b[43m(\u001b[49m\n\u001b[1;32m    448\u001b[0m \u001b[43m        \u001b[49m\u001b[43mmodel\u001b[49m\u001b[43m,\u001b[49m\u001b[43m \u001b[49m\u001b[43mos\u001b[49m\u001b[38;5;241;43m.\u001b[39;49m\u001b[43mpath\u001b[49m\u001b[38;5;241;43m.\u001b[39;49m\u001b[43mjoin\u001b[49m\u001b[43m(\u001b[49m\u001b[43mpath\u001b[49m\u001b[43m,\u001b[49m\u001b[43m \u001b[49m\u001b[43mmodel_data_path\u001b[49m\u001b[43m)\u001b[49m\u001b[43m,\u001b[49m\u001b[43m \u001b[49m\u001b[43mloader_fn\u001b[49m\u001b[43m,\u001b[49m\u001b[43m \u001b[49m\u001b[43mpersist_dir\u001b[49m\n\u001b[1;32m    449\u001b[0m \u001b[43m    \u001b[49m\u001b[43m)\u001b[49m\n\u001b[1;32m    450\u001b[0m \u001b[38;5;28;01melif\u001b[39;00m \u001b[38;5;28misinstance\u001b[39m(model, picklable_runnable_types()):\n\u001b[1;32m    451\u001b[0m     model_data_path \u001b[38;5;241m=\u001b[39m _MODEL_DATA_PKL_FILE_NAME\n",
      "File \u001b[0;32m~/miniconda3/envs/llm/lib/python3.9/site-packages/mlflow/langchain/runnables.py:333\u001b[0m, in \u001b[0;36m_save_runnable_with_steps\u001b[0;34m(model, file_path, loader_fn, persist_dir)\u001b[0m\n\u001b[1;32m    330\u001b[0m         unsaved_runnables[step] \u001b[38;5;241m=\u001b[39m \u001b[38;5;124mf\u001b[39m\u001b[38;5;124m\"\u001b[39m\u001b[38;5;132;01m{\u001b[39;00mrunnable\u001b[38;5;241m.\u001b[39mget_name()\u001b[38;5;132;01m}\u001b[39;00m\u001b[38;5;124m -- \u001b[39m\u001b[38;5;132;01m{\u001b[39;00me\u001b[38;5;132;01m}\u001b[39;00m\u001b[38;5;124m\"\u001b[39m\n\u001b[1;32m    332\u001b[0m \u001b[38;5;28;01mif\u001b[39;00m unsaved_runnables:\n\u001b[0;32m--> 333\u001b[0m     \u001b[38;5;28;01mraise\u001b[39;00m MlflowException(\u001b[38;5;124mf\u001b[39m\u001b[38;5;124m\"\u001b[39m\u001b[38;5;124mFailed to save runnable sequence: \u001b[39m\u001b[38;5;132;01m{\u001b[39;00munsaved_runnables\u001b[38;5;132;01m}\u001b[39;00m\u001b[38;5;124m.\u001b[39m\u001b[38;5;124m\"\u001b[39m)\n\u001b[1;32m    335\u001b[0m \u001b[38;5;66;03m# save steps configs\u001b[39;00m\n\u001b[1;32m    336\u001b[0m \u001b[38;5;28;01mwith\u001b[39;00m save_path\u001b[38;5;241m.\u001b[39mjoinpath(_RUNNABLE_STEPS_FILE_NAME)\u001b[38;5;241m.\u001b[39mopen(\u001b[38;5;124m\"\u001b[39m\u001b[38;5;124mw\u001b[39m\u001b[38;5;124m\"\u001b[39m) \u001b[38;5;28;01mas\u001b[39;00m f:\n",
      "\u001b[0;31mMlflowException\u001b[0m: Failed to save runnable sequence: {'2': 'ChatBedrockConverse -- Cannot save runnable without `save` method.'}."
     ]
    }
   ],
   "source": [
    "import mlflow\n",
    "mlflow.set_experiment(\"Test\")\n",
    "\n",
    "with mlflow.start_run():\n",
    "    logged_model = mlflow.langchain.log_model(rag_chain_from_docs, \"langchain_model\")"
   ]
  },
  {
   "cell_type": "code",
   "execution_count": 53,
   "metadata": {},
   "outputs": [
    {
     "data": {
      "text/plain": [
       "{'context': [Document(metadata={'mediacontent_page_description_program': '', 'mediacontent_page_description': 'Wat is een blockchain? Hét woord van de voorbije jaren: blockchain! En na deze video met wiskundige An Braeken (VUB) snap jij ook perfect wat de blockchain is.', 'mediacontent_page_editorialtitle_program': 'Krijg simpele antwoorden op wetenschappelijke vragen', 'mediacontent_pagetitle_program': 'WetenSNAP', 'mediacontent_pagetitle_season': '2022-2023', 'mediacontent_pagetitle': 'Wat is een blockchain?', 'offering_publication_planneduntil': '2032-12-31 22:59:00.000', 'brand_contentbrand': 'radio1', 'mediacontent_pageurl': 'https://www.vrt.be/vrtnu/a-z/wetensnap/2022-2023/wetensnap-s2022-2023a19/', 'mediacontent_imageurl': '//images.vrt.be/orig/2022/10/26/84c3f8c6-5525-11ed-b07d-02b7b76bf47f.png', 'mediacontent_programimageurl': '//images.vrt.be/orig/2022/09/29/bae33113-400c-11ed-b07d-02b7b76bf47f.jpg'}, page_content=\"Iets met je bankkaart kopen, geld overschrijven of geld storten op je eigen rekening, dat gebeurt via de bank. We vertrouwen erop dat de banken alles correct afhandelen, maar de banken kunnen fouten maken en in theorie zelfs frauderen. Met blockchain is er geen centrale organisatie, zoals de bank, die alles regelt en controleert. Blockchain werd voor het eerst gebruikt om bitcoins te verhandelen. Iedereen kan online invullen hoeveel bitcoins hij heeft gekocht of verkocht. Klinkt geweldig als je snel rijk wilt worden. Je kan gewoon in het systeem noteren dat je 1000 bitcoins hebt. Uiteraard werkt het zo niet. Als je iets wilt aanpassen in de blockchain, moet je via een code aantonen dat jij de eigenaar bent van die 1000 bitcoins. Bovendien kan je niet stiekem iets veranderen in de boekhouding van twee jaar geleden. Typisch voor blockchain is dat die boekhouding om de zoveel tijd als definitief wordt afgeklopt. Op zo'n moment wordt op duizenden computers die meedoen één juiste boekhouding vastgelegd. Daar kan niets meer aan veranderd worden, want vanaf dan werkt iedereen met die ene boekhouding. Dat is cruciaal voor blockchain. Het kan dat er door foutjes of fraude verschillende versies zijn, maar op deze manier kunnen de fouten zich niet opstapelen. Er wordt steeds meer mee geëxperimenteerd en wie weet worden binnenkort copyrights of diploma's van studenten beheerd op de blockchain.  Wat is een blockchain? Hét woord van de voorbije jaren: blockchain! En na deze video met wiskundige An Braeken (VUB) snap jij ook perfect wat de blockchain is. Krijg simpele antwoorden op wetenschappelijke vragen\"),\n",
       "  Document(metadata={'mediacontent_page_description_program': '', 'mediacontent_page_description': 'Heb jij zeven jaar geleden voor een luttele 50 euro in bitcoins geïnvesteerd? Proficiat, je bent intussen waarschijnlijk miljonair. Maar wist je ook dat de milieu-impact van de bitcoin daardoor ook tot een torenhoog niveau is gestegen? Hoe kan een virtuele munt hier nu invloed op hebben? Prof. dr. Bart Preneel heeft als cryptoloog zelf bijgedragen tot de uitvinding van de bitcoin - al heeft hij er zelf nooit in geïnvesteerd. De perfecte persoon dus om ons wegwijs te maken in de wondere wereld van de bitcoins. Zowel voor beginners als gevorderden een leerrijke uiteenzetting over het nut, de werking en de gevolgen van virtueel geld. ', 'mediacontent_page_editorialtitle_program': 'Wetenschappers delen hun inzichten in colleges', 'mediacontent_pagetitle_program': 'Universiteit van Vlaanderen', 'mediacontent_pagetitle_season': '2017-2018', 'mediacontent_pagetitle': 'Hoe warmen bitcoins de aarde op?', 'offering_publication_planneduntil': '2025-12-31 22:55:00.000', 'brand_contentbrand': 'radio1', 'mediacontent_pageurl': 'https://www.vrt.be/vrtnu/a-z/universiteit-van-vlaanderen/2017-2018/universiteit-van-vlaanderen-d20180425-s2017a93/', 'mediacontent_imageurl': 'https://images.vrt.be/orig/2018/04/20/75943b8e-4493-11e8-abcc-02b7b76bf47f.jpg', 'mediacontent_programimageurl': '//images.vrt.be/orig/2022/12/19/f054810d-7f7e-11ed-b07d-02b7b76bf47f.jpg'}, page_content=\"Vanuit De Loods in Mechelen. Geld is bijna even oud als onze beschaving. Er zijn altijd twee soorten  geldsystemen geweest: centrale en decentrale. De Babyloniërs hadden kleitabletten. Daar stond exact op hoeveel geld of hoeveel schulden iemand had. Dat is een centraal systeem. Dat is heel efficiënt en handig, maar wel gevoelig voor corruptie. Wie de kleitablet beheert, kan eventueel gegevens veranderen. Het andere soort systeem is met muntstukken uit bijvoorbeeld goud. Daarvoor heb je geen centrale partij  nodig. Je kunt betalen zonder een centrale  partij daarbij te betrekken. Die dingen zijn ook heel robuust en gaan lang mee. Als u in uw tuin een Romeins muntstuk vindt, is dat nog altijd geld waard. Dat is een heel robuust systeem. Het heeft wel een probleem met fraude. Je kunt valse muntstukken maken en daarom werd er soms een stempel  op gezet van de keizer of de koning die garandeerde dat het correct verliep. Ook onze eurobiljetten zijn zoals muntstukken. Die worden wel centraal uitgegeven, maar er is ook een probleem met vals geld. Ongeveer één eurobiljet op 20.000 is vals. De euro dateert nog maar van 2002 en ze moesten hem al veranderen, omdat er te veel fraude was, te veel valse biljetten, omdat er steeds betere scanners en printers zijn. Het kopiëren van objecten en atomen  wordt altijd gemakkelijker. Bij de dollar is het nog erger, daar is één biljet op de 10.000 vals. Men heeft daar ook aanpassingen moeten doen. Er is nog een beperking bij een eurobiljet. Als u online iets wilt kopen, gaat dat daarmee niet. Met cash geld kunt u online niet betalen. Wetenschappers hebben lang gezocht, ze zijn begonnen in de jaren 70 en 80, naar methoden om geld te laten voorstellen door bits of bits geld te laten voorstellen. Gewoon een aantal nullen en enen die geld voorstellen. Dat is heel handig, want dan kun je  betalen door die bits op te sturen. Er zijn wel een paar problemen mee. Als ik een aantal nullen en enen  opschrijf, heb ik dan geld? Waarschijnlijk niet, dan heeft iedereen  zoveel geld als hij wil. Een ander probleem: zelfs als je  checkt welke bits geld voorstellen, kan ik altijd bits kopiëren en het geld vaak uitgeven. Daar moet je oplossingen voor vinden. De eerste man die daaraan gewerkt heeft, is David Chaum, een heel bekend wetenschapper, een cryptograaf, zoals ik. Hij heeft zo'n systeem uitgewerkt,  maar hij was te vroeg voor zijn tijd. Ze hebben zo'n systeem begin jaren 90 gedemonstreerd, maar het is nooit een succes geworden. Toen is er de internetboom gekomen in de tweede helft van de jaren 90. Toen zijn er heel veel spelers op de markt gekomen. PayPal bestaat nog altijd. Maar zij enten zich op de bestaande betaalsystemen. Je had ook eGold. EGold had goud in zijn kluizen en had digitaal geld dat ondersteund werd door het goud in zijn kluizen. EGold is ten onder gegaan. Waarom? EGold werd gebruikt voor operaties  die het daglicht niet mochten zien. Geld witwassen. De politie heeft gezegd: we gaan het stoppen. Een ander idee was Moyonation. Dat waren bits die geld voorstelden. Dat was wel een centraal systeem. Moyonation is ten onder gegaan aan hyperinflatie. Net zoals we hadden in de  Weimarrepubliek na Wereldoorlog I, of zoals we zien in landen zoals Zimbabwe en Venezuela. Dan komt de crisis van 2008. Ongeveer tien jaar geleden. Lehman Brothers gaat overkop en ons financieel systeem staat aan de rand van de afgrond. Dan is er een man, Satoshi Nakamoto, die een nieuw systeem van digitaal geld bedenkt, Bitcoin, waarbij er geen centrale partij is. Alle voorgaande systemen van David  Chaum, eGold, PayPal, Moyonation hadden een centrale partij die digitaal geld uitgaf. Bij Bitcoin is er geen centrale partij,  kan iedereen geld produceren en kan iedereen transacties  controleren. Fantastisch idee. We weten niet wie Satoshi Nakamoto is. Hij heeft een artikel geschreven en dat gepost op het internet in oktober 2008. In januari 2009 is het systeem beginnen te werken op een paar computers. Nu is het heel veel geld waard. De man heeft nog met een aantal  mensen gecorrespondeerd. We horen al jaren niets meer van hem. Experten denken dat hij overleden is. Bij Bitcoin is er wel een lijst die zegt wie hoeveel geld heeft. Er is een lijst van getallen die precies  zegt wie hoeveel bitcoins bezit. Eigenlijk zijn dat geen namen, bitcoins  zijn verbonden aan publieke sleutels. Dat zijn combinaties van nullen en enen die op die manier iets voorstellen. Die lijst staat overal en wordt op een verdeelde manier beheerd. Dat werd beschouwd als een onoplosbaar probleem: hoe kan ik tussen een groot aantal  spelers een lijst beheren zonder betrouwbare communicatie en zonder een baas die zegt wat er gebeurt? Bij Bitcoin gebeuren er toch transacties. Iemand betaalt één bitcoin aan iemand anders. Die lijst wordt aangepast zonder een centraal register. Er is wel een virtueel ledger of grootboek. Dat heet de blockchain. Dat is de technologie die achter Bitcoin zit. De volgende vraag die we ons kunnen stellen is: hoe werkt zo'n betaling juist? Wel, je vertrekt van een publieke sleutel en een private sleutel. Met de private sleutel onderteken je een bericht. Donald zal één bitcoin betalen aan Hillary. Je kan dat checken met de publieke sleutels. Op die manier is het niet mogelijk dat u de bitcoins van iemand anders  uitgeeft. De bitcoins hangen aan een publieke sleutel. Enkel de persoon die de private  sleutel kent, kan de bitcoins uitgeven. Je moet als Bitcoingebruiker de private sleutel goed beschermen. In de praktijk wordt zo'n bericht uitgestuurd en getekend met de private sleutel. Iedereen kan dat verifiëren met de publieke sleutel van in dit geval Donald. Dat betekent dat we één probleem  hebben opgelost. Iedereen kan transacties verifiëren. Enkel de eigenaar van de bitcoins kan die bitcoins uitgeven. Nu, een andere vraag is: hoe kom ik aan bitcoins? Als je zelf graag bitcoins zou gebruiken, kun je een rekening openen bij exchangers. Dan kun je dollars of euro's omzetten in bitcoins, zoals je euro's kunt omzetten in dollars of yens. Er zijn ook een aantal bankautomaten  waar je met de app op je smartphone, een bitcoinapp, bitcoins kunt laden. Je steekt cash geld in de automaat en er komen bitcoins in de app terecht. Een derde oplossing is bitcoins minen ,  zelf gaan creëren. Daar vertel ik later iets over. Er is nog een ander probleem bij Bitcoin. Hoe weet ik nu dat Donald wel degelijk één bitcoin had en niet meer geld uitgeeft dan hij eigenlijk had? In een centraal systeem zou iemand daarnaar kijken. Ook bij uw Visakaart kijkt uw bank of Visa na of u niet meer geld uitgeeft dan u hebt. Bij Bitcoin wordt dat anders opgelost. Als u een transactie wilt doen, wordt die uitgestuurd naar alle knopen van het Bitcoinnetwerk. Iedereen die zo'n knoop wilt beginnen,  kan die software downloaden. Iedereen kan deelnemen aan zo'n netwerk. In die knopen wordt die handtekening  gecheckt. Als die niet klopt, wordt de transactie verworpen. Die knopen houden bij wie hoeveel bitcoins heeft. Ze kijken ook of niemand te veel bitcoins heeft uitgegeven. Als je te veel bitcoins hebt uitgegeven,  wordt je transactie verworpen. Eigenlijk is er niet één centrale lijst,  maar elke Bitcoinknoop houdt dat bij. Op dit moment is die lijst vrij groot,  160 gigabyte. Dat zijn alle transacties die ooit gedaan zijn, die zijn publiek. Er gaat natuurlijk af en toe iets fout. Sommige knopen hebben een  probleem met hun internetverbinding. Of er zijn mensen van slechte wil die aan hun lokale kopie van Bitcoin, het grootboek, de blockchain, aanpassingen maken, waardoor ze zelf veel rijker zijn. Je zou zelfs kunnen samenspelen met een aantal partijen en zeggen: we hebben veel meer geld  dan we eigenlijk hebben. Uiteindelijk krijgen we in dat netwerk,  waaraan iedereen kan deelnemen, een verschil van opinie en moeten we vaststellen wat de juiste versie is van de blockchain. Wie heeft hoeveel bitcoins? Een eenvoudige manier om dat op te lossen, is stemmen. We gaan ervan uit dat de meerderheid eerlijk is. Op die manier weten we precies wat de juiste versie is, wie hoeveel bitcoins heeft en wie bitcoins mag uitgeven. Dat zou niet werken. Iedereen kan knopen maken, dus als ik wil valsspelen, maak ik 100.000 knopen bij. Ik ga ook stemmen met die knopen, voor een andere versie. Je kunt niet iedereen laten stemmen,  want er is niemand die beslist wie al dan niet een knoop mag hebben. Je kunt er zoveel maken als je wilt en valsspelen. Democratie werkt in dit geval niet. Satoshi Nakamoto heeft een betere oplossing bedacht, namelijk: alle knopen lossen een puzzel op, een wiskundige puzzel. Een wiskundig probleem. Wie de puzzel eerst heeft opgelost,  mag beslissen wat de juiste versie is. Als je nu wilt valsspelen, moet je heel veel rekenkracht gebruiken en ook heel veel energie. Dat kost ook heel veel geld. Op die manier kun je niet valsspelen, want het kost veel te veel rekenkracht  of energie. Wat is die puzzel juist? Dan komen we in mijn domein, de cryptografie. Er wordt een puzzel opgesteld op  basis van een vreemd soort functie, een hashfunctie. Een hashfunctie is een functie die een ingang neemt, die willekeurig lang kan zijn en dat  omzet in een aantal nullen en enen, in het geval van Bitcoin in 256 nullen en enen. Die functie is heel willekeurig. Het is zoals een muntstuk opgooien,  kop of munt. Zo komt elke bit uit die functie. Die functie kan je heel makkelijk  uitrekenen, maar de uitgang voorspellen is heel moeilijk. Nu kunnen we uitleggen hoe de blockchain echt wordt opgebouwd. Eerst worden alle transacties  verzameld gedurende een periode van ongeveer tien minuten. Die worden samengehasht naar één string. Wat je dan doet, je neemt de vorige  waarde, in het begin was die nul, je neemt alle waarden die afhangen  van alle transacties en je zoekt een ingang, zodat je hier een heel klein getal krijgt. Een getal dat begint met veel nullen,  vandaag zijn dat 72 nullen. Hoe kun je dat doen? Proberen. Met een kans van een op twee is de eerste bit nul. Met een kans van een op vier zijn er twee bits nul. Met een kans van een op acht zijn er drie bits nul, met een op 16 zijn er vier nul, maar je moet er 72 hebben. Dus je moet twee tot de macht 72, of een één met 24 nullen  berekeningen doen, eer je die puzzel kunt oplossen. Eens je die puzzel hebt opgelost, ga je al die transacties samen met de oplossing rondsturen naar alle knopen. Ondertussen hebben alle knopen  opnieuw transacties verzameld gedurende tien minuten. Dan beginnen ze opnieuw aan de puzzel. Elke tien minuten wordt een nieuwe puzzel gecreëerd. Wie de puzzel oplost, mag beslissen welke transacties in het volgende blok komen. Zo worden alle blokken aan elkaar gekoppeld. Een van de elementen van de puzzel  is het resultaat van de vorige puzzel. Zo hangt alles aan elkaar. Daarom spreken we van een blockchain. Je kunt die achteraf niet aanpassen. Een volledige lijst van alle transacties  kun je niet aanpassen, tenzij je heel veel rekenkracht hebt. Nu, waarom zou iemand zoiets doen? Waarom zou je zoveel rekenkracht  inzetten? Daarvoor heb je veel energie nodig en  krijg je een grote elektriciteitsfactuur. Als je de puzzel oplost, krijg je een beloning. Die beloning is 12,5 bitcoin. Nu, toen ik die slides heb gemaakt  eind vorige maand, was dat nog 133.000 dollar, vandaag is het slechts 100.000 dollar. De bitcoin is een beetje gezakt, zoals u misschien weet. Toch nog een hoop geld. Dus u zou beter beginnen bitcoins te minen, want als u de puzzel oplost, verdient u 100.000 dollar. Daar moet u een heel jaar voor werken  of langer. Dus heel veel mensen zijn begonnen bitcoins te minen. Het probleem is dan dat de puzzel  veel sneller wordt opgelost. Dat zou het systeem onstabiel maken,  want het duurt een tijdje eer al die transacties de wereld zijn rondgereisd. Als die blokken te snel worden gevormd, gaan ze verschillen en wordt het systeem onstabiel. Dan houdt niet iedereen dezelfde versie van het systeem over. Nakamoto heeft daaraan gedacht. Hij heeft ervoor gezorgd dat die puzzel  altijd moeilijker wordt. Hij heeft ervoor gezorgd dat de puzzel  gemiddeld tien minuten duurt om op te lossen, als het sneller gaat,  maakt hij de puzzel moeilijker. Het kan zijn dat het makkelijker wordt, omdat er mensen niet meer aan werken. Dan wordt de puzzel weer makkelijker. Economisten denken dat het altijd moeilijker wordt, maar als de mensen hun interesse verliezen, worden de puzzels makkelijker. Satoshi Nakamoto heeft ook goed opgelet. Hij was bezorgd over hyperinflatie. Het aantal bitcoins is beperkt, er zijn slechts 21 miljoen bitcoins. De eerste vier jaar kreeg je 50 bitcoins  om een puzzel op te lossen, de volgende vier jaar 25, nu zijn het er 12,5. Elke vier jaar wordt het gedeeld door twee. Er zullen nooit meer dan 21 miljoen  bitcoins zijn. Op die manier is er een schaarste en kun je nooit hyperinflatie krijgen. Er zijn wel andere problemen. Bijvoorbeeld, er zijn andere munten  gecreëerd. In het begin kon je bitcoins thuis minen op je pc. Een beetje later moest je al grafische kaarten gebruiken. Nog wat later gebruikte men daarvoor FPGA's. Dat zijn programmeerbare chips. Vandaag doet men dat in grote  hangars, grote ruimtes zoals deze, die volgestouwd zijn met die chips. Die zijn die puzzels aan het oplossen. Als u thuis een bitcoin probeert te vinden, zult u misschien een kans hebben na een miljoen jaar. U kunt tegen die mensen niet meer op. Die miners, daar weten we niet veel over. Alles is heel transparant, maar ze steken zich weg, want ze willen niet bestolen worden. Er zijn onlangs bitcoins van die miningtoestellen gestolen. Ze zijn veel geld waard. We weten wel dat er veel staan in China, waar ze voor een deel opereren op basis van steenkool en voor een deel op basis van hydroelektriciteit. Er zijn een aantal grote dammen  gebouwd waar elektriciteit van over is. In IJsland werken ze op geothermische energie, zeer groen. Waarom IJsland? Het is daar heel koel. Dus je hoeft die chips niet zoveel te koelen. Maar dit is dus de huidige toestand  van bitcoins minen. We kunnen kijken hoeveel energie dat kost. We kennen de juiste cijfers niet, maar we kunnen schattingen maken. De schatting op dit moment is dat het Bitcoinecosysteem ongeveer 2400 megawatt verbruikt. Dat is ongeveer evenveel als Doel 2,  Doel 3 en Doel 4 samen. Hoeveel is dat per transactie? Dat is een moeilijkere berekening. Per transactie, er zijn ongeveer vier transacties per seconde, als je dat uitrekent, is dat ongeveer 320 kilowattuur. 320 kilowattuur, de prijs daarvan is in België ongeveer 20 euro, maar je krijgt er nog taksen bovenop,  dus het is meer. Maar goed, de waarde van de puzzel,  100.000 dollar, is nog altijd zeer hoog. Een transactie kost niet zoveel, maar zo'n transactie heeft het verbruik van een Belgisch huishouden van 25 dagen. Dat is toch niet echt heel groen. Dat zijn onderzoeksvragen waar we mee bezig zijn. Kunnen we meer transacties doen? Visa doet tot 25.000 transacties per seconde, Alipay 100.000. We proberen te zoeken naar methodes om meer transacties per seconde te doen, zodat het energieverbruik beter te verantwoorden is. De echte heilige graal van de cryptomunten, is dat we niet zouden stemmen door een puzzel op te lossen, maar dat degenen die bitcoins hebben, mogen stemmen. Je kunt niet willekeurig bitcoins  creëren, dat heet proof of stake. Men hoopt op die manier een cryptomunt te maken die minder energie verbruikt of efficiënter is. Het blijft nog altijd zo dat Bitcoin op een unieke manier een probleem heeft opgelost: hoe kun je een betalingssysteem  creëren zonder een centrale bank waarvoor je op niemand moet vertrouwen? In die zin heeft Bitcoin een mirakel in de  computerwetenschappen gecreëerd. Het heeft veel onderzoek geïnspireerd. Veel mensen hebben geprobeerd  betere cryptomunten te maken. Sommige zijn beter, sommige zijn minder goed. Maar uiteindelijk is het antwoord op de vraag: we weten niet exact hoeveel CO2uitstoot er komt als gevolg van Bitcoin. We weten niet of de miners hydroelektriciteit of steenkool  gebruiken. We weten wel dat het Bitcoinsysteem voor een paar transacties per seconde  heel veel energie verbruikt.  Heb jij zeven jaar geleden voor een luttele 50 euro in bitcoins geïnvesteerd? Proficiat, je bent intussen waarschijnlijk miljonair. Maar wist je ook dat de milieu-impact van de bitcoin daardoor ook tot een torenhoog niveau is gestegen? Hoe kan een virtuele munt hier nu invloed op hebben? Prof. dr. Bart Preneel heeft als cryptoloog zelf bijgedragen tot de uitvinding van de bitcoin - al heeft hij er zelf nooit in geïnvesteerd. De perfecte persoon dus om ons wegwijs te maken in de wondere wereld van de bitcoins. Zowel voor beginners als gevorderden een leerrijke uiteenzetting over het nut, de werking en de gevolgen van virtueel geld.  Wetenschappers delen hun inzichten in colleges\"),\n",
       "  Document(metadata={'mediacontent_page_description_program': '', 'mediacontent_page_description': 'Duidingsprogramma over de economische actualiteit van de voorbije week.', 'mediacontent_page_editorialtitle_program': 'Duiding bij de economische actualiteit', 'mediacontent_pagetitle_program': 'De markt', 'mediacontent_pagetitle_season': 'Seizoen 2024', 'mediacontent_pagetitle': 'De markt 20240309', 'offering_publication_planneduntil': '2025-03-08 22:55:00.000', 'brand_contentbrand': 'vrtnws', 'mediacontent_pageurl': 'https://www.vrt.be/vrtmax/a-z/de-markt/2024/de-markt-d20240308/', 'mediacontent_imageurl': 'https://images.vrt.be/orig/2024/02/24/7cd3010b-d29f-11ee-b483-02b7b76bf47f.jpg', 'mediacontent_programimageurl': '//images.vrt.be/orig/2019/10/04/176cfbcb-e6b8-11e9-abcc-02b7b76bf47f.jpg'}, page_content=\"We werken in ons land elk jaar gemiddeld bijna zeven dagen meer dan tien jaar geleden. Vooral vrouwen dan. Dat blijkt uit cijfers van HRdienstverlener Acerta, in aanloop naar Internationale Vrouwendag. De hogeschool UCLL lanceert een opleiding duurzaam beleggen. Maar wat is dat eigenlijk, duurzaam beleggen? Vegetarisch of vegan, geen dierlijk voedsel dus. Hoe duur is het om dat op uw bord te krijgen? Goeiemiddag, fijn dat u kijkt naar 'De markt'. En we beginnen met ons consumentenplatform WinWin deze week. Daar ging het over de prijs van vegetarisch en veganistisch eten. Dat klinkt in veel oren nog altijd als duur. Xavier, jij hebt een en ander uitgezocht. Ja, het begon met een vraag. Met vragen gaan wij graag aan de slag. Het begon met het verhaal van onze stagiaire Mira. Ze eet nu al bijna een jaar veganistisch. Volgens haar moeder is de winkelkar daardoor veel duurder geworden. Dus is Mira het gaan uitzoeken. Voor een goed begrip nog even de definitie van vegetarisch en veganistisch. Als vegetariër eet je geen dieren, dus geen kip, vis of vlees. En ook sluipsnoep past daar niet in. Dat zijn snoepjes waar gelatine in zit, dat is gemaakt van dierenbeenderen. Veganistisch, dan eet je niet alleen geen dieren, maar ook geen dierlijke producten zoals eieren of melk. Je eet dus alleen plantaardige voeding. Mira heeft twee winkelkarren bij vijf supermarkten gevuld. Een dierlijke winkelkar en een plantaardige winkelkar. Met gelijkaardige producten. Ze ging naar deze supermarkten: Albert Heijn, Carrefour, Delhaize, Colruyt en Aldi. In die kar zat één ontbijt, één middagmaal, één avondmaal en drie tussendoortjes. Allemaal gelijkaardige producten en ook altijd de goedkoopste variant. De plantaardige kar kwam uit op 27,24 euro. De dierlijke winkelkar op 26,27 euro. Een verschil van net geen euro, 97 cent, of 3,6 procent duurder. De plantaardige kar tegenover de dierlijke kar. Plantaardige producten die goedkoper zijn dan de dierlijke variant zijn melkvervangers, zoals soja, of vleesvervangers, zoals vegan préparé, gehakt of kip. Door de band genomen is plantaardig eten net iets duurder, maar het verschil is niet zo groot als we vaak denken. En we gaan er in dit voorbeeld ook van uit dat veganisten altijd vleesvervangers kopen, dat is niet zo. En als je vleesvervangers uit de winkelkar haalt, is het prijsverschil nihil. Het prijsverschil tussen plantaardige en dierlijke voeding wordt steeds kleiner. Daar zit de inflatie voor veel tussen. Voor dierlijke producten heb je veel grondstoffen nodig, denk maar aan de voeding voor dieren. Bij plantaardige producten is dat niet zo. En dus zijn die veel minder gevoelig voor algemene prijsstijgingen. En daarbij komt nog dat steeds meer consumenten op zoek gaan naar plantaardige producten. Dat hebben supermarkten ook in de gaten en dat is dan weer goed voor de consument. Én voor het klimaat, want we weten intussen dat de impact van plantaardige voeding op dat klimaat minder ingrijpend is dan de productie van dierlijke voeding. Dat gezegd zijnde, en om de ombudsman ook wat te ontzien, we willen niemand iets afpakken. Als je graag vlees eet, blijf dat vooral doen. Weet gewoon dat er alternatieven zijn, mocht je dat willen. En vooral: je gaat er niet aan failliet. Nee, en dat verlaagt de drempel om het te proberen. Zo is het.  Dank je wel, Xavier. Het aantal vrouwen in de bouwsector is vorig jaar gestegen richting 10 procent. Dat blijkt uit cijfers van de Bouwunie. Vrouwen die aan de slag gaan, werken wel vaker deeltijds. Is het gebrek aan vrouwen in de bouw eigenlijk een probleem? Dries Hiroux trok naar een werf van bouwbedrijf DCA in hartje Antwerpen. Ah hier. Hey. Kom jij even mee kijken? Dus het voornaamste vandaag zal de vestiairekast zijn. Daar bij de inkom. Hebben we de schuiven al? Ja, denk ik. Dan zou ik die zeker al plaatsen, dan is het afgewerkt. Febe runt de werf hier. In de bouwsector is tien procent een vrouw, bij de echte arbeiders is dat maar één procent. Zeker als ik de eerste keer op een nieuw werf kom, zie ik nieuwsgierige blikken. Er zijn nog wel heel fysieke jobs maar binnen de bouwsector zijn er zoveel jobs, van calculator tot ingenieur, tot werfleider, werfleidster. De meeste vrouwen in de bouw zitten aan een bureau. Dus die keuken is naar daar gegaan, komt van de noordkant. We hebben die naar de zuidkant verplaatst. In 2009 waren 4,5 procent dames tewerkgesteld bij DCA. Op dit moment is dat 11 procent. We bezoeken heel veel scholen, we staan op veel jobbeurzen. Daar merken we dat er niet veel vrouwen langskomen. Dat wil ook zeggen dat nog niet veel dames de weg hebben gevonden naar een bouwtechnische opleiding. Daar moet vooral naar gekeken worden. We moeten de dames warm maken voor de bouw. Ik vind nu wel, voor zo'n mooie keuken, dat dat... Ja, dat oogt niet mooi. Meer vrouwen in de bouw is ook niet per se nodig, vinden ze bij DCA. Ik ben meer van mening dat het om de capaciteit van de persoon gaat. In plaats van: een vrouw is hier beter in. Het geeft een andere dynamiek. Een vrouw zal makkelijker zeggen waarop het staat tegen een man. We merken ook dat dames die effectief in de werfuitvoering staan toch ook oog hebben voor detail. Ik ben niet direct tevreden als het werk is uitgevoerd. Ik ga echt kijken of het netjes en kwaliteitsvol is afgewerkt. Misschien is daar de insteek een klein beetje anders. Van de vrouwen die werken bij DCA, zijn vier op de tien deeltijds aan de slag. Dat is ook het algemene cijfer voor alle sectoren. 40 procent van de werkende vrouwen werkt deeltijds, bij de mannen is dat 10 procent. Vaak familiale redenen. Kinderopvang is er zeker een van. Heeft u het zelf ooit gedaan? Nee, ik heb zelf ook nooit overwogen. Ik ben een alleenstaande moeder met twee kinderen. Worklifebalance, oké. Maar het financiële plaatje speelt ook mee. Ik ben zeker niet van mening dat dat de vrouw moet zijn in het gezin. Ik denk dat mannen ook deeltijds kunnen werken. Zou u het zelf overwegen?  Nee, ik blijf voltijds werken. Ann Vermorgen, welkom. Voorzitter van de christelijke vakbond. U heeft een aantal voorstellen meegebracht naar aanleiding van Internationale Vrouwendag om de 'workbalance' voor vrouwen makkelijker te maken. Maar eerst, u hebt die functie sinds 1 januari. U bent de eerste vrouwelijke voorzitter van het ACV, de grootste vakbond, anderhalf miljoen leden. Is dat niet rijkelijk laat? Wij hebben ook de nodige tijd gehad, zoals in veel organisaties en bedrijven. maar het is geen toeval. Laat ik zeggen: ik ben de kers op de taart van een lang proces dat toch in onze organisatie is gelopen. Al mijn voorgangers zijn daar altijd heel actief mee bezig geweest. Het is bewust bezig zijn met gender en gelijke kansen, ook in je organisatie. En meten is weten. Wij hebben jaarlijkse rapporteringen waarin we toch bekijken: Hoeveel vrouwen zitten in onze instanties en zo? Dat wordt echt... Het is al jaren dat we dat ook opvolgen. Ik zie dat dat toch wel werkt, dat het helpt. We bediscussiëren dat. Dat zijn echt cijfertjes die iedereen moet bijhouden, in onze verschillende organisaties. Ook in het dagelijks bestuur bij ons heeft dat dan ook effect. Het heeft zijn tijd gehad eer u aan het hoofd zat. Het is gestaag vooruitgegaan. Een van uw prioriteiten is: meer mensen aan het werk. Ook vrouwen dus. Alleen: zij zijn al aan het werk, maar heel vaak thuis, in zorgfuncties en dat is onbetaalde arbeid. Daar is een probleem met de definitie van arbeid? Wat jij en ik, wij werken eigenlijk gemiddeld 9,5 uur per week meer in zorgtaken, huishoudelijke taken opnemen dan mannen of meeouders. Dat is toch wel een serieus verschil. In die zin hebben wij ook gemiddeld zes uur minder vrije tijd per week. Dat heeft ook financiële gevolgen? Uiteraard. Vrouwen beginnen te jongleren met hun tijd en alles in balans te brengen. Dan gaan ze misschien noodgedwongen kiezen: ik ga minder werken, ik ga deeltijds werken of ik ga stoppen met werken. Zoals we zagen in de reportage. Maar dat heeft ook gevolgen voor hun sociale rechten. Absoluut, dat heeft absoluut gevolgen. Wat wij vastgesteld hebben, is: het moederschap is een straf. Dat klinkt straf, het zou een zegen moeten zijn. Want wat zien we? Dat na de geboorte van het eerste kind, en het werkt acht jaar verder door, dat vrouwen, moeders dan ook inkomensverlies lijden. Dat inkomensverlies is 43% verschil in vergelijking met de partner, de man of de meeouder. En we stellen ook vast dat zij gemakkelijker ook uitvallen of langdurig ziek worden. Dat is omdat ze die zorg thuis opnemen voor hun kinderen en bijvoorbeeld minder gaan werken? De zorgtaken worden vooral bij hen als partner gelegd. Daarom zeggen wij: wij moeten het toch wel meer gelijktrekken. Vandaar ons voorstel ook rond het geboorteverlof, om dat gelijk te trekken naar 15 weken voor beide partners. Voor beide partners 15 weken instaan voor de zorg van het kind. Dan moet de man het ook nemen, anders heeft het niet veel zin. Ik zou zeggen: Jong geleed is oud gedaan. Maar van bij het begin verdeel je je zorgtaken. Onderzoek wijst dat ook uit. Als het geboorteverlof voor mannen of meeouders is ingevoerd maakt dat al een enorm verschil uit voor de moeder, voor vrouwen. Dat geeft minder inkomensverlies, ze gaan vlugger opnieuw voltijds werken, dat dat evenwicht en in balans zijn van die zorgtaken vanaf het begin gewoonte geeft om samen voor de zorg in te staan. En ook de financiële gevolgen samen te dragen dan. U heeft ook nog een ander voorstel: de vakantiedagen, het wettelijk minimum is nu 20 dagen, wil u optrekken naar 25 dagen. Op welke manier moet dat een vrouw helpen om toch meer te werken? Wij stellen vast dat heel veel mensen nog die wettelijke 20 dagen vakantie hebben. Dat zie je vooral ook in kleinere organisaties, dat het daar 20 wettelijke dagen zijn. En mensen kunnen ook nog niet kiezen wanneer ze die opnemen. Wij zeggen: wij vragen 25 wettelijke vakantiedagen. En ook dat er wat vrije keuze zou kunnen zijn om die op te nemen. Het helpt ook weer om meer je tijd te spreiden, om meer keuzes te kunnen maken. Om zelf te kiezen wat bij je past om die combinatie werk, vrije tijd, gezin beter te kunnen maken. Zijn er in de maatregelen die u voorstelt, het zijn niet de enige, prioriteiten die u naar voor schuift in de verkiezingen en die u vraagt aan politieke partijen? Voor ons is het wel belangrijk dat vrouwen en partners een persoonlijke keuze kunnen maken. Vandaar dat je een waaier aan systemen nodig hebt. Bijvoorbeeld wat ik zie van tijdskrediet: dat kan enorm helpen. Ik zie dat regeringen, ministers dat eerder zitten af te bouwen, af te bouwen en te verminderen. Wij vragen ook een verbetering van tijdskrediet. Maar ook dat de financiële tegemoetkoming verhoogt. De mevrouw in het filmpje, de alleenstaande moeder met twee kinderen, kan daar ook meer baat bij hebben. Het financiële weeg je toch ook wel af: wanneer ga ik dat doen? Tijdskrediet moet geherwaardeerd worden? Ik hoor ze in de Groep van Tien al: dat moet nationaal geregeld worden. De onderhandelingen verlopen daar almaar moeilijker. Gaat u dat gedaan krijgen? Is dat realistisch? Ik heb sinds januari al een aantal Groepen van Tien meegemaakt. We zijn daar met mekaar 'on speaking terms', we praten daar over zaken. Dit zijn belangrijke thema's. Ik hoor ook dat er 500.000 langdurig zieken zijn momenteel. Dit is een belangrijk maatschappelijk probleem. Hoe gaan we mensen langer aan het werk houden in de krapte op de arbeidsmarkt? In die zin hebben we er alle belang bij, maatschappelijk belang, om als werkgeverswerknemers daarover te praten, te bespreken, bespreekbaar te maken. Ik twijfel er niet aan dat jullie deels dezelfde belangen hebben, meer mensen aan het werk. Maar het verschil zit in hoe jullie dat willen doen. Als ik denk aan het voorbeeld om van 20 naar 25 wettelijke vakantiedagen te gaan, dan denk ik: dat valt op een koude steen bij werkgevers. Aangezien er al zoveel bedrijven zijn die meer dan dat wettelijk minimum aan 20 dagen geven, zie ik dat dat geen probleem zou moeten zijn. Hetzelfde met het geboorteverlof. Optrekken en verbreden naar bijvoorbeeld 15 weken, er zijn nu bedrijven die zelf met dat initiatief komen, met dat voorstel komen om dat uit te breiden. Die hebben door: dit is ook economisch belangrijk. Maar ook maatschappelijk belangrijk. Als mijn werknemers goed in hun vel zitten en goed hun zaken kunnen regelen en daarvoor de tijd krijgen, dan heb ik daar een goede werknemer aan. Dan vallen ze minder snel uit en blijven ze aan het werk.  Ja. Maar toch, dan zegt u: Dit wordt makkelijk om dat erdoor te krijgen? Er is een return on investment die je misschien niet direct ziet. We gaan de onderhandelingen niet in de media voeren. Maar het zijn toch wel belangrijke thema's die we in ogenschouw moeten nemen. Je hoort allerlei voorstellen op dat vlak. Maar wij vinden dat we op korte termijn zaken zouden kunnen aanpakken die realistisch zouden kunnen zijn en ook haalbaar. Waaronder dat tijdskrediet. Mevrouw Vermorgen, dank u.   Graag gedaan. Ik had een beetje schrik om te beginnen met beleggen. Ik dacht dat het ingewikkeld was, dat ik er dagelijks mee bezig moest zijn. Ik denk dat een beetje nieuwsgierigheid belangrijk is als je zelf duurzaam wilt beleggen, omdat... Het is nog altijd wel een zoektocht, en het is ook vrij nieuw. Dus ja, ik ben op de website Bankwijzer beland, om te zien wat de meest duurzame bank is. Er zijn veel criteria, daar moet ik nog doorheen ploeteren. Lang de ene kant zijn er veel hoopvolle, positieve verhalen. Langs de andere kant worden die ook doorgeprikt. Je weet soms niet altijd wat betrouwbaar is. Het is soms zo onoverzichtelijk dat je door de bomen het bos niet meer ziet. Sowieso is de beleggingswereld een moeilijke wereld. Ze gebruiken een andere taal. Een beetje JipenJanneketaal zou handig zijn. Jip en Janneketaal, een goeie tip om de drempel om te leren beleggen te verlagen. Getuigenissen waren dat voor de Duurzaam Beleggen Academy die volgende week gelanceerd wordt. Het is een project van de hogeschool UCLL dat hiermee een opleiding biedt rond duurzaam beleggen, met steun van onder meer de Koning Boudewijnstichting en de Nationale Loterij. Over duurzaam beleggen ga ik het hebben met Anouk Slock. U bent vermogensbeheerder bij Nordea Asset Management. Wat denkt u als u die getuigenissen ziet? Is dat herkenbaar voor u? We zien bij klanten toch de vraag enorm stijgen. Het belegde vermogen in duurzame beleggingsfondsen is de laatste jaren toegenomen. Dat heeft met verschillende zaken te maken. Ten eerste wordt de regelgeving strenger. We zien ook dat de duurzame beleggingsfondsen goed opbrengen. En we zien ook meer en meer bedrijven die toch willen inzetten op duurzaamheid in hun bedrijf. Dus het is herkenbaar. U bent van Nordea Asset Management. Wat betekent uw bank? Welke klanten heeft die? Het is een Scandinavische investeringsmaatschappij. Dus dat duurzaam beleggen zit in ons Scandinavisch DNA. We bieden belegginsoplossingen aan aan grote beleggers, zoals banken en verzekeraars, die dan onze fondsen doorverkopen aan particulier beleggers in België. Dus duurzaam beleggen is uw specialiteit. Wat is dat eigenlijk, duurzaam beleggen? Welke criteria zijn er? In principe heeft duurzaam beleggen twee grote doelstellingen. Ten eerste willen we een goede impact hebben op de maatschappij. Ten tweede streeft duurzaam beleggen ernaar om het investeringsonderzoek uit te breiden met duurzame criteria. Dan hoor je vaak de term ESG terugkomen. ESG staat voor environment, milieu, social, sociaal en governance, bestuur. De bedoeling van een duurzaam beleggingsfonds is om die ESGcriteria in kaart te brengen voor bedrijven. Dan kunnen ze kiezen voor bedrijven die daar beter op scoren. Misschien een concreet voorbeeld. Als we kijken naar environmental criteria, dan kun je denken aan de financiële impact van een milieuramp door een bedrijf. Binnen het sociale domein kun je spreken over de impact van fouten in een product, de kwaliteit van het product. Maar ook de impact van stakingen, of het verliezen van menselijk talent. En tenslotte, het domein bestuur. Daar kun je kijken naar de aandeelhoudersrechten, maar ook de kwaliteit van het management. Dus duurzaam beleggen is dan investeren in bedrijven die het goed doen op die vlakken? Stijgt de interesse daarvoor bij klanten? Merkt u tendenzen in producten waarin geïnvesteerd wil worden? Ja, we zien de vraag zeker toenemen. We zien ook dat de eindklanten meer en meer interesse hebben. Zeker de jongere generatie. Als we dan kijken naar producten, dan is er een enorme interesse in thematische beleggingen. Dat zijn fondsen die rechtstreeks in een bepaald thema beleggen. Zoals het klimaat, maar het kan ook gaan over circulaire economie, groen consumentisme of zelfs gezondheidszorg en gendergelijkheid. U heeft, om het zo te zeggen, grote klanten. Zijn zij daar uit zichzelf in geïnteresseerd? Of is het omdat hun klanten daarin geïnteresseerd zijn? We zien beide zaken gebeuren. Die grote klanten worden voornamelijk gedreven door een strengere wetgeving. Die duwt hen in die richting, ze worden verplicht om met die duurzame criteria rekening te houden. Als ik als particulier nu duurzaam wil beleggen, hoe moet ik dat dan doen? Waarmee moet ik rekening houden? Er zijn verschillende zaken. Een eerste classificatie die werd ingevoerd is die van Artikel 6, Artikel 8 en Artikel 9fondsen. Een Artikel 6fonds gaat eigenlijk niets doen. Een Artikel 8fonds gaat ESGcriteria promoten, gaat die proberen te bevorderen. Je vindt daar grote verschillen tussen de fondsen. Sommige gaan daar verder in. Tenslotte heb je de Artikel 9fondsen. We noemen ze in de sector ook de impactfondsen. Dat zijn fondsen die een objectief hebben om duurzaam te beleggen. Die fondsen gaan het verste. Je bent als belegger ook verplicht om, telkens als je wilt beleggen, een geschiktheidsvragenlijst in te vullen. Die peilt naar beleggingskennis, risicoappetijt bijvoorbeeld. Daar is sinds vorig jaar een sectie aan toegevoegd over duurzaamheidsvoorkeuren. De details verschillen bij de aanbieders. Maar je kan een gesprek hebben met je financieel adviseur over hoever je wilt gaan. Wil je de negatieve impact beperken, of wil je verder duurzaam beleggen? En tenslotte hebben we in België een van de strengste duurzame labels voor beleggingen in Europa. Dat is het sustainabilitylabel van de bankenfederatie Febelfin. Je moet als fonds voldoen aan strenge criteria. Je kunt op de website van dat label een fonds opzoeken en kijken hoe sterk dat fonds scoort. Dus er zijn veel regels om je ervan te verzekeren dat je een duurzame belegging hebt. Brengt dat ook voldoende op? Meer of minder dan een gewone belegging? Nordea heeft de doelstelling om het beter te doen omdat we onze investeringsanalyse vervolledigen. Er zijn heel veel uiteenlopende duurzame beleggingsstrategieën. Dan moet je als consument opletten dat je niet te veel sectoren uitsluit. Bijvoorbeeld de wapensector? De wapensector is jammer genoeg een sector die altijd in de minimumcriteria uitgesloten wordt in duurzame fondsen. We kunnen dat niet duurzaam noemen. Maar er zijn zeker genoeg andere opportuniteiten. Andere opportuniteiten. Heeft u dan tips hoe je die opportuniteiten moet vinden? Dus om duurzaam te beleggen. We zien in de markt een evolutie. Vroeger keek je voor een duurzaam beleggingsfonds naar de sectoren waar er problemen waren, ging je eerder kijken naar bedrijven die het iets beter deden. Ik denk dat de markt nu matuur genoeg is om te kunnen kijken naar bedrijven die rechtstreeks een product maken die een duurzaamheidsprobleem oplost. Bijvoorbeeld isolatiemateriaal, software voor energieefficiëntie. Dat zijn bedrijven die van duurzame oplossingen leven. Die staan er het beste voor bij die duurzame tendens in de toekomst. Dank u wel, Anouk Slock.  Graag gedaan. Na een zware duik lijkt de bitcoin terug van even weggeweest. Afgelopen week werd het record van 2021 moeiteloos gebroken. Wat zit er achter deze comeback, Michaël Van Droogenbroeck? De langverwachte comeback. Het is een paar jaar stil geweest, alsof de bitcoin in winterslaap was. Maar sinds een halfjaar is die weer aan het stijgen, tot recordniveaus. Op welk niveau zit hij dan? We kunnen er de koers van de bitcoin er eens bij halen. Die wordt uitgedrukt in dollar. Hier zie je die van de voorbije jaren. Die piek van enkele jaren geleden, en daarna de stevige terugval. Dat kwam door de platformen waarop die verhandeld werd en enkele faillissementen. Maar nu lijkt de bitcoin helemaal terug. Met dus deze week die recordniveaus tot 69.000 dollar. Het blijft heel volatiel. Dat record was pas gebroken, en hij ging alweer lager. Staat nu weer wat hoger. Het is heel volatiel. Maar wel weer op een recordhoogte.  Dat is duidelijk volatiel. Maar zo hoog, hoe komt dat eigenlijk? Dat herstel heeft toch te maken met een soort legitimatie van die digitale munt. Vooral in de VS is een tijdje geleden goedgekeurd dat trackers, passieve beleggingsfondsen die een index volgen, ook die bitcoinkoers mogen volgen. Dat betekent dat wie wil investeren in de bitcoin niet meer de bitcoin zelf hoeven te kopen maar zo'n tracker kunnen kopen. Ze kopen dan niet de munt zelf, met alle risico's van dien. Want er zijn platformen failliet gegaan. Dat was nefast voor wie daar bitcoins had gekocht. Vandaar die terugval. Daardoor is er meer vraag gekomen naar wat aan de basis ligt van die tracker. Dat heeft de koers omhoog geduwd. En ook dat er meer legitimatie is gekomen van die munt, waarvan zeer grote spelers altijd zeiden: Die raken wij niet aan. Dat is toch veranderd, en dat vertaalt zich in de koers. We hadden het over de bitcoin. Geldt dat ook voor andere digitale munten? Er zijn een massa andere. Die doen niet allemaal hetzelfde, maar bitcoin is de belangrijkste. De andere belangrijke digitale munten volgen die koers wel. Er is een correlatie. De financiële autoriteiten zijn niet scheutig op die bitcoin. Dat is nog voorzichtig uitgedrukt. Reageren ze nu dan ook? Waarschuwen ze? Absoluut. Anderhalve week geleden, na die koersopstoot, en nu er weer aandacht voor is, heeft de ECB laten weten: De inherente waarde van zo'n bitcoin is simpel: nul euro. Er staat niks tegenover.  Als waarschuwing. Doe het niet, is voor hen het punt. Maar het zet geen rem op die koers, integendeel, hij stijgt verder. Maar toch nog eens zeggen, het is een heel volatiele munt. Je moet weten dat het heel snel omhoog gaat, maar het is ook al heel snel naar beneden gegaan. Je moet om kunnen met heel veel onzekerheid.  Extreem veel. Dank je voor je uitleg. Van bitcoin over vegan tot duurzaam beleggen. Dat was de brede waaier van 'De markt'.  Duidingsprogramma over de economische actualiteit van de voorbije week. Duiding bij de economische actualiteit\"),\n",
       "  Document(metadata={'mediacontent_page_description_program': '', 'mediacontent_page_description': 'Sinds de coronacrisis spelen veel meer mensen op de beurs. De beleggers worden alsmaar jonger, en ze beleggen ook vaker online, via beleggingsapps, omdat die sneller en goedkoper zijn dan bijvoorbeeld je bank. Margaux Bogaert is in Kampenhout om met Ilse te bekijken hoe je veilig kan beleggen met een app.', 'mediacontent_page_editorialtitle_program': 'Maureen, Margaux en Margaux helpen je op de digitale snelweg.', 'mediacontent_pagetitle_program': 'Schermtijd', 'mediacontent_pagetitle_season': 'Seizoen 1', 'mediacontent_pagetitle': 'Online beleggen', 'offering_publication_planneduntil': '2030-12-31 22:55:00.000', 'brand_contentbrand': 'een', 'mediacontent_pageurl': 'https://www.vrt.be/vrtmax/a-z/schermtijd/1/schermtijd-s1a20/', 'mediacontent_imageurl': 'https://images.vrt.be/orig/2024/03/29/afcd0fc8-edb1-11ee-8fc9-02b7b76bf47f.jpg', 'mediacontent_programimageurl': '//images.vrt.be/orig/2024/01/30/df87b059-bf4e-11ee-b483-02b7b76bf47f.jpg'}, page_content=\"Meer dan 800.000 Belgen zijn actief op de beurs. Sinds de coronacrisis zijn het ook steeds meer jonge mensen. Het aantal twintigers is bijna verdrievoudigd. En ze doen het ook steeds vaker online via beleggingsapps omdat die vaak sneller en goedkoper zijn dan via bijvoorbeeld de bank. Ik ben in Kampenhout, op weg naar Ilse. Zij geeft mensen zakelijk advies en we willen achterhalen hoe je veilig via zo'n app kan beleggen. Dag Ilse. Zou jij beleggen via een app? Ik zou dat niet onmiddellijk zelf doen. Maar ik heb wel klanten die daar zeker interesse voor gehad hebben of het doen. Het leeft wel, en zeker onder de jongeren tegenwoordig. En gaat het soms mis? Af en toe krijg ik een telefoontje van een klant dat die opgelicht is, spijtig genoeg. Dat verbaast mij niks, want hoe exotischer de producten en hoe spectaculairder de winsten, hoe meer kans dat oplichters er misbruik van maken. Gelukkig hebben wij in België zoiets als de FSMA. Wat doen zij? De FSMA is de waakhond hier in België die echt waakt over de financiële diensten en markten en die zorgt dat de consumenten beschermd worden. Die kijkt echt wel of degenen die financiële diensten aanleveren, wel vergund zijn en correct handelen. Bij hen kan je als belegger ook checken of een bedrijf of een beleggingsplatform betrouwbaar is. Gewoon hun naam intypen op de website. Neem nu bijvoorbeeld BUX. Dat is een Nederlands beleggingsplatform dat ook in België heel populair is. Op hun website vind je dadelijk hun adres in Amsterdam. Als je dan BUX intypt op de website van de FSMA, dan zie je alle gegevens over BUX en hetzelfde adres, dus het klopt. Dat wil nog niet zeggen dat je meteen al je geld aan BUX moet toevertrouwen, maar wel dat het een bestaand bedrijf is waarover de FSMA nog geen fraudeklachten ontvangen heeft. In elk geval, let op voor frauduleuze beleggingsplatformen. Zoek de naam en contactgegevens op op de website van de FSMA. Maar eenmaal je een betrouwbaar platform hebt gevonden, is het nog maar de vraag waarin je belegt. Stel je even deze situatie voor. Mevrouw, ik heb hier voor u de ZFX 3000 met geïntegreerde Heisingerdrive, die dankzij een redoxreactie in de borohydride cellen heel uw huishouden overneemt. Van de was tot de afwas, van de aankopen tot het huishoudbudget. Gewoon snel even 20.000 euro investeren en dan kan u delen in de gigantische winsten die wij met dit product gaan maken. Dat lijkt mij een beetje vreemd. En toch zijn er veel mensen die zonder enige begeleiding al hun spaarcenten investeren in één product, zoals bitcoins, zonder ook te begrijpen wat dat inhoudt. Wat is het risico als je dat doet? Beleggen op de beurs, en dan nog in één product, een bitcoin, dat lijkt me heel risicovol. Ik zou sowieso, als je bereid bent om op de beurs te beleggen, spreiden over zo veel mogelijk zaken, zodat als er een paar slecht aflopen, je toch nog een brede basis hebt. Dat is misschien wel de belangrijkste raad voor investeerders: stop niet al je geld in één product. Spreid je geld en enkel in producten waarvan je begrijpt hoe ze werken. Ilse, bij beleggen komen nogal wat kosten kijken. Je betaalt voor elke transactie, er zijn geldwisselkosten in het buitenland, je betaalt om je bij een fonds aan te sluiten, er zijn nog belastingen. Kijken mensen soms op van wat er allemaal bij komt kijken? Ja, natuurlijk. Maar daarvoor zijn wij er, om hen een beetje toe te lichten wat de uiteindelijke kostprijs is of wat de risico's zijn. Dan is er nog de fameuze spread, waarbij je minder voor een aandeel krijgt dat je verkoopt. Hoe komt dat? De spread is een kost om een transactie aan te gaan, zoals je vaste kosten hebt en je op voorhand weet: dat is het. Maar bij een spread kan het heel variabel zijn. Als je bijvoorbeeld een aandeel zou kopen voor 100 euro, zou het weleens kunnen dat je 101 euro moet betalen. En andersom, bij verkopen ook, dat je minder krijgt. De spread is afhankelijk van de beleggingsinstelling en ook van het product. Dus zeker eventjes checken hoeveel die spread zou kunnen bedragen. Ik krijg er hoofdpijn van, maar ik onthoud vooral: informeer je over de kosten, zowel de interne kosten van het platform als de externe kosten. En dan is er nog iets dat typisch is voor beleggingsapps. Stel je voor, over een uur moet je op een afspraak zijn. Dus je hebt nog een uur de tijd om rustig een boek te lezen. Hier je jas en handtas zodat je snel kan vertrekken. Ilse, ik zie op Waze dat er veel file is onderweg. Ilse, het KMI voorspelt stortregen het komende uur. Ilse, de file wordt langer. Ilse, het is echt tijd om te vertrekken. Hier zijn je autosleutels. Ilse, hoelang zou je het uithouden voor je toch maar vertrekt? Niet zo lang.  Nee? En dat is wat veel mensen overkomt die via apps beleggen. Ze krijgen constant pushmeldingen. Ze checken zelf ook continu de koersen en ze vergeten daarbij één basisregel: laat je nooit opjagen, want dan ga je overhaaste transacties doen, en elke transactie kost ook geld. Waarop moet je letten als je online wil beleggen? Als je een platform kiest, check dan de naam en de contactgegevens op fsma.be, zodat je niet bij oplichters terechtkomt. Spreid je investeringen over meerdere producten en investeer alleen in producten waarvan je weet hoe ze werken. En laat je door alle informatie en meldingen die je krijgt niet opjagen. Neem geen overhaaste beslissingen. Zeg Ilse, ik zag op Facebook een advertentie om heel voordelige aandelen in de Eiffeltoren te kopen. Wat denk je, zou ik dat doen? Als iets te mooi lijkt te zijn, dan zou ik eraf blijven.  Sinds de coronacrisis spelen veel meer mensen op de beurs. De beleggers worden alsmaar jonger, en ze beleggen ook vaker online, via beleggingsapps, omdat die sneller en goedkoper zijn dan bijvoorbeeld je bank. Margaux Bogaert is in Kampenhout om met Ilse te bekijken hoe je veilig kan beleggen met een app. Maureen, Margaux en Margaux helpen je op de digitale snelweg.\"),\n",
       "  Document(metadata={'mediacontent_page_description_program': '', 'mediacontent_page_description': 'Mayra haar toekomst als juweelontwerpster komt in het gedrang.  Lowie wil zijn verantwoordelijkheid opnemen, maar iemand is hem voor geweest.  Tom en Judith spenderen meer tijd samen.  Tim krijgt een zware tegenslag te verwerken.  Jana haar twijfels over het moederschap beginnen stilaan te wijken voor haar vastberadenheid.', 'mediacontent_page_editorialtitle_program': 'Vlaanderens populairste dagelijkse fictiereeks', 'mediacontent_pagetitle_program': 'Thuis', 'mediacontent_pagetitle_season': 'Seizoen 18', 'mediacontent_pagetitle': 'Aflevering 3334', 'offering_publication_planneduntil': '2025-12-31 22:59:00.000', 'brand_contentbrand': 'een', 'mediacontent_pageurl': 'https://www.vrt.be/vrtmax/a-z/thuis/seizoen-18/thuis-s18a3334/', 'mediacontent_imageurl': 'https://images.vrt.be/orig/2020/10/28/79b42f67-1928-11eb-aae0-02b7b76bf47f.jpg', 'mediacontent_programimageurl': '//images.vrt.be/orig/2021/11/22/29012acd-4ba2-11ec-b07d-02b7b76bf47f.png'}, page_content=\"Ja, het is kinderachtig, maar je moet me ook begrijpen. Mijn begrip kent ook grenzen. Laat die brommer staan. Ik kan je ook in de combi steken\\ue000 voor obstructie van het onderzoek. Maar juwelen maken is mijn passie. Het is mijn droom en dat begint wat te lopen. Dus ik... Hm. Ik wil eigenlijk daarin investeren. Maar laat me bewijzen dat ik anders ben dan Bram. Ik zal het herspuiten en terugbetalen. Jij? Dat herspuiten heeft veel gekost. Ik heb in mijn hand gestoken. Maar kijk eens, het doet zeer. Dat is een oppervlakkige wonde. Ik zat er bijna door met die vijl,\\ue000 en het blijft bloeden. Gewoon wat onder water houden,\\ue000 ontsmetten en een pleister erop. Moet dat niet genaaid worden? Die vijl ging diep, hoor. Het is minder erg dan het lijkt. Ga naar de praktijk. Je weet alles staan. Kom je me niet helpen dan? Gewoon onder water houden, deppen\\ue000 met eosine en een pleister erop. Ik ga niet staan wachten tot hij buitenkomt. Je moet het horen als ik hem zeg dat ik ga betalen. Desnoods zoek ik wel een job of zo. Het gaat me niet om die auto. Het gaat erom dat jij een macho bent\\ue000 geweest en hebt gelogen tegen mij. Hm, ik ga naar school. Ik ga mee. Pak een andere weg, ik ga alleen. Het is toch niet gedaan tussen ons? Is er nog koffie, tante? Oh, schatje, hier is altijd koffie.\\ue000 Dat weet je toch? En een babbel kan je precies ook\\ue000 goed gebruiken. Ik luister. Ik heb Mayra gevraagd of ze het ziet\\ue000 zitten om de taxi's over te nemen. En het antwoord was: Njet. Ze wil zich concentreren op haar\\ue000 juwelen, en ik snap dat ook wel. Maar ik ben ontgoocheld. Ik had er toch op gerekend. Ja. En ik heb erop gerekend dat Leo zou kunnen stoppen met werken. Och. Maar ben je zeker dat hij het wil laten? Ach, nu hangt hij weer de stoere uit, hè. Maar straks begint dat gezaag en gezever weer. En de tijd vliegt, hè schat. Ik zou zo graag nog met hem genieten\\ue000 voor het te laat is. Ik denk dat jij ook een koffie kan gebruiken. Denk je het? Mhm. Jawel. Al goed dat ik er veel zet, hè. Ja, en goeie straffe. Euh, mijn spreekuur is voorbij. Ja, maar ik kom niet op consultatie. Ik zou niet durven zonder een afspraak te maken. Nee, ik had middagpauze en ik vroeg me af.. ..of je na het werk zin hebt om mee te gaan lopen. We hadden dat gisteren toch af\\ue000 gesproken? Jaja, ik weet het nog. Maar ik vrees dat het antwoord\\ue000 negatief is. Jij hebt een vriendin die het niet\\ue000 leuk vindt dat wij samen gaan lopen. Dat heb ik gisteren gemerkt op je feestje. Het zal niet meer gebeuren, want het is uit. Jij hebt het uitgemaakt met haar? Mhm. Toch niet door mij? Sorry, daar voel ik me niet goed bij.\\ue000 Het heeft niks met jou te maken. Het ging al even niet goed tussen ons. We maakten continu ruzie. Amai, je gaat er nogal licht over. Neenee, toch niet. Enfin, ik zal je dat straks wel uitleggen. Ik moet nu terug gaan werken, maar zullen we dan gaan lopen? Weet je wat? Ik zal om zes uur voor de deur staan. Dan zie ik wel of je er bent of niet. Oké? Allee, tot straks dan? Hier zie, onze Tim. En? Heeft hij betaald? Nee, maar ik heb je brommer gepakt. Echt? Fantastisch, kom hier. Nee, laat maar. Ik hoop dat ik geen problemen krijg. Femke zou er niet om kunnen lachen. Maar die moet dat niet weten en Eddy\\ue000 zeker niet. Dat blijft tussen ons. Je zal hem toch een uitleg moeten geven? Wat ga je zeggen? Ik zal zeggen dat ik bij die Cyriel\\ue000 ben gegaan en hem heb meegekregen. Jij denkt dat hij dat zal geloven. Als je dat op de juiste wijze zegt. Dan gaat hij denken dat ik er iets speciaal voor moest doen... Zeg dat je hem hebt meegepikt: hij stond daar en je hebt hem gepakt. Dat is een goed idee. Met de reservesleutel. Nee, hoe heb je hem dan tot hier\\ue000 gekregen? Hij rijdt niet meer. Over die hele afstand? En zo ben ik moe geworden, doen mijn benen pijn.. ..moet hij mij een massage geven en zo win ik tweemaal vandaag. Heb jij misschien een aspirientje? Ik ga kijken, ik heb wel iets. Zeg, jij ziet er niet goed uit. Is dat door je hand? Wat is er gebeurd, Mayra? Ik heb met een vijl in mijn hand\\ue000 gestoken toen ik een juweel afwerkte. Mayra, dat moet gehecht worden. Ik hoop dat je geen infectie krijgt. Ben je ingeënt tegen tetanus? Euh. Maar Ann zei dat het niks was:\\ue000 ontsmetten en een pleister. Pleister? Nee, dat moet gehecht worden. Kom, we gaan naar de praktijk. Ik zal je daar verzorgen. Ga maar. Kom jij mij nu vragen om samen met Peggy de taxi's over te nemen? Ik zou Peggy zo graag helpen. Het is voor haar dat ik het doe. Allee, nee, ik mag niet liegen. Ook voor mezelf. Ik wil dat Leo stopt. Het is genoeg geweest. Oké, maar waarom ik? Omdat ik weet dat jij je verveelt\\ue000 hier en graag onder de mensen komt. En je kent de dispatch al. Dat is waar, ik werk graag, kom graag onder de mensen. Ja, en de dispatch, ja... En je kan het betalen, hè Simonne. Je hebt een schadevergoeding\\ue000 gekregen van Femke. Helaba, kom jij mij hier pluimen? Nee, haha. Want hoeveel moet hij hebben? Veel, 180.000 euro. Maar ja, het is wel een zaak die marcheert. Weet je wat? Pak je tijd en denk erover. Want jij moet je rekening maken en\\ue000 misschien eens met Frank praten, hè. Maar euh... ik zou heel graag hebben\\ue000 dat je ja zegt. Salut. Goh. Het is wel een diepe wonde. Die vijl was erg scherp. Het is bijna een moordwapen. Normaal ben ik heel voorzichtig. Ik had een klant beloofd haar juweel af te werken. En ik was aan het stressen. Ik ben sowieso al nerveus door de situatie thuis. Ja. Ik heb alleen last van tintelingen in mijn vingertoppen. Is dat normaal? Hm ja, een beetje, denk ik. Waarschijnlijk zijn de zenuwen van je hand geraakt. Zo zijn die vingertoppen gevoelloos geworden. Bestaat de kans dat die gevoelloos blijven? Meestal niet. Dat geneest, maar we zullen moeten afwachten. Ja, en met de taxi mag je ook niet rijden. Dat is niet in orde voor de verzekering. Ja, en mijn juwelen dan? Zonder gevoel in mijn vingertoppen\\ue000 kan ik al die bestellingen niet doen. Rustig, Mayra. We zullen moeten\\ue000 afwachten. We zullen moeten zien. En... en komt dat ooit goed? Daar kan ik moeilijk iets over zeggen nu. Bon, wat moet je me zo dringend\\ue000 vertellen? Jij weet dat Mayra iets aan haar hand heeft? Heb je ze niet gezien? Haar hand zit in een verband. Wat is daar speciaal aan? Het is een serieuze wonde. Ze heeft met een scherpe vijl dwars door haar hand gestoken.. ..terwijl ze aan een juweel bezig was in het atelier. Dat klinkt niet gezond. Nee. Ze heeft heel veel chance gehad dat ze Geert is tegengekomen bij mij. Geert zag onmiddellijk dat het serieus was.. ..en onmiddellijk moest gehecht worden. Ze zijn dat gaan doen. Maar Ann heeft dat niet gedaan. Ze heeft gewoon gezegd dat het niet erg was. Als Mayra Geert niet was tegenkomen,\\ue000 was ze haar hand kwijt geweest. Ja maar... zo ver staan we, hè. Wacht, wacht, wacht. Kan het niet dat dokter Ann zich heeft vergist? Een dokter? Ja. Een dokter? Allee, welke dokter ziet nu niet dat die wonde heel serieus is? Nee, dat is weer een bewijs dat ze er begint naast te trappen. Komaan, dat is overdreven. Overdreven? Ja, overdreven. En als er eens iets met Sandrine\\ue000 gebeurt en Ann vergist zich weer? Dan is Mayra daar, dokter Geert en die nieuwe dokteres. Die zijn bijna altijd aanwezig. Waldek, als Mayra Geert niet was\\ue000 tegengekomen, lag ze nu op de spoed. Dat is overdreven. Dat is gewoon paniek, paniek, paniek. Oké? Hehe... blublublu. Mooie vrouw, salut. Simonne had weer geld klaargelegd,\\ue000 en ik heb het weer laten liggen. Je blijft dat best doen. Zo laat je je goed hart zien. Vroeg of laat zal ze dat wel inzien. IEMAND KLOPT OP DE DEUR Ah, Danny, wat breng jou hier? Ja, ik blijf niet lang. Merci. Ik vrees dat je dik in de shit zit,\\ue000 jong. Ben jij bij ene Cyriel Vangompel een brommer gaan halen? In uniform en met een combi? Ik kon niet anders. Die brommer rijdt niet meer. Omdat die meneer een klacht heeft neergelegd. Hij zegt dat hij hem kocht van Eddy Van Notegem.. ..en cash betaalde aan Nancy De Grote. Hij heeft niet betaald. Dat ging ik onderz... Jij hebt dus die brommer in beslag genomen? En waar staat die nu? Bij Nancy De Grote. Jij hebt hem dus\\ue000 naar je schoonmoeder teruggebracht. Je hebt je uniform en politievoertuig\\ue000 misbruikt om die man te intimideren. Makker, dat ziet er niet goed uit,\\ue000 hè. Waarom heb je het boekje niet gevolgd? Je weet toch dat daar vodden van komen? Allee, tot morgen. Ik vond dat ik je moest verwittigen. We zijn maten voor iets, hè. Ja, ik heb dat gedaan voor je ma. Ze had zich laten oplichten en ik wou ook mijn hart laten zien. En zij heeft jou opgelicht. Wie weet in welke louche zaakjes zij zit met Eddy. Jij zit middenin je examen voor promotie en dan doe je zoiets. Ik zal het wel gaan uitleggen op het bureau. Ja, je hebt dus griep. Je bent verpleger, dus je weet wat de remedie is? Goed uitzieken. Ja, ik dacht al zoiets. Maar je weet maar nooit, hè. Hm. Voilà. Hoeveel moet ik je? 35 euro. Kan jij betalen? Mijn portefeuille\\ue000 ligt daar ergens. Ja. Die, euhm, griep kan ik toch niet krijgen, hè. Ja, ik moet hier blijven slapen,\\ue000 want mijn mama is op reis. Ik heb je toch ingeënt? Ja. Dan moet je je niet ongerust maken. Maar je moet wel goed voor jezelf zorgen. Goed rusten, veel eten, veel drinken, zodat je weerstand niet verslapt. Hoe verloopt de zwangerschap? Wel oké. Ik moet deze week weer zo'n echo laten maken. Dan gaan ze weten welk geslacht het is. Maar het maakt niet uit, ik ga er toch geen kleren voor kopen. Dat is nochtans een speciaal moment,\\ue000 wanneer je hoort wat het geslacht is. Ik was daar altijd even niet goed van. Het is ook normaal dat je dan pas een\\ue000 band begint te krijgen met je kind. Ja, ik voel nog niks. Nee, maar dat gaat wel komen. Daarom moeten we je goed voorbereiden\\ue000 op de geboorte en de adoptie. En, Jana, je weet het, hè: je mag altijd van gedacht veranderen. Meneertje is aan het scoren. Hij ziet er wel niet zo enthousiast uit. Hij wacht op een meisje dat hier ge\\ue000 weest is en er niks heeft in gestopt. Het mag weer niet gemakkelijk gaan. Ik ben niet mee. Laat maar. Almaar beter, hè. Ik heb je advies opgevolgd. Ik heb Lowie met rust gelaten en ben naar Luc gestapt. Die heeft zonder boe of ba dat geld\\ue000 om Jacky te herspuiten bovengehaald. Ik moet er niet eens naar vragen. Luc heeft dat gewoon betaald? Ja. Dat is weer een probleem minder. Ik heb nog beter nieuws. Ik denk dat Luc liever heeft dat Jana weer bij mij is. Lowie gaat zeker weg als ze beslist ons kind te houden. Hij zal nooit mijn kind willen opvoeden. Luc denkt nu al dat Jana het kindje wil houden. En hij wil er zijn zoon niet mee opzadelen. Jij denkt ook dat zij dat wil? Ze is toch aan het twijfelen. Anders had ze die dvd niet per se terug gewild. Ik heb ook het gevoel dat ze steeds\\ue000 meer met die zwangerschap bezig is. Haar reactie vanochtend toen dat kind trapte, sprak boekdelen. Rustig maar, hè. Er kan nog heel veel gebeuren. Hier zie, Annetje. Oh Mayra, wil jij ook een stukje? Toms feest is slecht geëindigd, maar\\ue000 we moeten de taart niet weggooien. Nee, dank je. Ik heb er nu geen zin in. Oei zeg, wat is dat? Een ongeval bij het werk of... Goed dat ik Geert heb gezien. Hij heeft mij gehecht. Misschien blijft mijn hand zonder\\ue000 gevoel. Waarom ben je kwaad op haar? Omdat zij niet eens naar mijn hand wou kijken. Mayra... sorry, ik dacht... Ik zal mij vergist hebben, sorry. Ik ben mijn klanten aan het afbellen met de uitleg. Ik hoop dat ze niet definitief afhaken. Ik deug niet als dokter, als mens. Neenee, Mayra bedoelt dat niet zo. Ik ben gewoon niks waard, niks. Ik ben het niet waard dat ik nog leef. Ik ben werkonbekwaam. Mijn grote droom kan ik vergeten. En jouw reactie is zelfbeklag? Ja, Mayra, wacht eens even. Het kan je duidelijk niks schelen. Waarom zijn wij nog samen? Toe, Mayra. Loop niet weg. Toe, alsjeblieft. Oh. Kom, kind. Niet huilen, Annetje. Ja, ik ga moeten opgeven. Ik vind niemand en alleen begin ik er niet aan. Over malchance gesproken. Ik kan het op mijn buik schrijven om te gaan rentenieren. Nochtans, ik had er echt mijn zinnen\\ue000 op gezet, maar ja. Zeg, wacht eens. Kunnen wij er geen mouw aan passen? Peggy betaalt niet alles ineens,\\ue000 maar in schijfjes. Sorry, Jenny, het is het hele pakket of niks. Al dat gedoe met gespreid betalen.\\ue000 Sorry, nee, dat geeft enkel miserie. Ik weet waarover ik spreek. Ik bedoel dat niet persoonlijk. Neenee. Ik kom hier plechtig melden... ..dat ik meedoe met Peggy. Ik heb het haar gevraagd, Peggy. Tante toch. Ha, hèhèhè. Joeee, hahaha. Oh, dank je wel, dank je wel. Hey. Compagnon, haha. Allee, over een surprise gesproken. Dat is een surprise. Ik zal dus toch kunnen gaan rentenieren. Jaja, wat een chance. Maar, euh, Frank gaat toch met alles akkoord? Dan begin ik er niet aan. Ik wil geen ambras met Frank. Leo, geen flauwekul. Het is mijn geld dat ik gebruik. Frank heeft daar niks mee te maken. Ja... ik ken dat liedje. En als het zover is, wie heeft de boter gegeten? Ik. Neenee, sorry, ik pas. Komaan, stop eens met zwanzen. Je hebt twee overnemers en dat is wat telt. Nee, je hebt al genoeg rond de pot gedraaid. Komaan. Allee. Aah. Oké, oké. Oooh. Peggy en Simonne, een dikke proficiat. Allebei, want voilà, vanaf nu heeft\\ue000 Taxi Leo twee nieuwe eigenaars. Ik zou zo zeggen: Eén voor allen en allen voor 'getwee'. Wat zouden jullie ervan zeggen mocht\\ue000 ik trakteren met een fles champagne? Awel, ik vind dat heel goed. Hey, dat ruikt lekker. Het is jaren geleden dat ik dat gedronken heb. Ja, chocomelk is zo gezellig in de\\ue000 winter. Pas op, het is heet. Jaja. Hoe moet ik het goedmaken met Jana? De laatste tijd maken wij alleen maar ruzie. Dat is een beetje normaal in haar toestand. Je moet ze wat ruimte geven nu. Wat kwam Bram eigenlijk doen op het bureau? Hmm, het was nu net gezellig. Hij werkt daar. Dus iets voor zijn job? Hij kwam een schadevergoeding eisen\\ue000 voor zijn auto. 5000 euro, en ik heb die betaald. Ik heb aan Jana beloofd dat ik dat zou betalen, uit mijn eigen zak. Waarom moet jij je altijd bemoeien\\ue000 met mij? Ik ben toch geen kind? Ik wou eerst vermijden dat hij naar de politie zou stappen. En jij hebt toch geen geld? Ik heb geen geld? En die erfenis dan? Je moet niet zo kijken, hoor. Ik wil dat geld van mijn moeder nu.\\ue000 Direct. Je hebt het dan toch aangedurfd.\\ue000 Proficiat. Hm. Om te lopen, hè Tom? Tuurlijk, waarvoor anders? Je weet maar nooit. Ik ben graag duidelijk. De bedoeling is dat je je spieren opwarmt voor het lopen. Niet dat je ze nu al verrekt. Gewoon wat opwarmen is genoeg. Kom, we zijn weg. Hoho, niet zo snel. Allee. Wat ga jij nu doen met al dat geld, Leo? Al dat geld, al dat geld... Ik wil daar een mobilhome mee kopen. Ik heb daar al lang goesting in. Je kan overal heen en je bent altijd thuis. Ik wist niet dat jij zo avontuurlijk was. Ik ook niet. Ik wil een actieve senior worden.\\ue000 Hij ook, maar hij weet het nog niet. Eigenlijk zou dat ook iets voor mij zijn, zo'n mobilhome. Allee, ontbijten onder de Eiffeltoren. Ja, hela. Je denkt toch niet dat je daar overal mee mag parkeren? Vergeet het. Bof. Trouwens, we moeten dat eerst nog eens serieus bespreken. Leo, kan ik je even spreken? Het is dringend. Sorry, Mayra, richt je tot Simonne of Peggy. Ik heb mijn hand verwond, ik mag niet meer rijden. Mayra, ik kan daar niks op zeggen. Ik ben op pensioen. Wij, Simonne en ik, hebben de taxi's overgenomen. Jij en Simonne?  Mayra haar toekomst als juweelontwerpster komt in het gedrang.  Lowie wil zijn verantwoordelijkheid opnemen, maar iemand is hem voor geweest.  Tom en Judith spenderen meer tijd samen.  Tim krijgt een zware tegenslag te verwerken.  Jana haar twijfels over het moederschap beginnen stilaan te wijken voor haar vastberadenheid. Vlaanderens populairste dagelijkse fictiereeks\")],\n",
       " 'question': {'question': 'iets over geld en beleggen'},\n",
       " 'answer': 'Ik zou je graag de volgende programma\\'s aanbevelen die relevant zijn voor je vraag over geld en beleggen:\\n\\n1. \"Universiteit van Vlaanderen\" - In deze episode wordt uitgelegd hoe bitcoins werken en wat de milieu-impact is van deze virtuele munt. Prof. dr. Bart Preneel, die zelf heeft bijgedragen tot de uitvinding van de bitcoin, geeft een leerrijke uiteenzetting over het nut, de werking en de gevolgen van virtueel geld. Deze episode is ideaal voor zowel beginners als gevorderden.\\n\\n2. \"Schermtijd\" - In deze episode gaat Margaux Bogaert in Kampenhout om met Ilse te bekijken hoe je veilig kan beleggen met een app. Sinds de coronacrisis spelen veel meer mensen op de beurs en beleggen ze vaker online via beleggingsapps. Deze episode is dus ideaal om meer te weten te komen over online beleggen.\\n\\nDeze programma\\'s zijn beschikbaar op VRT MAX en bieden inzichtelijke informatie over geld en beleggen.'}"
      ]
     },
     "execution_count": 53,
     "metadata": {},
     "output_type": "execute_result"
    }
   ],
   "source": [
    "response"
   ]
  },
  {
   "cell_type": "code",
   "execution_count": null,
   "metadata": {},
   "outputs": [],
   "source": []
  },
  {
   "cell_type": "code",
   "execution_count": null,
   "metadata": {},
   "outputs": [],
   "source": []
  },
  {
   "cell_type": "code",
   "execution_count": 47,
   "metadata": {},
   "outputs": [],
   "source": [
    "docs = docsearch.similarity_search_with_score(\n",
    "    \"een thuis episode over voetbal\",\n",
    "    k=5,\n",
    "    vector_field=\"vrtmax_catalog_vector\"\n",
    ")"
   ]
  },
  {
   "cell_type": "code",
   "execution_count": 48,
   "metadata": {},
   "outputs": [
    {
     "data": {
      "text/plain": [
       "[(Document(metadata={'mediacontent_page_description_program': '', 'mediacontent_page_description': 'Ontdek wat er allemaal gebeurde in het 24e seizoen van Thuis.', 'mediacontent_page_editorialtitle_program': 'Vlaanderens populairste dagelijkse fictiereeks', 'mediacontent_pagetitle_program': 'Thuis', 'mediacontent_pagetitle_season': \"Extra's\", 'mediacontent_pagetitle': 'Seizoen 24 samengevat', 'offering_publication_planneduntil': '2025-12-31 22:59:00.000', 'brand_contentbrand': 'een', 'mediacontent_pageurl': 'https://www.vrt.be/vrtmax/a-z/thuis/extra-s/thuis-extra-recap-s24/', 'mediacontent_imageurl': '//images.vrt.be/orig/2021/08/12/68224bd5-fb52-11eb-b07d-02b7b76bf47f.jpg', 'mediacontent_programimageurl': '//images.vrt.be/orig/2021/11/22/29012acd-4ba2-11ec-b07d-02b7b76bf47f.png'}, page_content='Ontdek wat er allemaal gebeurde in het 24e seizoen van Thuis. Vlaanderens populairste dagelijkse fictiereeks'),\n",
       "  0.004640531),\n",
       " (Document(metadata={'mediacontent_page_description_program': '', 'mediacontent_page_description': 'Het 25e seizoen van Thuis kende een onverwacht vroege stop door de coronacrisis, maar toch is er meer dan genoeg gebeurd. Tijd om je geheugen op te frissen.', 'mediacontent_page_editorialtitle_program': 'Vlaanderens populairste dagelijkse fictiereeks', 'mediacontent_pagetitle_program': 'Thuis', 'mediacontent_pagetitle_season': \"Extra's\", 'mediacontent_pagetitle': 'Recap seizoen 25', 'offering_publication_planneduntil': '2025-12-31 22:59:00.000', 'brand_contentbrand': 'een', 'mediacontent_pageurl': 'https://www.vrt.be/vrtmax/a-z/thuis/extra-s/thuis-extra-recap-s25/', 'mediacontent_imageurl': '//images.vrt.be/orig/2021/08/11/b4472b10-faa6-11eb-b07d-02b7b76bf47f.jpg', 'mediacontent_programimageurl': '//images.vrt.be/orig/2021/11/22/29012acd-4ba2-11ec-b07d-02b7b76bf47f.png'}, page_content='Het 25e seizoen van Thuis kende een onverwacht vroege stop door de coronacrisis, maar toch is er meer dan genoeg gebeurd. Tijd om je geheugen op te frissen. Vlaanderens populairste dagelijkse fictiereeks'),\n",
       "  0.0044046324),\n",
       " (Document(metadata={'mediacontent_page_description_program': '', 'mediacontent_page_description': 'Een aflevering over ballen. Van een pingpongbal tot een krachtbal, van biljartbal tot basketbal. Een aflevering over glas dat aan scherven vliegt, over vliegende en vallende ballen en over Balgarije. Over rode, ovale en platte ballen. Een aflevering om een balindigestie van te krijgen.', 'mediacontent_page_editorialtitle_program': 'Dit slangachtig wezen vertelt altijd leugens', 'mediacontent_pagetitle_program': 'Liegebeest', 'mediacontent_pagetitle_season': '1983 - 1987', 'mediacontent_pagetitle': 'Ballen', 'offering_publication_planneduntil': '2025-12-31 22:59:00.000', 'brand_contentbrand': '', 'mediacontent_pageurl': 'https://www.vrt.be/vrtnu/a-z/liegebeest/2/liegebeest-s2a41-ballen/', 'mediacontent_imageurl': 'https://images.vrt.be/orig/2017/11/22/52fbb5f5-cf15-11e7-8ba7-02b7b76bf47f.jpg', 'mediacontent_programimageurl': '//images.vrt.be/orig/2016/06/16/f177066c-33b7-11e6-aa66-00163edf843f.jpg'}, page_content='Een aflevering over ballen. Van een pingpongbal tot een krachtbal, van biljartbal tot basketbal. Een aflevering over glas dat aan scherven vliegt, over vliegende en vallende ballen en over Balgarije. Over rode, ovale en platte ballen. Een aflevering om een balindigestie van te krijgen. Dit slangachtig wezen vertelt altijd leugens'),\n",
       "  0.004391228),\n",
       " (Document(metadata={'mediacontent_page_description_program': '', 'mediacontent_page_description': 'Ongemakkelijke situaties met iets te overenthousiaste fans, dat overkomt de cast van Thuis al eens vaker. Hoe krijg je een streepje voor bij sommige acteurs?', 'mediacontent_page_editorialtitle_program': 'Vlaanderens populairste dagelijkse fictiereeks', 'mediacontent_pagetitle_program': 'Thuis', 'mediacontent_pagetitle_season': \"Extra's\", 'mediacontent_pagetitle': 'Wat als je een Thuisacteur verwart met zijn personage?', 'offering_publication_planneduntil': '2025-12-31 22:59:00.000', 'brand_contentbrand': 'een', 'mediacontent_pageurl': 'https://www.vrt.be/vrtmax/a-z/thuis/extra-s/thuis-iedereenberoemd-hoedanwel/', 'mediacontent_imageurl': '//images.vrt.be/orig/2023/02/13/ed1261b1-ab88-11ed-b07d-02b7b76bf47f.jpg', 'mediacontent_programimageurl': '//images.vrt.be/orig/2021/11/22/29012acd-4ba2-11ec-b07d-02b7b76bf47f.png'}, page_content='Ongemakkelijke situaties met iets te overenthousiaste fans, dat overkomt de cast van Thuis al eens vaker. Hoe krijg je een streepje voor bij sommige acteurs? Vlaanderens populairste dagelijkse fictiereeks'),\n",
       "  0.0043486115),\n",
       " (Document(metadata={'mediacontent_page_description_program': '', 'mediacontent_page_description': 'Lach mee met de allerbeste bloopers uit het afgelopen seizoen van Thuis.', 'mediacontent_page_editorialtitle_program': 'Vlaanderens populairste dagelijkse fictiereeks', 'mediacontent_pagetitle_program': 'Thuis', 'mediacontent_pagetitle_season': 'Bloopers seizoen 27', 'mediacontent_pagetitle': 'Thuis-bloopers best of seizoen 27', 'offering_publication_planneduntil': '2025-12-31 22:59:00.000', 'brand_contentbrand': 'een', 'mediacontent_pageurl': 'https://www.vrt.be/vrtmax/a-z/thuis/bloopers-s27/thuis-bloopers-beste27/', 'mediacontent_imageurl': '//images.vrt.be/orig/2022/08/19/1a1418f4-1f9b-11ed-b07d-02b7b76bf47f.jpg', 'mediacontent_programimageurl': '//images.vrt.be/orig/2021/11/22/29012acd-4ba2-11ec-b07d-02b7b76bf47f.png'}, page_content='Lach mee met de allerbeste bloopers uit het afgelopen seizoen van Thuis. Vlaanderens populairste dagelijkse fictiereeks'),\n",
       "  0.0043430324)]"
      ]
     },
     "execution_count": 48,
     "metadata": {},
     "output_type": "execute_result"
    }
   ],
   "source": [
    "docs"
   ]
  },
  {
   "cell_type": "code",
   "execution_count": 6,
   "metadata": {},
   "outputs": [],
   "source": [
    "# Generate prompt\n",
    "system_prompt = \"\"\"\n",
    "Je bent een hulpvaardige assistent die Nederlands spreekt.\n",
    "Je krijgt vragen over de catalogus van programma's van het videoplatform VRT MAX. \n",
    "Je probeert mensen te helpen om programma's aan te bevelen die aansluiten bij hun vraag.\n",
    "Daarvoor krijg je een beschrijving van een aantal programma's.\n",
    "Aan jou om wat relevant is aan te bevelen.\n",
    "Begin niet met het geven van jouw mening over de programma's. Begin direct met het aanbevelen van relevante content aan de gebruiker.\n",
    "\"\"\"\n",
    "\n",
    "user_prompt = \"\"\n",
    "for item in out.keys():\n",
    "    \n",
    "    user_prompt += \"Het programma met de naam \" + out[item][\"metadata\"][\"mediacontent_pagetitle_program\"] +\\\n",
    "          \" heeft volgende beschrijving: \" + out[item][\"metadata\"][\"mediacontent_page_description\"] \n",
    "    \n",
    "    # + \" en in het programma wordt er onder meer het volgende gezegd dat misschien relevant is voor de vraag: \" + \\out[item][\"page_content\"]\n",
    "\n",
    "user_prompt += \" Tot zover alle informatie over de programmas.\"\n",
    "\n",
    "user_prompt += \" Gelieve met die informatie een antwoord te geven op volgende vraag: \" + question"
   ]
  },
  {
   "cell_type": "code",
   "execution_count": 7,
   "metadata": {},
   "outputs": [
    {
     "data": {
      "text/plain": [
       "AIMessageChunk(content=[{'type': 'text', 'text': 'Als je geïnteresseerd bent in programma\\'s over geld en beleggen, zou ik je aanbevelen om eens te kijken naar \"Universiteit van Vlaanderen\" en \"Schermtijd\". Beide programma\\'s behandelen thema\\'s rondom beleggen en financiën, waarbij \"Universiteit van Vlaanderen\" specifiek ingaat op de wereld van bitcoins en virtueel geld, en \"Schermtijd\" zich richt op veilig beleggen via beleggingsapps.', 'index': 0}], response_metadata={'stopReason': 'end_turn', 'metrics': {'latencyMs': 2199}}, id='run-fff28f28-e1e0-4010-990f-f52bd11f7d5d', usage_metadata={'input_tokens': 572, 'output_tokens': 115, 'total_tokens': 687})"
      ]
     },
     "execution_count": 7,
     "metadata": {},
     "output_type": "execute_result"
    }
   ],
   "source": [
    "import mlflow\n",
    "import os\n",
    "import logging\n",
    "\n",
    "from langchain_core.output_parsers import PydanticOutputParser\n",
    "from langchain_core.pydantic_v1 import BaseModel, Field\n",
    "from langchain_core.runnables import (\n",
    "    RunnableParallel,\n",
    "    RunnableConfig,\n",
    "    RunnableSerializable,\n",
    "    ConfigurableField,\n",
    ")\n",
    "from langchain.prompts import PromptTemplate\n",
    "from langchain_core.output_parsers import StrOutputParser\n",
    "\n",
    "from langchain.callbacks.streaming_stdout import StreamingStdOutCallbackHandler\n",
    "from langchain_core.documents import Document\n",
    "from typing import Any, Iterable, List, Optional, Tuple\n",
    "from langchain_openai import ChatOpenAI\n",
    "from langchain.chains import RetrievalQA\n",
    "\n",
    "\n",
    "\n",
    "from core.secret_utils import get_open_ai_api_key,get_pg_db_connection\n",
    "\n",
    "logger = logging.getLogger(\"mlflow\")\n",
    "os.environ['OPENAI_API_KEY']=get_open_ai_api_key()\n",
    "os.environ['MLFLOW_TRACKING_URI']=\"http://localhost:5000\"\n",
    "\n",
    "prompt_template = \"\"\"Use the following pieces of context to compose a comprehensive reply to the question at the end. \n",
    "\n",
    "        {context}\n",
    "\n",
    "        Question: {question}\n",
    "        Answer :\n",
    "\"\"\"\n",
    "\n",
    "PROMPT = PromptTemplate(\n",
    "    template=prompt_template,\n",
    "    input_variables=[\"context\", \"question\"],\n",
    ")\n",
    "\n",
    "chain_type_kwargs = {\n",
    "    \"prompt\": PROMPT,\n",
    "}\n",
    "\n",
    "def get_pg_vector_client(collection_name: str):\n",
    "    from langchain_postgres.vectorstores import (\n",
    "        PGVector,\n",
    "        _LANGCHAIN_DEFAULT_COLLECTION_NAME,\n",
    "    )\n",
    "    from langchain_openai import OpenAIEmbeddings\n",
    "\n",
    "    connection_string = get_pg_db_connection()\n",
    "    vectorstore = PGVector(\n",
    "        embeddings=OpenAIEmbeddings(),\n",
    "        connection=connection_string,\n",
    "        collection_name=collection_name,\n",
    "    )\n",
    "    return vectorstore\n",
    "\n",
    "class RAGModel(mlflow.pyfunc.PythonModel):\n",
    "\n",
    "    def __init__(self):\n",
    "\n",
    "        self.llm = ChatOpenAI(\n",
    "            streaming=True,\n",
    "            model_name=\"gpt-4o-2024-05-13\",\n",
    "            temperature=0.7,\n",
    "            api_key=get_open_ai_api_key(),\n",
    "        )\n",
    "\n",
    "\n",
    "    def predict(self, context, model_input):\n",
    "        collection_name = f\"test_collection\"\n",
    "        vectorstore = get_pg_vector_client(collection_name)\n",
    "        retriever = vectorstore.as_retriever(\n",
    "            search_type=\"similarity_score_threshold\",\n",
    "            search_kwargs={\"k\": 4, \"score_threshold\": 0.3},\n",
    "        )\n",
    "\n",
    "        qa_chain = RetrievalQA.from_chain_type(\n",
    "            llm=self.llm,\n",
    "            retriever=retriever,\n",
    "            input_key=\"question\",\n",
    "            return_source_documents=True,\n",
    "            chain_type=\"stuff\",  # You might need to replace this with the appropriate chain type.\n",
    "            chain_type_kwargs=chain_type_kwargs,\n",
    "        )\n",
    "\n",
    "        for chunk in qa_chain.stream({**input, **{\"query\": input[\"question\"]}}):\n",
    "            for key in chunk:\n",
    "                if key == \"result\":\n",
    "                    return chunk[key]\n",
    "\n",
    "model = RAGModel()\n",
    "os.environ['MLFLOW_S3_ENDPOINT_URL']=\"http://localhost:9000\"\n",
    "os.environ['AWS_ACCESS_KEY_ID']=\"minio\"\n",
    "os.environ['AWS_SECRET_ACCESS_KEY']=\"minio123\"\n",
    "os.environ['AWS_DEFAULT_REGION']=\"minio123\"\n",
    "mlflow.set_tracking_uri(os.environ['MLFLOW_TRACKING_URI'])\n",
    "mlflow.set_experiment(\"RAG\")\n",
    "\n",
    "\n",
    "with mlflow.start_run() as run:\n",
    "    model_info = mlflow.pyfunc.log_model(\n",
    "        python_model=model,\n",
    "        artifact_path=\"rag-model\",\n",
    "        pip_requirements=[\"-r requirements.txt\"],\n",
    "    )\n",
    "    print(model_info.model_uri)"
   ]
  },
  {
   "cell_type": "code",
   "execution_count": null,
   "metadata": {},
   "outputs": [],
   "source": []
  },
  {
   "cell_type": "code",
   "execution_count": 12,
   "metadata": {},
   "outputs": [
    {
     "data": {
      "text/plain": [
       "AIMessageChunk(content=[], response_metadata={'metrics': {'latencyMs': 3010}}, id='run-bbbf8a1d-5a5c-452f-8e5d-bf91b7d08522', usage_metadata={'input_tokens': 572, 'output_tokens': 167, 'total_tokens': 739})"
      ]
     },
     "execution_count": 12,
     "metadata": {},
     "output_type": "execute_result"
    }
   ],
   "source": [
    "chunk"
   ]
  },
  {
   "cell_type": "code",
   "execution_count": 13,
   "metadata": {},
   "outputs": [
    {
     "data": {
      "text/plain": [
       "<generator object BaseChatModel.stream at 0x7259ea1d97e0>"
      ]
     },
     "execution_count": 13,
     "metadata": {},
     "output_type": "execute_result"
    }
   ],
   "source": [
    "stream"
   ]
  },
  {
   "cell_type": "code",
   "execution_count": null,
   "metadata": {},
   "outputs": [],
   "source": []
  }
 ],
 "metadata": {
  "kernelspec": {
   "display_name": "llm",
   "language": "python",
   "name": "python3"
  },
  "language_info": {
   "codemirror_mode": {
    "name": "ipython",
    "version": 3
   },
   "file_extension": ".py",
   "mimetype": "text/x-python",
   "name": "python",
   "nbconvert_exporter": "python",
   "pygments_lexer": "ipython3",
   "version": "3.9.19"
  }
 },
 "nbformat": 4,
 "nbformat_minor": 2
}
