{
 "cells": [
  {
   "cell_type": "code",
   "execution_count": null,
   "metadata": {},
   "outputs": [],
   "source": [
    "import mlflow\n",
    "from langchain_huggingface import HuggingFaceEmbeddings\n",
    "from langchain_aws import ChatBedrockConverse\n",
    "from langchain_core.output_parsers import StrOutputParser\n",
    "from langchain_core.runnables import RunnablePassthrough\n",
    "\n",
    "from opensearchpy import RequestsHttpConnection, AWSV4SignerAuth\n",
    "\n",
    "from langchain_community.vectorstores import OpenSearchVectorSearch\n",
    "from langchain_core.prompts import ChatPromptTemplate\n",
    "from langchain_core.output_parsers import StrOutputParser\n",
    "from langchain_core.runnables import RunnablePassthrough\n",
    "from langchain.embeddings.base import Embeddings\n",
    "from sentence_transformers import SentenceTransformer\n",
    "\n",
    "import sagemaker\n",
    "import boto3\n",
    "import subprocess\n",
    "from os import environ\n",
    "import streamlit as st\n",
    "from typing import List\n",
    "import pandas as pd"
   ]
  },
  {
   "cell_type": "code",
   "execution_count": null,
   "metadata": {},
   "outputs": [],
   "source": [
    "system_prompt_start = \"\"\"Je bent een hulpvaardige assistent die Nederlands spreekt.\n",
    "Je krijgt vragen over de catalogus van episodes van het videoplatform VRT MAX. \n",
    "Je probeert mensen te helpen om episodes aan te bevelen die aansluiten bij hun vraag.\n",
    "Daarvoor krijg je een beschrijving van een aantal episodes.\n",
    "Aan jou om wat relevant is aan te bevelen.\n",
    "Begin niet met het geven van jouw mening over de episodes. Begin direct met het aanbevelen van relevante content aan de gebruiker.\n",
    "Leg ook telkens uit waarom je een episode aanbeveelt.\n",
    "Geef voor alle episodes die je aanbeveelt ook de URL mee als referentie.\"\"\"\n",
    "\n",
    "message_start = \"\"\"Beantwoordt de vraag op basis van de volgende context:\n",
    "\n",
    "{context}\n",
    "\n",
    "Vraag: {question}\"\"\"\n",
    "\n",
    "model = \"meta.llama3-70b-instruct-v1:0\"\n",
    "temperature = 0.6\n",
    "top_p = 0.4\n",
    "max_tokens = 512\n",
    "\n",
    "params = {\n",
    "    \"system_prompt_start\": system_prompt_start,\n",
    "    \"message_start\": message_start,\n",
    "    \"model\": model,\n",
    "    \"temperature\": temperature,\n",
    "    \"top_p\": top_p,\n",
    "    \"max_tokens\": max_tokens,\n",
    "}"
   ]
  },
  {
   "cell_type": "code",
   "execution_count": null,
   "metadata": {},
   "outputs": [],
   "source": [
    "# Fix for issue in huggingface embedding, see https://github.com/langchain-ai/langchain/discussions/17773\n",
    "class CustomEmbeddings(Embeddings):\n",
    "    def __init__(self, model_name: str):\n",
    "        self.model = SentenceTransformer(model_name)\n",
    "\n",
    "    def embed_documents(self, documents: List[str]) -> List[List[float]]:\n",
    "        return [self.model.encode(d).tolist() for d in documents]\n",
    "\n",
    "    def embed_query(self, query: str) -> List[float]:\n",
    "        return self.model.encode([query])[0].tolist()"
   ]
  },
  {
   "cell_type": "code",
   "execution_count": null,
   "metadata": {},
   "outputs": [],
   "source": [
    "with mlflow.start_run():\n",
    "    mlflow.log_params(params)\n",
    "\n",
    "    # Retriever\n",
    "    model_name = \"NetherlandsForensicInstitute/robbert-2022-dutch-sentence-transformers\"\n",
    "    encode_kwargs = {'normalize_embeddings': False}\n",
    "    embeddings = HuggingFaceEmbeddings(\n",
    "        model_name=model_name,\n",
    "        encode_kwargs=encode_kwargs\n",
    "    )\n",
    "\n",
    "    embeddings = CustomEmbeddings(model_name=model_name)\n",
    "    # LLM\n",
    "\n",
    "    # Prompt\n",
    "\n",
    "    # Build chain\n",
    "    model_info = mlflow.langchain.log_model(chain, \"langchain_model\")"
   ]
  }
 ],
 "metadata": {
  "kernelspec": {
   "display_name": "llm",
   "language": "python",
   "name": "python3"
  },
  "language_info": {
   "name": "python",
   "version": "3.9.19"
  }
 },
 "nbformat": 4,
 "nbformat_minor": 2
}
