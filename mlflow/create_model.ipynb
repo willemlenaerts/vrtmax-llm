{
 "cells": [
  {
   "cell_type": "code",
   "execution_count": 1,
   "metadata": {},
   "outputs": [
    {
     "name": "stdout",
     "output_type": "stream",
     "text": [
      "sagemaker.config INFO - Not applying SDK defaults from location: /etc/xdg/xdg-ubuntu/sagemaker/config.yaml\n",
      "sagemaker.config INFO - Not applying SDK defaults from location: /home/willem/.config/sagemaker/config.yaml\n"
     ]
    }
   ],
   "source": [
    "import os\n",
    "import json\n",
    "import mlflow\n",
    "\n",
    "from langchain.embeddings.huggingface import HuggingFaceEmbeddings\n",
    "from langchain.vectorstores import OpenSearchVectorSearch\n",
    "from langchain.vectorstores import FAISS\n",
    "from langchain.chains import RetrievalQA\n",
    "from langchain_aws import BedrockLLM\n",
    "\n",
    "import sagemaker\n",
    "import boto3"
   ]
  },
  {
   "cell_type": "code",
   "execution_count": 2,
   "metadata": {},
   "outputs": [],
   "source": [
    "mlflow.set_tracking_uri(\"http://localhost:5000\")"
   ]
  },
  {
   "cell_type": "code",
   "execution_count": 3,
   "metadata": {},
   "outputs": [],
   "source": [
    "session = boto3.Session(profile_name='vrt-analytics-engineer-nonsensitive')\n",
    "sagemaker_session = sagemaker.Session(boto_session=session)\n",
    "role = sagemaker.get_execution_role(sagemaker_session=sagemaker_session)"
   ]
  },
  {
   "cell_type": "code",
   "execution_count": 4,
   "metadata": {},
   "outputs": [
    {
     "name": "stderr",
     "output_type": "stream",
     "text": [
      "/home/willem/miniconda3/envs/llm/lib/python3.10/site-packages/langchain_core/_api/deprecation.py:139: LangChainDeprecationWarning: The class `HuggingFaceEmbeddings` was deprecated in LangChain 0.2.2 and will be removed in 0.3.0. An updated version of the class exists in the langchain-huggingface package and should be used instead. To use it run `pip install -U langchain-huggingface` and import as `from langchain_huggingface import HuggingFaceEmbeddings`.\n",
      "  warn_deprecated(\n",
      "/home/willem/miniconda3/envs/llm/lib/python3.10/site-packages/sentence_transformers/cross_encoder/CrossEncoder.py:11: TqdmWarning: IProgress not found. Please update jupyter and ipywidgets. See https://ipywidgets.readthedocs.io/en/stable/user_install.html\n",
      "  from tqdm.autonotebook import tqdm, trange\n"
     ]
    }
   ],
   "source": [
    "# 1. Get retriever\n",
    "# embed stuff and write to opensearch\n",
    "model_name = \"NetherlandsForensicInstitute/robbert-2022-dutch-sentence-transformers\"\n",
    "encode_kwargs = {'normalize_embeddings': False}\n",
    "embeddings = HuggingFaceEmbeddings(\n",
    "    model_name=model_name,\n",
    "    encode_kwargs=encode_kwargs\n",
    ")\n",
    "# Init OpenSearch client connection\n",
    "docsearch = OpenSearchVectorSearch(\n",
    "     index_name=\"aoss-index\",  # TODO: use the same index-name used in the ingestion script\n",
    "     embedding_function=embeddings,\n",
    "     opensearch_url=\"https://epcavlvwitam2ivpwv4k.eu-west-2.aoss.amazonaws.com:443\",  # TODO: e.g. use the AWS OpenSearch domain instantiated previously\n",
    "#     http_auth=(\"<<insert_user_name>>\", \"<<insert_password>>\"),\n",
    "#     use_ssl = False,\n",
    "#     verify_certs = False,\n",
    "#     ssl_assert_hostname = False,\n",
    "#     ssl_show_warn = False,\n",
    ")"
   ]
  },
  {
   "cell_type": "code",
   "execution_count": 9,
   "metadata": {},
   "outputs": [],
   "source": [
    "def loader_fn():\n",
    "    model_name = \"NetherlandsForensicInstitute/robbert-2022-dutch-sentence-transformers\"\n",
    "    encode_kwargs = {'normalize_embeddings': False}\n",
    "    embeddings = HuggingFaceEmbeddings(\n",
    "        model_name=model_name,\n",
    "        encode_kwargs=encode_kwargs\n",
    "    )\n",
    "    # Init OpenSearch client connection\n",
    "    docsearch = OpenSearchVectorSearch(\n",
    "        index_name=\"aoss-index\",  # TODO: use the same index-name used in the ingestion script\n",
    "        embedding_function=embeddings,\n",
    "        opensearch_url=\"https://epcavlvwitam2ivpwv4k.eu-west-2.aoss.amazonaws.com:443\",  # TODO: e.g. use the AWS OpenSearch domain instantiated previously\n",
    "    #     http_auth=(\"<<insert_user_name>>\", \"<<insert_password>>\"),\n",
    "    #     use_ssl = False,\n",
    "    #     verify_certs = False,\n",
    "    #     ssl_assert_hostname = False,\n",
    "    #     ssl_show_warn = False,\n",
    "    )\n",
    "\n",
    "    return docsearch.as_retriever()"
   ]
  },
  {
   "cell_type": "code",
   "execution_count": 5,
   "metadata": {},
   "outputs": [],
   "source": [
    "# 2. Get LLM\n",
    "llm = BedrockLLM(\n",
    "    credentials_profile_name=\"vrt-analytics-engineer-nonsensitive\", \n",
    "    region_name=\"eu-west-2\",\n",
    "    model_id=\"meta.llama3-70b-instruct-v1:0\"\n",
    ")"
   ]
  },
  {
   "cell_type": "code",
   "execution_count": 8,
   "metadata": {},
   "outputs": [
    {
     "name": "stderr",
     "output_type": "stream",
     "text": [
      "2024/08/06 20:35:37 WARNING mlflow.utils.environment: Encountered an unexpected error while inferring pip requirements (model URI: /tmp/tmpj8ekv8f0/model, flavor: langchain). Fall back to return ['langchain==0.2.8', 'pydantic==2.8.2', 'cloudpickle==2.2.1']. Set logging level to DEBUG to see the full traceback. \n",
      "/home/willem/miniconda3/envs/llm/lib/python3.10/site-packages/_distutils_hack/__init__.py:32: UserWarning: Setuptools is replacing distutils. Support for replacing an already imported distutils is deprecated. In the future, this condition will fail. Register concerns at https://github.com/pypa/setuptools/issues/new?template=distutils-deprecation.yml\n",
      "  warnings.warn(\n"
     ]
    }
   ],
   "source": [
    "# 3. Create model in MLFLOW\n",
    "mlflow.set_experiment(\"VRT MAX RAG v1\")\n",
    "\n",
    "retrievalQA = RetrievalQA.from_llm(llm=llm, retriever=docsearch.as_retriever())\n",
    "\n",
    "persist_dir = \"../data/faiss\"\n",
    "with mlflow.start_run() as run:\n",
    "    model_info = mlflow.langchain.log_model(\n",
    "        retrievalQA,\n",
    "        artifact_path=\"rag\",\n",
    "        loader_fn=loader_fn\n",
    "    )"
   ]
  },
  {
   "cell_type": "code",
   "execution_count": 7,
   "metadata": {},
   "outputs": [],
   "source": []
  },
  {
   "cell_type": "code",
   "execution_count": null,
   "metadata": {},
   "outputs": [],
   "source": []
  }
 ],
 "metadata": {
  "kernelspec": {
   "display_name": "llm",
   "language": "python",
   "name": "python3"
  },
  "language_info": {
   "codemirror_mode": {
    "name": "ipython",
    "version": 3
   },
   "file_extension": ".py",
   "mimetype": "text/x-python",
   "name": "python",
   "nbconvert_exporter": "python",
   "pygments_lexer": "ipython3",
   "version": "3.10.14"
  }
 },
 "nbformat": 4,
 "nbformat_minor": 2
}
