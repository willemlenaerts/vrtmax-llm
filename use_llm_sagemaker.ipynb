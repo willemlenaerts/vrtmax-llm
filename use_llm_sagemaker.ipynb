{
 "cells": [
  {
   "cell_type": "code",
   "execution_count": 2,
   "metadata": {},
   "outputs": [],
   "source": [
    "import sagemaker\n",
    "import boto3\n",
    "\n",
    "session = boto3.Session(profile_name='vrt-analytics-engineer-nonsensitive')\n",
    "sagemaker_session = sagemaker.Session(boto_session=session)\n",
    "role = sagemaker.get_execution_role(sagemaker_session=sagemaker_session)"
   ]
  },
  {
   "cell_type": "code",
   "execution_count": 5,
   "metadata": {},
   "outputs": [
    {
     "data": {
      "text/plain": [
       "'eu-west-1'"
      ]
     },
     "execution_count": 5,
     "metadata": {},
     "output_type": "execute_result"
    }
   ],
   "source": [
    "sagemaker_session.boto_region_name"
   ]
  },
  {
   "cell_type": "code",
   "execution_count": 3,
   "metadata": {},
   "outputs": [],
   "source": [
    "from sagemaker.huggingface.model import HuggingFacePredictor\n",
    "llm = HuggingFacePredictor(endpoint_name=\"huggingface-pytorch-tgi-inference-2024-07-30-20-23-30-977\",sagemaker_session=sagemaker_session)"
   ]
  },
  {
   "cell_type": "code",
   "execution_count": 4,
   "metadata": {},
   "outputs": [
    {
     "name": "stdout",
     "output_type": "stream",
     "text": [
      "Deep learning is a subset of machine learning that involves the use of artificial neural networks to analyze and interpret data. These neural networks are composed of multiple layers of interconnected nodes or \"neurons,\" which process and transform the input data in a hierarchical manner.\n",
      "\n",
      "The term \"deep\" refers to the fact that these neural networks can have many layers, typically ranging from a few dozen to several hundred. Each layer consists of a set of neurons that apply a non-linear transformation to the input data, allowing the network to learn complex patterns and relationships.\n",
      "\n",
      "Deep learning is particularly well-suited for tasks that involve:\n",
      "\n",
      "1. Image and video analysis: Deep learning algorithms can be trained to recognize objects, scenes, and activities in images and videos, making them useful for applications such as facial recognition, object detection, and autonomous vehicles.\n",
      "2. Natural language processing: Deep learning algorithms can be trained to process and understand natural language, enabling applications such as language translation, sentiment analysis, and chatbots.\n",
      "3. Speech recognition: Deep learning algorithms can be trained to recognize spoken language, enabling applications such as voice assistants and speech-to-text systems.\n",
      "4. Time series forecasting: Deep learning algorithms can be trained to predict future values in a time series, making them useful for applications such as stock market prediction and weather forecasting.\n",
      "\n",
      "Some of the key benefits of deep learning include:\n",
      "\n",
      "1. Ability to learn complex patterns: Deep learning algorithms can learn complex patterns and relationships in data, making them useful for tasks that require nuanced understanding.\n",
      "2. High accuracy: Deep learning algorithms can achieve high accuracy on tasks such as image classification and speech recognition.\n",
      "3. Flexibility: Deep learning algorithms can be applied to a wide range of tasks and domains, making them a versatile tool for machine learning.\n",
      "\n",
      "However, deep learning also has some limitations, including:\n",
      "\n",
      "1. Computational requirements: Deep learning algorithms require significant computational resources, making them challenging to implement on low-power devices.\n",
      "2. Data requirements: Deep learning algorithms require large amounts of high-quality data to train, making them challenging to implement in domains with limited data.\n",
      "3. Interpretability: Deep learning algorithms can be difficult to interpret, making it challenging to understand why a particular decision was made.\n",
      "\n",
      "Overall, deep learning is a powerful tool for machine learning, enabling the development of sophisticated algorithms that can analyze and interpret complex data.\n"
     ]
    }
   ],
   "source": [
    "# Prompt to generate\n",
    "messages=[\n",
    "    { \"role\": \"system\", \"content\": \"You are a helpful assistant.\" },\n",
    "    { \"role\": \"user\", \"content\": \"What is deep learning?\" }\n",
    "  ]\n",
    "\n",
    "# Generation arguments\n",
    "parameters = {\n",
    "    \"model\": \"meta-llama/Meta-Llama-3-8B-Instruct\", # placholder, needed\n",
    "    \"top_p\": 0.6,\n",
    "    \"temperature\": 0.9,\n",
    "    \"max_tokens\": 512,\n",
    "    \"stop\": [\"<|eot_id|>\"],\n",
    "}\n",
    "\n",
    "chat = llm.predict({\"messages\" :messages, **parameters})\n",
    "\n",
    "print(chat[\"choices\"][0][\"message\"][\"content\"].strip())"
   ]
  },
  {
   "cell_type": "code",
   "execution_count": null,
   "metadata": {},
   "outputs": [],
   "source": []
  }
 ],
 "metadata": {
  "kernelspec": {
   "display_name": "llm",
   "language": "python",
   "name": "python3"
  },
  "language_info": {
   "codemirror_mode": {
    "name": "ipython",
    "version": 3
   },
   "file_extension": ".py",
   "mimetype": "text/x-python",
   "name": "python",
   "nbconvert_exporter": "python",
   "pygments_lexer": "ipython3",
   "version": "3.10.14"
  }
 },
 "nbformat": 4,
 "nbformat_minor": 2
}
