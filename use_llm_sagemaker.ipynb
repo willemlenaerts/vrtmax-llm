{
 "cells": [
  {
   "cell_type": "code",
   "execution_count": 1,
   "metadata": {},
   "outputs": [
    {
     "name": "stdout",
     "output_type": "stream",
     "text": [
      "sagemaker.config INFO - Not applying SDK defaults from location: /etc/xdg/xdg-ubuntu/sagemaker/config.yaml\n",
      "sagemaker.config INFO - Not applying SDK defaults from location: /home/willem/.config/sagemaker/config.yaml\n"
     ]
    }
   ],
   "source": [
    "import sagemaker\n",
    "import boto3\n",
    "\n",
    "session = boto3.Session(profile_name='vrt-analytics-engineer-nonsensitive')\n",
    "sagemaker_session = sagemaker.Session(boto_session=session)\n",
    "role = sagemaker.get_execution_role(sagemaker_session=sagemaker_session)"
   ]
  },
  {
   "cell_type": "code",
   "execution_count": 9,
   "metadata": {},
   "outputs": [],
   "source": [
    "from sagemaker.huggingface.model import HuggingFacePredictor\n",
    "llm = HuggingFacePredictor(endpoint_name=\"huggingface-pytorch-tgi-inference-2024-07-30-20-23-30-977\",sagemaker_session=sagemaker_session)"
   ]
  },
  {
   "cell_type": "code",
   "execution_count": 11,
   "metadata": {},
   "outputs": [
    {
     "name": "stdout",
     "output_type": "stream",
     "text": [
      "Deep learning is a subfield of machine learning that involves the use of artificial neural networks to model and analyze complex data. It is called \"deep\" because these networks typically consist of multiple layers of interconnected nodes or \"neurons,\" which allow them to learn and represent increasingly abstract and complex patterns in the data.\n",
      "\n",
      "Deep learning models are designed to mimic the structure and function of the human brain, with multiple layers of processing that allow them to learn and recognize patterns in data. This is in contrast to traditional machine learning models, which typically rely on hand-crafted features and rules to analyze data.\n",
      "\n",
      "Deep learning has been incredibly successful in a wide range of applications, including:\n",
      "\n",
      "1. Computer vision: Deep learning models can be trained to recognize and classify objects in images and videos, and to perform tasks such as object detection, segmentation, and tracking.\n",
      "2. Natural language processing: Deep learning models can be trained to process and understand natural language, and to perform tasks such as language translation, sentiment analysis, and text summarization.\n",
      "3. Speech recognition: Deep learning models can be trained to recognize and transcribe spoken language, and to perform tasks such as speech-to-text and voice recognition.\n",
      "4. Robotics: Deep learning models can be used to control and navigate robots, and to perform tasks such as object manipulation and grasping.\n",
      "5. Healthcare: Deep learning models can be used to analyze medical images, diagnose diseases, and develop personalized treatment plans.\n",
      "\n",
      "Some of the key benefits of deep learning include:\n",
      "\n",
      "1. Ability to learn complex patterns: Deep learning models can learn to recognize complex patterns in data, such as shapes, textures, and patterns.\n",
      "2. Ability to learn from large datasets: Deep learning models can be trained on large datasets, which allows them to learn from a wide range of examples and to improve their performance over time.\n",
      "3. Ability to generalize: Deep learning models can generalize well to new, unseen data, which allows them to be used in a wide range of applications.\n",
      "4. Ability to improve over time: Deep learning models can be fine-tuned and improved over time, which allows them to adapt to changing data and to improve their performance.\n",
      "\n",
      "However, deep learning also has some challenges and limitations, including:\n",
      "\n",
      "1. Difficulty in interpreting results: Deep learning models can be difficult to interpret, which can make it challenging to understand why they are making certain predictions or decisions.\n",
      "2. Need for large datasets: Deep learning models require large datasets to train, which can be time-consuming and expensive to collect.\n",
      "3. Risk of bias: Deep learning models can\n"
     ]
    }
   ],
   "source": [
    "# Prompt to generate\n",
    "messages=[\n",
    "    { \"role\": \"system\", \"content\": \"You are a helpful assistant.\" },\n",
    "    { \"role\": \"user\", \"content\": \"What is deep learning?\" }\n",
    "  ]\n",
    "\n",
    "# Generation arguments\n",
    "parameters = {\n",
    "    \"model\": \"meta-llama/Meta-Llama-3-8B-Instruct\", # placholder, needed\n",
    "    \"top_p\": 0.6,\n",
    "    \"temperature\": 0.9,\n",
    "    \"max_tokens\": 512,\n",
    "    \"stop\": [\"<|eot_id|>\"],\n",
    "}\n",
    "\n",
    "chat = llm.predict({\"messages\" :messages, **parameters})\n",
    "\n",
    "print(chat[\"choices\"][0][\"message\"][\"content\"].strip())"
   ]
  },
  {
   "cell_type": "code",
   "execution_count": null,
   "metadata": {},
   "outputs": [],
   "source": []
  }
 ],
 "metadata": {
  "kernelspec": {
   "display_name": "llm",
   "language": "python",
   "name": "python3"
  },
  "language_info": {
   "codemirror_mode": {
    "name": "ipython",
    "version": 3
   },
   "file_extension": ".py",
   "mimetype": "text/x-python",
   "name": "python",
   "nbconvert_exporter": "python",
   "pygments_lexer": "ipython3",
   "version": "3.9.19"
  }
 },
 "nbformat": 4,
 "nbformat_minor": 2
}
