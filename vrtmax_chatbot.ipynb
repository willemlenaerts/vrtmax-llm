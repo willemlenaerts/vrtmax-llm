{
 "cells": [
  {
   "cell_type": "code",
   "execution_count": 1,
   "metadata": {},
   "outputs": [
    {
     "name": "stdout",
     "output_type": "stream",
     "text": [
      "sagemaker.config INFO - Not applying SDK defaults from location: /etc/xdg/xdg-ubuntu/sagemaker/config.yaml\n",
      "sagemaker.config INFO - Not applying SDK defaults from location: /home/willem/.config/sagemaker/config.yaml\n"
     ]
    }
   ],
   "source": [
    "import sagemaker\n",
    "import boto3\n",
    "from sagemaker.huggingface.model import HuggingFacePredictor\n",
    "import json"
   ]
  },
  {
   "cell_type": "code",
   "execution_count": 2,
   "metadata": {},
   "outputs": [],
   "source": [
    "# AWS login to use sagemaker endpoints\n",
    "session = boto3.Session(profile_name='vrt-analytics-engineer-nonsensitive')\n",
    "sagemaker_session = sagemaker.Session(boto_session=session)\n",
    "role = sagemaker.get_execution_role(sagemaker_session=sagemaker_session)\n",
    "\n",
    "# Vector store endpoint\n",
    "endpoint_name = \"faiss-endpoint-1722716142\"\n",
    "faiss_vector_store = sagemaker.predictor.Predictor(endpoint_name,sagemaker_session=sagemaker_session)\n",
    "assert faiss_vector_store.endpoint_context().properties['Status'] == 'InService'\n",
    "\n",
    "# LLM endpoint\n",
    "llm = HuggingFacePredictor(endpoint_name=\"huggingface-pytorch-tgi-inference-2024-07-30-20-23-30-977\",sagemaker_session=sagemaker_session)"
   ]
  },
  {
   "cell_type": "code",
   "execution_count": 3,
   "metadata": {},
   "outputs": [],
   "source": [
    "question = \"iets met geld en beleggen\""
   ]
  },
  {
   "cell_type": "code",
   "execution_count": 4,
   "metadata": {},
   "outputs": [],
   "source": [
    "# Fetch content\n",
    "payload = json.dumps({\n",
    "    \"text\": question,\n",
    "})\n",
    "\n",
    "out = faiss_vector_store.predict(\n",
    "    payload,\n",
    "    initial_args={\"ContentType\": \"application/json\", \"Accept\": \"application/json\"}\n",
    ")\n",
    "out = json.loads(out)"
   ]
  },
  {
   "cell_type": "code",
   "execution_count": 13,
   "metadata": {},
   "outputs": [],
   "source": [
    "# Generate prompt\n",
    "system_prompt = \"\"\"Je bent een hulpvaardige assistent. \n",
    "Je krijgt vragen over de catalogus van programma's van het videoplatform VRT MAX. \n",
    "Je probeert mensen te helpen om programma's aan te bevelen die aansluiten bij hun vraag.\n",
    "Daarvoor krijg je een beschrijving van een aantal programma's.\n",
    "Aan jou om wat relevant is aan te bevelen.\n",
    "\"\"\"\n",
    "\n",
    "user_prompt = \"\"\n",
    "for item in out.keys():\n",
    "    \n",
    "    user_prompt += \"Het programma met de naam \" + out[item][\"metadata\"][\"mediacontent_pagetitle_program\"] +\\\n",
    "          \" heeft volgende beschrijving: \" + out[item][\"metadata\"][\"mediacontent_page_description\"] \n",
    "    \n",
    "    # + \" en in het programma wordt er onder meer het volgende gezegd dat misschien relevant is voor de vraag: \" + \\out[item][\"page_content\"]\n",
    "\n",
    "user_prompt += \" Tot zover alle informatie over de programmas.\"\n",
    "\n",
    "user_prompt += \" Gelieve met die informatie een antwoord te geven op volgende vraag: \" + question"
   ]
  },
  {
   "cell_type": "code",
   "execution_count": 14,
   "metadata": {},
   "outputs": [
    {
     "name": "stdout",
     "output_type": "stream",
     "text": [
      "Based on the descriptions, I think I can help you find a relevant program.\n",
      "\n",
      "If you're interested in learning more about investing and belegging, I would recommend \"Universiteit van Vlaanderen\" or \"Schermtijd\". Both programs seem to focus on the topic of investing and belegging, with \"Universiteit van Vlaanderen\" providing a more educational approach and \"Schermtijd\" exploring the topic in a more practical and hands-on way.\n",
      "\n",
      "If you're looking for a program that also covers fact-checking and investigating financial scams, \"Factcheckers\" might be a good choice. Although it's not exclusively focused on belegging, it does touch on the topic of online financial scams and how to avoid them.\n",
      "\n",
      "If you're looking for a more general program that provides an overview of the economic actuality, \"De markt\" might be a good option.\n",
      "\n",
      "Let me know if any of these programs interest you, or if you have any other specific preferences or interests!\n"
     ]
    }
   ],
   "source": [
    "# Ask question\n",
    "# Prompt to generate\n",
    "messages=[\n",
    "    { \"role\": \"system\", \"content\": system_prompt },\n",
    "    { \"role\": \"user\", \"content\": user_prompt }\n",
    "  ]\n",
    "\n",
    "# Generation arguments\n",
    "parameters = {\n",
    "    \"model\": \"meta-llama/Meta-Llama-3-8B-Instruct\", # placholder, needed\n",
    "    \"top_p\": 0.6,\n",
    "    \"temperature\": 0.9,\n",
    "    \"max_tokens\": 512,\n",
    "    \"stop\": [\"<|eot_id|>\"],\n",
    "}\n",
    "\n",
    "chat = llm.predict({\"messages\" :messages, **parameters})\n",
    "\n",
    "print(chat[\"choices\"][0][\"message\"][\"content\"].strip())"
   ]
  },
  {
   "cell_type": "code",
   "execution_count": null,
   "metadata": {},
   "outputs": [],
   "source": []
  }
 ],
 "metadata": {
  "kernelspec": {
   "display_name": "llm",
   "language": "python",
   "name": "python3"
  },
  "language_info": {
   "codemirror_mode": {
    "name": "ipython",
    "version": 3
   },
   "file_extension": ".py",
   "mimetype": "text/x-python",
   "name": "python",
   "nbconvert_exporter": "python",
   "pygments_lexer": "ipython3",
   "version": "3.10.14"
  }
 },
 "nbformat": 4,
 "nbformat_minor": 2
}
