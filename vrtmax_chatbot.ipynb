{
 "cells": [
  {
   "cell_type": "code",
   "execution_count": 12,
   "metadata": {},
   "outputs": [],
   "source": [
    "import sagemaker\n",
    "import boto3\n",
    "from sagemaker.huggingface.model import HuggingFacePredictor\n",
    "import json"
   ]
  },
  {
   "cell_type": "code",
   "execution_count": 13,
   "metadata": {},
   "outputs": [],
   "source": [
    "# AWS login to use sagemaker endpoints\n",
    "session = boto3.Session(profile_name='vrt-analytics-engineer-nonsensitive')\n",
    "sagemaker_session = sagemaker.Session(boto_session=session)\n",
    "role = sagemaker.get_execution_role(sagemaker_session=sagemaker_session)\n",
    "\n",
    "# Vector store endpoint\n",
    "endpoint_name = \"faiss-endpoint-1722716142\"\n",
    "faiss_vector_store = sagemaker.predictor.Predictor(endpoint_name,sagemaker_session=sagemaker_session)\n",
    "assert faiss_vector_store.endpoint_context().properties['Status'] == 'InService'\n",
    "\n",
    "# LLM endpoint\n",
    "llm = HuggingFacePredictor(endpoint_name=\"huggingface-pytorch-tgi-inference-2024-07-30-20-23-30-977\",sagemaker_session=sagemaker_session)"
   ]
  },
  {
   "cell_type": "code",
   "execution_count": 14,
   "metadata": {},
   "outputs": [],
   "source": [
    "question = \"iets over vrijheid\""
   ]
  },
  {
   "cell_type": "code",
   "execution_count": 15,
   "metadata": {},
   "outputs": [],
   "source": [
    "# Fetch content\n",
    "payload = json.dumps({\n",
    "    \"text\": question,\n",
    "})\n",
    "\n",
    "out = faiss_vector_store.predict(\n",
    "    payload,\n",
    "    initial_args={\"ContentType\": \"application/json\", \"Accept\": \"application/json\"}\n",
    ")\n",
    "out = json.loads(out)"
   ]
  },
  {
   "cell_type": "code",
   "execution_count": 16,
   "metadata": {},
   "outputs": [
    {
     "data": {
      "text/plain": [
       "{'0': {'page_content': \"Wat is vrijheid van denken? Met antwoorden van Helder De Schutter, Rob Riemen en Wies De Graeve. Vrijheid van denken is \\nde mogelijkheid hebben om niet gehinderd \\ndoor wat anderen denken of vinden, je eigen gedachtes te vormen. Dus volledig zelf kunnen kiezen \\nwaaraan je aan het denken bent. Ook als het verschrikkelijk rare \\ndingen zijn die je zou bedenken. Het is een heel belangrijke component  \\nvan de liberale democratie. Het is een vrijheidsbeginsel. En het is iets \\nwaarvan bijna iedereen vindt dat je er nooit aan mag raken. Je vrijheid is compleet, totaal. Wat voor belachelijke dingen je denkt, je bent honderd percent vrij \\nom dat te doen. Er is een bekend beginsel \\nin het liberale denken. John Stuart Mill, \\nhet schadebeginsel: mijn vrijheid eindigt \\nwaar ik jou schaad. Maar de vrijheid van denken \\nwordt niet beperkt door dat schadebeginsel. Het staat je open \\nom te denken wat je wilt, want je schaadt me niet door te denken \\nwat jij aan het denken bent. Dus dat is een cruciale vrijheid. Die moeten we behouden. Tegelijk denk ik \\ndat je moet beseffen dat het misschien niet altijd wijs is  \\nvoor jou als individu om voortdurend alle hoeken \\nvan de mogelijke gedachtes die jouw verstand kan opbrengen, \\nte gaan exploreren. Als je bepaalde \\nongegronde angsten hebt, is het niet verstandig voor jou om permanent die angstgevoelens \\nte bezoeken in je hoofd. Misschien kan je proberen \\nom soms aan iets anders te denken. Het is ook handig, \\nals je veel verleidingen hebt, om niet voortdurend eraan te denken  \\nen ermee bezig te zijn. Je kan ook proberen je brein \\nin een andere richting te sturen. En ik denk zelfs, los van de vraag \\nof het verstandig of wijs is... Je kan ook denken of vinden dat bepaalde gedachtes op termijn \\nanderen schade kunnen berokkenen. Stel dat jij vindt dat homoseksuelen  \\nlater zullen branden in de hel, en dat je daarmee bezig bent, of dat je voortdurend geniet \\nvan het folteren van dieren in je hoofd, dan kan je je voorstellen dat dat \\nzal leiden tot onwenselijk gedrag. Dus dat het toch voor een groot deel  \\nonderhevig is aan het schadebeginsel. Desondanks denk ik als liberaal... Trouwens niet alleen als liberaal. Het staat ook in de UVRM: \\ner is een totale vrijheid van denken. We moeten dat alleen aanpakken als  \\nhet zou leiden tot schade bij anderen. Vrijheid van denken is voor mij \\nin de eerste plaats een fundamenteel mensenrecht. Het is artikel 18 van de Universele Verklaring \\nvan de Rechten van de Mens. En ik denk dat vrijheid of vrij denken  \\nniet alleen essentieel is voor ons als individu, maar ook maatschappelijk \\neen enorm belang heeft. Vrijheid van denken is de bron \\nvan een gezonde samenleving, van een gezonde democratie, van het vinden van oplossingen \\nvoor problemen. Dus het is een fundamenteel recht. Maar hoe we dan precies \\nvrij denken moeten begrijpen, dat vind ik net iets moeilijker. Ik zie vooral \\neen interessante interactie tussen enerzijds cultuur, \\nopvoeding, denkkaders, input die je krijgt als mens, en anderzijds de ontwikkeling \\nvan je eigen kritische zelf. Je zelfontplooiing, je eigen denken. Het is in de interactie tussen die twee  \\ndat het vrije denken echt vorm krijgt. Het is wel belangrijk \\ndat je geen slaaf wordt van de frames die je binnenkrijgt, de opvoeding die je krijgt, \\nde denkers die je leest... Dat is een uitdaging,\\n want door je ervaringen, \\ngoed of slecht, krijg je bepaalde idee-fixen,  \\nvooroordelen, rigide overtuigingen. Het is een constante opdracht om te  \\nzorgen dat je zo niet ingesloten raakt, dat je daar geen slaaf van wordt. En tot slot denk ik dat ons handelen,  \\nonze acties, onze besluiten binnen een sterk afgebakend \\nmoreel kader moeten gebeuren. Maar ik denk dat het vrije denken  \\ngrenzeloos kan zijn. Dat het alleen botst \\nin discussie en debat. Ik denk dat we het vrije denken  \\nmoeten koesteren. Het is de zuurstof voor ons als mens. Het maakt ons als mens uniek. En het is ook zuurstof \\nvoor onze samenleving. Vrijheid van denken is een... Als ik het zo mag zeggen: \\neen pleonasme. Dat wil zeggen: in het begrip denken  \\nzit het begrip vrijheid. Er bestaat geen denken \\ndat niet vrij is. Op het moment dat het niet vrij is, \\nis het geen denken meer. Dat zal ook de reden zijn \\nwaarom Descartes heeft gezegd: Ik denk, dus ik besta. Mijn wezen bestaat uit denken. Zelfs Pascal, die het op belangrijke  \\nvlakken met Descartes oneens was, schrijft in zijn 'Pensées' dat de waardigheid van de mens \\nzich uit in ons denken. Je kunt dus... \\nMensen die niet denken, zijn niet vrij. Want waarom is het zo dat denken de essentie \\nvan het menselijke bestaan uitmaakt? Omdat we in heel veel opzichten \\nals dieren zijn. We hebben een fysiek. We hebben bloed. We hebben onze instincten, \\ndriften, lusten, angsten. In heel veel dingen verschillen we \\nniet zo heel veel van het dierenrijk. Maar wij kunnen denken. We hebben een bewustzijn. Dankzij dat bewustzijn kunnen we \\ntot bepaalde inzichten komen, kunnen we bedenken of beseffen \\nwie we zijn en wat we zouden willen doen. Maar ook dat is een uiting \\nvan de absolute vrije wil van wat je kunt doen op het moment  \\ndat je tot inzichten bent gekomen, op het moment dat je kunt denken, \\ndat je je bewustzijn activeert.\",\n",
       "  'metadata': {'mediacontent_page_description': 'Wat is vrijheid van denken? Met antwoorden van Helder De Schutter, Rob Riemen en Wies De Graeve.',\n",
       "   'mediacontent_pagetitle_program': 'Grote vragen'}},\n",
       " '1': {'page_content': \"Wim Helsen nodigt interessante gasten uit voor een gesprek over hun favoriete tekst. Brigitte Raskin kiest voor een tekst uit ‘Hoe te leven op de ruïnes van het kapitalisme’ van Stefan Hertmans:Het ontaarden van het vrijheidsdiscours in een egocentrische kreet is ontstellend. Het is tragisch hoe het vrijheidsideaal heeft geleid tot een weigering van verantwoordelijkheid. De vrijheid om niét samen te werken, om niét gevaccineerd te worden, om democratische spelregels aan de laars te lappen. De samenleving wordt niet langer beschouwd als de zorg voor de ander, maar als een jungle waarin iedereen zijn zin mag doen. Als u mij 'Winteruur' \\nziet presenteren met een neus die niet blinkt, \\ndan is dat dankzij de schminkster die mij vlak voor de uitzending, \\nof de opname, nog bijpoedert. Soms wel met beledigende woorden, \\nzoals: Je neus produceert te veel vet. Maar daar hebben jullie dus \\ngeen last van. Alleen ik en de schminkster, \\ndie meer werk heeft. Welkom in 'Winteruur', \\nBrigitte Raskin. Heeft u soms last van een neus \\ndie te veel vet produceert? Integendeel. Niets is zo heerlijk \\nals een tv-opname waar je ongeschminkt naartoe komt \\nen ze je dan schminken. Dan ben je mooier \\nvoor het vervolg van de dag. Ik leid u even in. U was ooit journaliste, \\nu bent historica en schrijfster. Als schrijfster hebt u ooit ook \\nde AKO Literatuurprijs gewonnen, met 'Het koekoeksjong'. En ondertussen bent u zelf \\njuryvoorzitster van de Boon, \\neen nieuwe literaire prijs. Een grote literaire prijs \\nwaarvan het de bedoeling is dat die zal blijven bestaan. Voor het stuk fictie, non-fictie \\nbent u verantwoordelijk. Mijn vriendinnetje voor kinder- en \\njeugdliteratuur is Martine Tanghe. Ja. Dat betekent dus dat u \\nheel veel aan het lezen bent nu. En aan het discussiëren. \\n- Tientallen en tientallen boeken. Die hebben we al teruggebracht \\ntot een longlist. Er komt een shortlist \\nen in maart komt er een winnaar. Maar u hebt geen boek mee \\nom uit voor te lezen. Ik had keuze zat in al die boeken, maar ik ben naar hier gekomen \\nmet de krant, een bijlage van De Standaard, \\nDe Standaard der Letteren. Die, ja... Lees maar voor, lees eerst voor. \\n- Ja. Er staat in, op de cover: Aan het woord is Stefan Hertmans. Dat stond zo in de krant. Bam. \\n- Ja. Ik zag dat, op een ochtend. Vooral de eerste zin verwoordde \\nwat ik al maanden dacht. Toen heb ik dat \\nop mijn bureau gelegd en dat is daar maanden \\nblijven liggen. De combinatie in de eerste zin \\nvan dat vrijheidsdiscours dat nu zo egocentrisch klinkt. Van... Ja, dat is... Dat hebben wij \\nvoortdurend meegemaakt. Daarover ben ik beginnen \\nna te denken vorig jaar, bij die eerste La Boum. Al die kreten van... \\n- In het Zoniënwoud. Ja. Vrijheid, vrijheid, liberté... Hertmans... Hij zegt, en dat onderschrijft u, dat het woord 'vrijheid' \\nwordt misbruikt. - Ja. Of anders ingevuld wordt dan... \\n- Precies. Zoals men altijd overal \\nhet woord 'God' misbruikt, of God tout court misbruikt, \\nzo wordt nu de vrijheid als een... ...als een soort confectiebegrip \\ngebruikt. De tekst komt uit een essay \\nvan Hertmans. Hij citeert daarin een bord \\ndat iemand... - Hooghoudt. ...bij een betoging omhoog houdt, \\nen daar stond op: Mieux vaut mourir en liberté \\nque de vivre en esclavage. - Ja. Liever dood dan slaaf. Nu, naar aanleiding van... Van de lockdowns en zo. \\n- Van de vaccinaties. Stel je voor. Een van de boeken die ik las, gaat over de onvrijheid \\nonder Khomeini in Iran. Het begin van het Khomeini-regime. Als je zo'n boek leest, dan weet je \\nwat gebrek aan vrijheid is. En wie 'onvrijheid' mag roepen \\nen zo verder. Hè? En dan heb je nog \\nde historische onvrijheid. Slaven, vrouwen... \\n- Ja. En dan denk je: maar jongens toch, \\nmeisjes toch... Ja. Want Hertmans zegt hier: vrijheid wordt gelijkgesteld met het \\nweigeren van verantwoordelijkheid, van samenwerken, \\nvan zorgen voor de ander. Hij zegt eigenlijk ook vooral: \\nmijn vrijheid. Ik wil mijn lijf, \\nmijn dingen, mijn... Ja. \\n- Wij zijn niet onvrij. Wij zijn ook niet onvrij als we gevaccineerd moeten worden, \\nenzovoort. En toch, als u zich voorstelt \\ndat u 18 jaar was... U bent ondertussen al gevorderder \\ndan dat qua leeftijd. Denk ik. \\n- Helaas. Kunt u zich dat niet voorstellen \\ndat u gedreven door jeugdige energie en anarchistische spirit, \\nweet ik wat, daar mee in het Zoniënwoud \\nbeland zou zijn? Want ook toen ik 18 jaar was, wist ik al wat vrijheid \\nen onvrijheid was. Ik had al... Ik ben toch van een generatie die nog veel over de Tweede Wereld- \\noorlog heeft gehoord en gelezen. Voor wie dat geen geschiedenis is, maar in elk geval in de familie \\nactualiteit is. Maar mocht ik nu 18 jaar zijn, \\nzou ik... Dan zou ik betogen \\nmet Anuna De Wever, met Greta Thunberg... Misschien was ik niet zo dapper \\ngeweest als Greta Thunberg om daar in mijn eentje aan de schoolpoort te gaan zitten \\nmet mijn bordje... - Ja. ...maar ik zou \\neen klimaatbetoger zijn. Oké. \\n- Dat in alle geval. Die eindigt met: De samenleving \\nwordt niet langer beschouwd als de zorg voor de ander, Dat is de invulling van vrijheid \\ndie die mensen met... - Die nu. Die nu, hè. \\nVan: voilà, ik wil vrijheid. Ik doe wat ik wil, \\nkom er niet aan. Hè? Ik zal wel zien. \\nNaar mijn mening. Dat is ook weer iets dat door mijn \\nhoofd is gaan spelen, die jungle. En in het vervolg van hetzelfde \\ndiscours, in dezelfde krant, las ik een column \\nvan Paul Goossens. Eigenlijk allebei \\nmijn generatiegenoten. Dus we zijn als het ware \\nmet drie aan het woord. Hertmans, Goossens en Raskin. Goossens gaat in op die jungle. \\nEn hij zegt: Je komt terecht \\nin een meedogenloze maatschappij waarin de zwakkeren \\nworden gemarginaliseerd De polarisatie. \\n- Ja. Die je nu hebt. En dat klopt ook \\nmet hoe u het ziet? Dat is helemaal juist \\nen dat is ook mijn bekommernis. Want ziet u zichzelf als behorend \\ntot de groep van de zwakkeren? Ik behoor tot de bevoorrechten. Maar u hoort wel bij de risicogroep \\nwat covid betreft, denk ik. Ja. Maar ik heb een beetje... Ik heb vertrouwen in... Wat ik niet goed begrijp, is \\ndat antivaxers en antipasmensen... Ja maar, het is onbetrouwbaar, \\nze veranderen altijd de regels. Maar je ziet toch dat die politici \\nen die wetenschappers zelf zoeken naar wat het beste is \\ndat ze kunnen doen. En hoe dan ook hebben zij daar \\nmeer verstand van dan ik. Dus ik verkies vertrouwen te hebben \\nin Frank Vandenbroucke en in al die virologen samen. \\n- Ja. Als ik Erika Vlieghe hoor, \\ndan denk ik: dat mens weet het veel beter \\ndan ik, ik ga daar vertrouwen in hebben. \\n- Ja, oké. Want daar gaat het om, hè? \\nOm vertrouwen. Wil u het nog eens voorlezen? \\n- Graag. Het ontaarden \\nvan het vrijheidsdiscours in een egocentrische kreet \\nis ontstellend. Het is tragisch \\nhoe het vrijheidsideaal heeft geleid tot een weigering \\nvan verantwoordelijkheid. De vrijheid om niet samen te werken, \\nom niet gevaccineerd te worden, om democratische spelregels \\naan de laars te lappen. De samenleving wordt niet langer \\nbeschouwd als de zorg voor de ander, maar als een jungle \\nwaarin iedereen zijn zin mag doen. Als een meedogenloze maatschappij waar de zwakkeren \\nworden gemarginaliseerd en de sterksten \\nde spelregels dicteren. We kregen er nog een gratis annex \\nbij ook, bij de tekst.\",\n",
       "  'metadata': {'mediacontent_page_description': 'Wim Helsen nodigt interessante gasten uit voor een gesprek over hun favoriete tekst. Brigitte Raskin kiest voor een tekst uit ‘Hoe te leven op de ruïnes van het kapitalisme’ van Stefan Hertmans:Het ontaarden van het vrijheidsdiscours in een egocentrische kreet is ontstellend. Het is tragisch hoe het vrijheidsideaal heeft geleid tot een weigering van verantwoordelijkheid. De vrijheid om niét samen te werken, om niét gevaccineerd te worden, om democratische spelregels aan de laars te lappen. De samenleving wordt niet langer beschouwd als de zorg voor de ander, maar als een jungle waarin iedereen zijn zin mag doen.',\n",
       "   'mediacontent_pagetitle_program': 'Winteruur'}},\n",
       " '2': {'page_content': 'Wanneer ben je werkelijk vrij? Met antwoorden van Ignaas Devisch (professor ethiek, filosofie en medische filosofie), Sarah Vandeursen (radio- en televisiemaakster) en Wies De Graeve (directeur Amnesty International Vlaanderen). Ik denk dat het werkelijke vrij-zijn \\nnet zou kunnen bestaan uit de overtuiging \\ndat het absoluut niet nodig is om je van alles vrij te maken \\nom die vrijheid te kunnen beleven. We hebben vandaag \\nheel veel keuzemogelijkheden om heel zelfstandig en autonoom \\neen leven te leiden, maar dat we zoveel  \\nkeuzemogelijkheden hebben maakt nog niet dat we daar ook \\nvrijer van worden, in de zin dat je met keuzes \\nkan omgaan. Ik denk dat, net doordat anderen \\nons voor een stukje bijstaan, doordat we in een bepaald netwerk \\nen een bepaalde omgeving zitten, die vrijheid eigenlijk \\ngekaderd wordt, waardoor het voor mij \\nmogelijk wordt om iets zinnigs \\nmet die vrijheid te doen. Anders heeft het volgens mij \\nweinig zin om die vrijheid überhaupt \\nna te streven. Nu klink ik plots dodelijk ernstig, \\nmaar dat is mijn antwoord. Het dichtst dat ik al bij vrijheid \\nben gekomen, denk ik, ultieme vrijheid, is... ...op de momenten \\ndat je dingen opgeeft die heel moeilijk zijn. Als je keuzes maakt \\ndie verschrikkelijk moeilijk zijn... ...maar waarvan je beseft \\ndat jij die maakt. Als je er eigenlijk voor kiest \\nom pijn te hebben... ...maar jij kiest ervoor. Omdat je erin gelooft \\ndat het op lange termijn de beste keuze is. Als je met niemand rekening houdt, als je zelfs denkt: \\nwat ze er ook van mogen denken... Het is misschien zelfs niet koosjer,  \\nwat ik doe, maar ik doe het. Ik denk dat dat voor ieder individu \\niets anders betekent. dat werkelijke vrijheid voor mij \\nook veel moed vraagt, het vraagt veel autonomie \\nen veel vertrouwen in jezelf. Het vraagt ook een heel sterk \\nmoreel kader in jezelf om met die vrijheid om te gaan. Ik denk dat je werkelijke vrijheid kan  \\nvergelijken met van een klif springen. Het is belangrijk dat je niet \\nvan de klif in het ondiepe springt, maar meteen in het diepe, \\nanders breek je je nek. Misschien moeten we vrijheid vooral  \\nbegrijpen als: in het diepe springen.',\n",
       "  'metadata': {'mediacontent_page_description': 'Wanneer ben je werkelijk vrij? Met antwoorden van Ignaas Devisch (professor ethiek, filosofie en medische filosofie), Sarah Vandeursen (radio- en televisiemaakster) en Wies De Graeve (directeur Amnesty International Vlaanderen).',\n",
       "   'mediacontent_pagetitle_program': 'Grote vragen'}},\n",
       " '3': {'page_content': \"Wim Helsen nodigt interessante gasten uit voor een gesprek over hun favoriete tekst.Robrecht Vanden Thoren kiest voor een tekst uit 'De zin van het bestaan' van Victor E. Frankl:Wij, die in concentratiekampen hebben geleefd, wij zijn de gevangenen niet vergeten die door de barakken liepen om anderen op te beuren en te troosten, die hun laatste korst brood aan een medegevangene schonken.Hun aantal was wellicht klein, toch hebben deze mannen overtuigend bewezen dat één ding de mens niet kan worden ontnomen: de allerlaatste menselijke vrijheid – de keuze onder alle omstandigheden zijn eigen houding te bepalen, zijn eigen weg te kiezen. Ja, hallo. Dit is 'Winteruur'. Voorafgaand aan elke opname \\nvoor eender welke scène voor een film of voor tv \\nwordt er een klap gegeven. De reden daarvoor is om geluid en  \\nbeeld samen te brengen, wordt gezegd. Wanneer ze gaan monteren, \\nkunnen ze teruggaan naar dat moment waarop ze zowel iets visueels \\nals iets auditiefs, want een klap maakt geluid. Snap je? Dus daarom doen we voor \\neen tv-programma altijd een klap, die u nooit ziet, maar nu snapt u wel  \\nwaarom het gebeurt. Welkom in 'Winteruur', \\nSwami Bami en Robrecht Vanden Thoren. \\n- Dank je. Acteur, ik ging bijna \\n'advocaat' zeggen. Ik zie er vandaag misschien \\nwat meer advocaat uit dan acteur. Acteur voor tv, toneel en je hebt ook een solo gemaakt. \\n- Zeker. 'De hoogste berg', een solo die ik  \\neen halfjaar geleden heb gezien, nog voor corona. \\n- Ja. Ik heb er enorm van genoten. \\nJe speelt die nog altijd? - Ja. Je kan die speellijst checken \\nop www.robrechtvandentoren.be. Hahaha, voilà. \\n- Minireclame gemaakt. Het is de moeite, zeg ik. Ik zie dat je al klaarzit \\nmet je tekst. - Ja. Dat was toch gevraagd. \\n- Ja, lees maar voor. Wij, die in concentratiekampen \\nhebben geleefd, Van Viktor E. Frankl. \\n- Frankl, ja. Hoe en wanneer \\nheb je dit leren kennen? Ik heb dit leren kennen \\nvia een aflevering van 'Touché', waarin ik... \\n- Het radioprogramma? Het radioprogramma \\nmet Friedl' Lesage, waarin ik psychotherapeute \\nEsther Perel aan het woord hoorde... Zij zei toen iets \\nwat op dat moment in mijn leven... Ik zat toen in een scheiding. Enfin, mijn partner had mij verlaten \\nvoor iemand anders. Ander en mooier? Ja, uiteraard. Hahaha. \\n- Sorry. Die zei iets \\nwaar ik heel veel aan had en zij verwees naar dit boek. \\n- Ah, oké. En toen heb je gezegd: \\nIk koop dat boek. - Ja. Ik heb dat boek toen... Ik was toen \\nheel zoekende naar... een signaal. Wacht, laat mij raden. Dus je hebt  \\ndat boek dan besteld en gelezen en het heeft je geholpen? \\n- Ja. Eigenlijk had wat zij zei \\nmij al geholpen. - Ja. Maar het boek heeft dat \\nwel nog versterkt. Is dit voor jou dan de idee \\nin het boek die je het meest helpt? Ja. Wat Esther Perel \\nin dat interview zei, was, kort door de bocht, \\ndat er tussen iets dat je overkomt en de reactie daarop, \\ndie je zelf geeft, een tijdspanne bestaat, al is het \\neen fractie van een seconde, waarin je persoonlijke vrijheid zit, dat je dus zelf kunt initiëren \\nhoe je reageert. Ja. En die idee wordt ook \\nin je tekst... - Ja. Als ik het in mijn woorden zeg, \\nmoet jij zeggen of het klopt. Viktor Frankl zegt: \\nWij in de concentratiekampen... Hij zat er zelf ook. Ja, hij is een overlever \\nvan een concentratiekamp. We mogen niet vergeten \\ndat er gevangenen waren die, ook al hadden ze zelf geen eten,  \\naf en toe eten uitdeelden aan anderen en dat illustreert dat je, \\nhoe erg de omstandigheden ook zijn, zelf nog altijd kan bepalen wat \\nje houding daartegenover is. - Ja. Dat is ook wat jij zegt \\ndat Esther Perel bedoelde? - Ja. Zij zei dat iets anders \\ndan het hier geformuleerd staat. Zij had het over die milliseconde,  \\nwat voor mij dan toonde dat je in alle reacties die je geeft  \\nkunt beslissen wie je bent. Ik wil dat even loskoppelen, want je hebt ook de maakbaarheid \\nvan de mens, waar ik niet in geloof. Ik denk dat heel veel mensen \\ndingen tegenkomen die ze niet in de hand hebben,  \\nmisschien van de geboorte af al. Dus het is niet dat ik daarmee \\ndaar iets over wil zeggen, maar ik zat in een situatie \\nwaarin ik het gevoel had dat ik een soort speelbal was \\nvan de dingen die mij overkwamen. Ik had heel weinig stabiliteit nog. \\n- Je was een slachtoffer? Ik voelde mij echt \\nheel erg slachtoffer. Ik wou me er niet in wentelen, \\nmaar vond niet meteen handvaten... Sorry dat ik je onderbreek. \\nAls we ons slachtoffer voelen, reageren we vaak gewoon meteen: \\nkwaad, bitter of je net terugtrekken, \\nweet ik wat allemaal. Dat is de normale manier \\nvan reageren? - Ja. En een heel groot... \\nIk had, toen zeker, een heel groot gevoel van falen, omdat je iets opbouwt \\nen dat ineens allemaal wegvalt. Je gezin valt uiteen, \\nje komt in financiële problemen, of uitdagingen op zijn minst. \\n- Ja. Emotionele uitdagingen. Op dat moment ben je, of ik toch, \\nheel erg verrast door de situatie. Ik had mij daar niet op \\nkunnen voorbereiden. - Ja, jammer. Dus in die zin had ik \\nheel veel aan die woorden. Op welke manier maakten deze woorden  \\ndan het verschil? Of die idee die Esther Perel \\nhad geformuleerd? Het feit dat ik even het gevoel had, ook door dingen die ik weer \\nkon bepalen op dat moment, dat er weer een toekomst lag en ik niet alleen maar in een soort  \\nneerwaartse spiraal zat, maar ik ineens dacht: als ik dat  \\nbeslis, heeft dat dat tot gevolg. En zo voelde ik een mogelijkheid \\nom daar weer... Is dat dan ook de idee \\nof het besef: ik kan zelf kiezen hoe ik reageer? Ik hoef niet kwaad te worden \\nof depressief of ik weet niet wat. Dat ben je dan ook gaan doen? \\n- In de mate van het mogelijke. Ik wil daar zeker niet mee zeggen \\ndat ik dat perfect kan. Dat zou geen goeie... - Goed dat je  \\ndat zegt, dat dachten wij allemaal. Er is niet één goeie weg \\nom iets te doen, maar ik heb er heel veel aan gehad. Kan je een voorbeeld geven \\nvan hoe je anders hebt gereageerd? Ja, ik... Euhm... Ik denk dat ik ook meer vanuit \\nde ander ben beginnen te denken: hoe is het aan de andere kant? Hoe moeilijk dat dan \\nop sommige momenten ook is. Maar als het je lukt om dat te doen, is het ook makkelijker \\nom te communiceren? - Precies. Proberen je in de schoenen \\nvan de ander te plaatsen en waarom die doet tegenover jou \\nwat die aan het doen is. En door dat te doen, \\ngaan dingen dan makkelijker? Ja, je kunt, denk ik, makkelijker, allee voor mij dan, \\nde juiste beslissing nemen. - Ja. Oké, goed. En hoe is het nu? Euh, beter. Veel beter. \\n- Ja? Jajaja. \\n- Oké. Hèhè, oef. Wil je het nog eens voorlezen? \\n- Ik ga het nog eens voorlezen. Wij, die in concentratiekampen  \\nhebben geleefd, zijn de gevangenen niet vergeten \\ndie door de barakken liepen om anderen op te beuren \\nen te troosten, die hun laatste korst brood \\naan een medegevangene schonken. Hun aantal was wellicht klein, \\ntoch hebben deze mannen overtuigend bewezen dat één ding \\nde mens niet kan worden ontnomen: de allerlaatste menselijke vrijheid, de keuze onder alle omstandigheden  \\nzijn eigen houding te bepalen, zijn eigen weg te kiezen. Eindklap is dat. \\nDat is als het mislukt is. Nee, nu kunnen beeld en geluid \\nweer hun eigen gang gaan. - Ja. Los van elkaar. \\n- Fsjt.\",\n",
       "  'metadata': {'mediacontent_page_description': \"Wim Helsen nodigt interessante gasten uit voor een gesprek over hun favoriete tekst.Robrecht Vanden Thoren kiest voor een tekst uit 'De zin van het bestaan' van Victor E. Frankl:Wij, die in concentratiekampen hebben geleefd, wij zijn de gevangenen niet vergeten die door de barakken liepen om anderen op te beuren en te troosten, die hun laatste korst brood aan een medegevangene schonken.Hun aantal was wellicht klein, toch hebben deze mannen overtuigend bewezen dat één ding de mens niet kan worden ontnomen: de allerlaatste menselijke vrijheid – de keuze onder alle omstandigheden zijn eigen houding te bepalen, zijn eigen weg te kiezen.\",\n",
       "   'mediacontent_pagetitle_program': 'Winteruur'}}}"
      ]
     },
     "execution_count": 16,
     "metadata": {},
     "output_type": "execute_result"
    }
   ],
   "source": [
    "out"
   ]
  },
  {
   "cell_type": "code",
   "execution_count": 17,
   "metadata": {},
   "outputs": [],
   "source": [
    "# Generate prompt\n",
    "system_prompt = \"\"\"\n",
    "Je bent een hulpvaardige assistent die Nederlands spreekt.\n",
    "Je krijgt vragen over de catalogus van programma's van het videoplatform VRT MAX. \n",
    "Je probeert mensen te helpen om programma's aan te bevelen die aansluiten bij hun vraag.\n",
    "Daarvoor krijg je een beschrijving van een aantal programma's.\n",
    "Aan jou om wat relevant is aan te bevelen.\n",
    "Begin niet met het geven van jouw mening over de programma's. Begin direct met het aanbevelen van relevante content aan de gebruiker.\n",
    "\"\"\"\n",
    "\n",
    "user_prompt = \"\"\n",
    "for item in out.keys():\n",
    "    \n",
    "    user_prompt += \"Het programma met de naam \" + out[item][\"metadata\"][\"mediacontent_pagetitle_program\"] +\\\n",
    "          \" heeft volgende beschrijving: \" + out[item][\"metadata\"][\"mediacontent_page_description\"] \n",
    "    \n",
    "    # + \" en in het programma wordt er onder meer het volgende gezegd dat misschien relevant is voor de vraag: \" + \\out[item][\"page_content\"]\n",
    "\n",
    "user_prompt += \" Tot zover alle informatie over de programmas.\"\n",
    "\n",
    "user_prompt += \" Gelieve met die informatie een antwoord te geven op volgende vraag: \" + question"
   ]
  },
  {
   "cell_type": "code",
   "execution_count": 18,
   "metadata": {},
   "outputs": [
    {
     "name": "stdout",
     "output_type": "stream",
     "text": [
      "Aan de hand van de beschrijvingen van de programma's Grote vragen en Winteruur lijkt het alsof deze programma's interessante en relevante inhoud hebben over het thema vrijheid. \n",
      "\n",
      "Ik zou de programma's Grote vragen en Winteruur aanbevelen om meer te weten te komen over het thema vrijheid. In Grote vragen worden verschillende kanten van het thema vrijheid besproken, zoals de vraag wanneer je werkelijk vrij bent en wat vrijheid van denken inhoudt. In Winteruur worden teksten van bekende auteurs besproken die over vrijheid schrijven, zoals Stefan Hertmans en Victor E. Frankl. \n",
      "\n",
      "Beide programma's lijken mij relevante en interessante content te bieden voor iemand die iets wil weten over het thema vrijheid.\n"
     ]
    }
   ],
   "source": [
    "# Ask question\n",
    "# Prompt to generate\n",
    "messages=[\n",
    "    { \"role\": \"system\", \"content\": system_prompt },\n",
    "    { \"role\": \"user\", \"content\": user_prompt }\n",
    "  ]\n",
    "\n",
    "# Generation arguments\n",
    "parameters = {\n",
    "    \"model\": \"meta-llama/Meta-Llama-3-8B-Instruct\", # placeholder, needed\n",
    "    \"top_p\": 0.6,\n",
    "    \"temperature\": 0.9,\n",
    "    \"max_tokens\": 512,\n",
    "    \"stop\": [\"<|eot_id|>\"],\n",
    "}\n",
    "\n",
    "chat = llm.predict({\"messages\" :messages, **parameters})\n",
    "\n",
    "print(chat[\"choices\"][0][\"message\"][\"content\"].strip())"
   ]
  },
  {
   "cell_type": "code",
   "execution_count": null,
   "metadata": {},
   "outputs": [],
   "source": []
  },
  {
   "cell_type": "code",
   "execution_count": null,
   "metadata": {},
   "outputs": [],
   "source": []
  }
 ],
 "metadata": {
  "kernelspec": {
   "display_name": "llm",
   "language": "python",
   "name": "python3"
  },
  "language_info": {
   "codemirror_mode": {
    "name": "ipython",
    "version": 3
   },
   "file_extension": ".py",
   "mimetype": "text/x-python",
   "name": "python",
   "nbconvert_exporter": "python",
   "pygments_lexer": "ipython3",
   "version": "3.10.14"
  }
 },
 "nbformat": 4,
 "nbformat_minor": 2
}
