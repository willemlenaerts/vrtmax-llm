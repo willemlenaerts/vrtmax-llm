{
 "cells": [
  {
   "cell_type": "code",
   "execution_count": null,
   "metadata": {},
   "outputs": [],
   "source": [
    "from langchain_community.document_loaders import PyPDFLoader\n",
    "from langchain.text_splitter import RecursiveCharacterTextSplitter\n",
    "from langchain.vectorstores import FAISS\n",
    "from langchain.embeddings import HuggingFaceEmbeddings\n",
    "import os\n",
    "\n",
    "# to create a new file named vectorstore in your current directory.\n",
    "def load_knowledgeBase():\n",
    "        model_name = \"NetherlandsForensicInstitute/robbert-2022-dutch-sentence-transformers\"\n",
    "        encode_kwargs = {'normalize_embeddings': False}\n",
    "        hf = HuggingFaceEmbeddings(\n",
    "            model_name=model_name,\n",
    "            encode_kwargs=encode_kwargs\n",
    "        )\n",
    "        DB_FAISS_PATH = os.path.normpath(os.getcwd() + os.sep + os.pardir) + '/data/faiss'\n",
    "        vs = FAISS.load_local(DB_FAISS_PATH, hf,allow_dangerous_deserialization=True)\n",
    "        return vs"
   ]
  }
 ],
 "metadata": {
  "kernelspec": {
   "display_name": "llm",
   "language": "python",
   "name": "python3"
  },
  "language_info": {
   "name": "python",
   "version": "3.10.14"
  }
 },
 "nbformat": 4,
 "nbformat_minor": 2
}
