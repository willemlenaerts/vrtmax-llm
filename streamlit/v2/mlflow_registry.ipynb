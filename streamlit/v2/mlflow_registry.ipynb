{
 "cells": [
  {
   "cell_type": "code",
   "execution_count": 29,
   "metadata": {},
   "outputs": [
    {
     "name": "stderr",
     "output_type": "stream",
     "text": [
      "2024/09/12 18:19:02 WARNING mlflow.models.model: Input example should be provided to infer model signature if the model signature is not provided when logging the model.\n",
      "2024/09/12 18:19:02 INFO mlflow.tracking._tracking_service.client: 🏃 View run omniscient-shoat-600 at: http://localhost:8080/#/experiments/813559020832633120/runs/0fc8385912194b7aabacc9586e682b88.\n",
      "2024/09/12 18:19:02 INFO mlflow.tracking._tracking_service.client: 🧪 View experiment at: http://localhost:8080/#/experiments/813559020832633120.\n"
     ]
    },
    {
     "name": "stdout",
     "output_type": "stream",
     "text": [
      "runs:/0fc8385912194b7aabacc9586e682b88/rag-model\n"
     ]
    }
   ],
   "source": [
    "import mlflow\n",
    "import os\n",
    "import logging\n",
    "import sagemaker\n",
    "import pandas as pd\n",
    "\n",
    "from langchain.prompts import PromptTemplate\n",
    "\n",
    "from langchain.chains import RetrievalQA\n",
    "import sagemaker\n",
    "import boto3\n",
    "import json\n",
    "import subprocess\n",
    "from langchain_aws import ChatBedrockConverse\n",
    "from os import environ\n",
    "from langchain.embeddings.huggingface import HuggingFaceEmbeddings\n",
    "from langchain.vectorstores import OpenSearchVectorSearch\n",
    "from opensearchpy import RequestsHttpConnection, AWSV4SignerAuth\n",
    "from langchain_core.prompts import ChatPromptTemplate\n",
    "from langchain_core.output_parsers import StrOutputParser\n",
    "from langchain_core.runnables import RunnablePassthrough\n",
    "from typing import List\n",
    "from langchain.embeddings.base import Embeddings\n",
    "from sentence_transformers import SentenceTransformer\n",
    "from fuzzywuzzy import fuzz\n",
    "\n",
    "os.environ['MLFLOW_TRACKING_URI']=\"http://localhost:8080\"\n",
    "\n",
    "model_name = \"NetherlandsForensicInstitute/robbert-2022-dutch-sentence-transformers\"\n",
    "encode_kwargs = {'normalize_embeddings': False}\n",
    "\n",
    "class CustomEmbeddings(Embeddings):\n",
    "    def __init__(self, model_name: str):\n",
    "        self.model = SentenceTransformer(model_name)\n",
    "\n",
    "    def embed_documents(self, documents: List[str]) -> List[List[float]]:\n",
    "        return [self.model.encode(d).tolist() for d in documents]\n",
    "\n",
    "    def embed_query(self, query: str) -> List[float]:\n",
    "        return self.model.encode([query])[0].tolist()\n",
    "    \n",
    "model_name = \"NetherlandsForensicInstitute/robbert-2022-dutch-sentence-transformers\"\n",
    "encode_kwargs = {'normalize_embeddings': False}\n",
    "embeddings = HuggingFaceEmbeddings(\n",
    "    model_name=model_name,\n",
    "    encode_kwargs=encode_kwargs\n",
    ")\n",
    "\n",
    "embeddings = CustomEmbeddings(model_name=model_name)\n",
    "\n",
    "def fuzzy_match(boolean_filter,user_input, type):\n",
    "    if len(user_input) < 5: # filter out short strings that are part of a program name by accident\n",
    "        return boolean_filter\n",
    "    if type == \"program\":\n",
    "        df = pd.read_csv(\"programmas.csv\")\n",
    "        metadata_filter = \"metadata.mediacontent_pagetitle_program\"\n",
    "    elif type == \"person\":\n",
    "        df = pd.read_csv(\"personen.csv\")\n",
    "        metadata_filter = \"metadata.mediacontent_episode_castlist\"\n",
    "\n",
    "    output = []\n",
    "    for naam in list(df.naam):\n",
    "        try:\n",
    "            score = fuzz.partial_ratio(naam.lower(),user_input.lower())\n",
    "        except:\n",
    "            score = 0\n",
    "        output.append((naam,score))\n",
    "\n",
    "\n",
    "    output = sorted(\n",
    "        output, \n",
    "        key=lambda x: x[1],\n",
    "        reverse=True\n",
    "    )[0]\n",
    "\n",
    "    if output[1] > 95:\n",
    "        match = output[0]\n",
    "        boolean_filter[\"bool\"][\"must\"].append({\"match_phrase\" : {metadata_filter:match}})\n",
    "    \n",
    "    return boolean_filter\n",
    "\n",
    "def get_opensearch():\n",
    "    docsearch = OpenSearchVectorSearch(\n",
    "        index_name=\"aoss-index\",  # TODO: use the same index-name used in the ingestion script\n",
    "        embedding_function=embeddings,\n",
    "        opensearch_url=\"https://epcavlvwitam2ivpwv4k.eu-west-2.aoss.amazonaws.com:443\",  # TODO: e.g. use the AWS OpenSearch domain instantiated previously\n",
    "        http_auth = auth,\n",
    "        use_ssl = True,\n",
    "        verify_certs = True,\n",
    "        connection_class = RequestsHttpConnection,\n",
    "        is_appx_search=False\n",
    "    )\n",
    "\n",
    "    return docsearch\n",
    "\n",
    "def format_docs(docs):\n",
    "    context = []\n",
    "    for d in docs:\n",
    "        program_description = \"\"\n",
    "        if d.metadata[\"mediacontent_page_description_program\"]  != \"\":\n",
    "            program_description = docs[0].metadata[\"mediacontent_page_description_program\"]\n",
    "        elif d.metadata[\"mediacontent_page_editorialtitle_program\"]  != \"\":\n",
    "            program_description = docs[0].metadata[\"mediacontent_page_editorialtitle_program\"]\n",
    "\n",
    "        context.append(\"Het programma met de naam \" + d.metadata[\"mediacontent_pagetitle_program\"] +\\\n",
    "                \" heeft volgende beschrijving: \" + program_description  +\\\n",
    "                \" De episode van dit programma heeft als beschrijving: \" + d.metadata[\"mediacontent_page_description\"] +\\\n",
    "                \" De episode zal online staan tot \" + d.metadata[\"offering_publication_planneduntil\"] +\\\n",
    "                \" De episode heeft als URL \" + d.metadata[\"mediacontent_pageurl\"] +\\\n",
    "                \" De episode heeft als foto \" + \"https:\" +d.metadata[\"mediacontent_imageurl\"] \n",
    "        )\n",
    "        \n",
    "    return \"\\n\\n\".join(context)\n",
    "\n",
    "class RAGModel(mlflow.pyfunc.PythonModel):\n",
    "    def predict(self, context, data):\n",
    "        \n",
    "        question = data[\"question\"]\n",
    "        system_prompt = data[\"system_prompt\"]\n",
    "        \n",
    "        # LLM\n",
    "        llm = ChatBedrockConverse(\n",
    "            region_name=\"eu-west-2\",\n",
    "            model=\"meta.llama3-70b-instruct-v1:0\" , # \"meta.llama3-70b-instruct-v1:0\"\n",
    "            temperature=0.6,\n",
    "            top_p=0.6,\n",
    "            max_tokens=512\n",
    "        )\n",
    "\n",
    "        # VECTOR DB\n",
    "        boolean_filter = {\"bool\":{\"must\":[]}}\n",
    "\n",
    "        boolean_filter = fuzzy_match(boolean_filter, question, \"person\")\n",
    "        boolean_filter = fuzzy_match(boolean_filter, question, \"program\")\n",
    "        \n",
    "        # Docsearch (ideally in langchain, can't get it to work)\n",
    "        docsearch = get_opensearch()\n",
    "        docs = docsearch.similarity_search(\n",
    "            question,\n",
    "            k=5,\n",
    "            vector_field=\"vrtmax_catalog_vector\",\n",
    "            search_type=\"script_scoring\",\n",
    "            pre_filter=boolean_filter\n",
    "        )\n",
    "        context = format_docs(docs)\n",
    "\n",
    "        message = \"\"\"Beantwoordt de vraag op basis van de volgende context:\n",
    "\n",
    "        \"\"\" + context + \"\"\"\n",
    "\n",
    "        Vraag: {question}\n",
    "        \"\"\"\n",
    "        prompt = ChatPromptTemplate.from_messages(\n",
    "            [\n",
    "                (\"system\", system_prompt),\n",
    "                (\"human\", message),\n",
    "            ]\n",
    "        )\n",
    "\n",
    "        chain = (\n",
    "            {\"question\": RunnablePassthrough()}\n",
    "            | prompt\n",
    "            | llm\n",
    "            | StrOutputParser()\n",
    "        )\n",
    "\n",
    "        response = chain.stream(prompt)\n",
    "\n",
    "        return response\n",
    "\n",
    "model = RAGModel()\n",
    "os.environ['MLFLOW_S3_ENDPOINT_URL']=\"http://localhost:8080\"\n",
    "\n",
    "# Login AWS\n",
    "aws_profile = \"vrt-analytics-engineer-nonsensitive\"\n",
    "envvars = subprocess.check_output(['aws-vault', 'exec', aws_profile, '--', 'env'])\n",
    "for envline in envvars.split(b'\\n'):\n",
    "    line = envline.decode('utf8')\n",
    "    eqpos = line.find('=')\n",
    "    if eqpos < 4:\n",
    "        continue\n",
    "    k = line[0:eqpos]\n",
    "    v = line[eqpos+1:]\n",
    "    if k == 'AWS_ACCESS_KEY_ID':\n",
    "        aws_access_key_id = v\n",
    "    if k == 'AWS_SECRET_ACCESS_KEY':\n",
    "        aws_secret_access_key = v\n",
    "    if k == 'AWS_SESSION_TOKEN':\n",
    "        aws_session_token = v\n",
    "\n",
    "session = boto3.Session(\n",
    "aws_access_key_id, aws_secret_access_key, aws_session_token,region_name=\"eu-west-1\"\n",
    ")\n",
    "credentials = session.get_credentials()\n",
    "sagemaker_session = sagemaker.Session(boto_session=session)\n",
    "role = sagemaker.get_execution_role(sagemaker_session=sagemaker_session)\n",
    "auth = AWSV4SignerAuth(credentials, 'eu-west-2', 'aoss')\n",
    "\n",
    "\n",
    "environ[\"AWS_ACCESS_KEY_ID\"] = aws_access_key_id\n",
    "environ[\"AWS_SECRET_ACCESS_KEY\"] = aws_secret_access_key\n",
    "environ[\"AWS_SESSION_TOKEN\"] = aws_session_token\n",
    "mlflow.set_tracking_uri(os.environ['MLFLOW_TRACKING_URI'])\n",
    "mlflow.set_experiment(\"RAG\")\n",
    "\n",
    "\n",
    "with mlflow.start_run() as run:\n",
    "    model_info = mlflow.pyfunc.log_model(\n",
    "        python_model=model,\n",
    "        artifact_path=\"rag-model\",\n",
    "        pip_requirements=[\"-r requirements.txt\"],\n",
    "    )\n",
    "    print(model_info.model_uri)"
   ]
  },
  {
   "cell_type": "code",
   "execution_count": null,
   "metadata": {},
   "outputs": [],
   "source": []
  },
  {
   "cell_type": "code",
   "execution_count": 30,
   "metadata": {},
   "outputs": [
    {
     "name": "stderr",
     "output_type": "stream",
     "text": [
      "Downloading artifacts: 100%|██████████| 5/5 [00:08<00:00,  1.62s/it]   \n",
      "/home/willem/miniconda3/envs/llm/lib/python3.9/site-packages/torch/storage.py:414: FutureWarning: You are using `torch.load` with `weights_only=False` (the current default value), which uses the default pickle module implicitly. It is possible to construct malicious pickle data which will execute arbitrary code during unpickling (See https://github.com/pytorch/pytorch/blob/main/SECURITY.md#untrusted-models for more details). In a future release, the default value for `weights_only` will be flipped to `True`. This limits the functions that could be executed during unpickling. Arbitrary objects will no longer be allowed to be loaded via this mode unless they are explicitly allowlisted by the user via `torch.serialization.add_safe_globals`. We recommend you start setting `weights_only=True` for any use case where you don't have full control of the loaded file. Please open an issue on GitHub for any issues related to this experimental feature.\n",
      "  return torch.load(io.BytesIO(b))\n"
     ]
    }
   ],
   "source": [
    "# Test predict\n",
    "loaded_model = mlflow.pyfunc.load_model(\n",
    "    model_uri=model_info.model_uri\n",
    ")"
   ]
  },
  {
   "cell_type": "code",
   "execution_count": 31,
   "metadata": {},
   "outputs": [],
   "source": [
    "mlflow.set_experiment(\"RAG\")\n",
    "\n",
    "@mlflow.trace\n",
    "def predict(data):\n",
    "    t = loaded_model.predict(data)\n",
    "    return t"
   ]
  },
  {
   "cell_type": "code",
   "execution_count": 32,
   "metadata": {},
   "outputs": [
    {
     "data": {
      "text/plain": [
       "<generator object RunnableSequence.stream at 0x786c9f37f580>"
      ]
     },
     "execution_count": 32,
     "metadata": {},
     "output_type": "execute_result"
    }
   ],
   "source": []
  },
  {
   "cell_type": "code",
   "execution_count": 39,
   "metadata": {},
   "outputs": [],
   "source": [
    "a = predict({\"question\":\"iets over geld en beleggen\", \"system_prompt\":\"hallo\"})"
   ]
  },
  {
   "cell_type": "code",
   "execution_count": 40,
   "metadata": {},
   "outputs": [],
   "source": [
    "@mlflow.trace\n",
    "def generate_output(a):\n",
    "    output = \"\"\n",
    "    for chunk in a:\n",
    "        output+=chunk\n",
    "\n",
    "    return output"
   ]
  },
  {
   "cell_type": "code",
   "execution_count": 41,
   "metadata": {},
   "outputs": [],
   "source": [
    "t = generate_output(a)"
   ]
  },
  {
   "cell_type": "code",
   "execution_count": 42,
   "metadata": {},
   "outputs": [
    {
     "data": {
      "text/plain": [
       "'\\n\\nHallo! Ik ben klaar om uw vraag te beantwoorden op basis van de gegeven context. Wat is uw vraag?'"
      ]
     },
     "execution_count": 42,
     "metadata": {},
     "output_type": "execute_result"
    }
   ],
   "source": [
    "t"
   ]
  },
  {
   "cell_type": "code",
   "execution_count": null,
   "metadata": {},
   "outputs": [],
   "source": []
  }
 ],
 "metadata": {
  "kernelspec": {
   "display_name": "llm",
   "language": "python",
   "name": "python3"
  },
  "language_info": {
   "codemirror_mode": {
    "name": "ipython",
    "version": 3
   },
   "file_extension": ".py",
   "mimetype": "text/x-python",
   "name": "python",
   "nbconvert_exporter": "python",
   "pygments_lexer": "ipython3",
   "version": "3.9.19"
  }
 },
 "nbformat": 4,
 "nbformat_minor": 2
}
