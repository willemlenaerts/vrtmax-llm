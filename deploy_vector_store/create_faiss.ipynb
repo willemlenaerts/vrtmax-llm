{
 "cells": [
  {
   "cell_type": "code",
   "execution_count": null,
   "metadata": {},
   "outputs": [],
   "source": [
    "import pandas as pd"
   ]
  },
  {
   "cell_type": "code",
   "execution_count": null,
   "metadata": {},
   "outputs": [],
   "source": [
    "# Data\n",
    "df = pd.read_csv(\"../data/test.csv\")\n",
    "\n",
    "# Postprocessing\n",
    "# Concatenate description & subtitles\n",
    "df[\"info_to_embed\"] = df[\"mediacontent_page_description\"] + \" \" + df[\"subtitle\"]\n",
    "df = df[df.info_to_embed.notnull()]\n",
    "# Maybe remove /n and other annoying artefacts"
   ]
  },
  {
   "cell_type": "code",
   "execution_count": null,
   "metadata": {},
   "outputs": [],
   "source": [
    "# Embed\n",
    "from langchain.document_loaders import DataFrameLoader\n",
    "from langchain.text_splitter import CharacterTextSplitter\n",
    "from langchain_huggingface import HuggingFaceEmbeddings\n",
    "from langchain.vectorstores import FAISS\n",
    "\n",
    "df= df[[\"mediacontent_page_description\",\"mediacontent_pagetitle_program\",\"info_to_embed\",\"mediacontent_pageid\"]]\n",
    "\n",
    "loader = DataFrameLoader(df, page_content_column=\"info_to_embed\")\n",
    "catalog = loader.load()\n",
    "\n",
    "text_splitter = CharacterTextSplitter(chunk_size=1000, chunk_overlap=0)\n",
    "catalog_chunks = text_splitter.split_documents(catalog)\n",
    "\n",
    "model_name = \"NetherlandsForensicInstitute/robbert-2022-dutch-sentence-transformers\"\n",
    "encode_kwargs = {'normalize_embeddings': False}\n",
    "hf_embedding = HuggingFaceEmbeddings(\n",
    "    model_name=model_name,\n",
    "    encode_kwargs=encode_kwargs\n",
    ")\n",
    "vector_store = FAISS.from_documents(documents=catalog_chunks,\n",
    "                                    embedding=hf_embedding)\n",
    "\n",
    "print(f\"The vectore store contains {len(vector_store.docstore._dict)} documents chunks in total.\")"
   ]
  },
  {
   "cell_type": "code",
   "execution_count": null,
   "metadata": {},
   "outputs": [],
   "source": [
    "vector_store.save_local('faiss_vector_store')"
   ]
  }
 ],
 "metadata": {
  "kernelspec": {
   "display_name": "llm",
   "language": "python",
   "name": "python3"
  },
  "language_info": {
   "name": "python",
   "version": "3.10.14"
  }
 },
 "nbformat": 4,
 "nbformat_minor": 2
}
