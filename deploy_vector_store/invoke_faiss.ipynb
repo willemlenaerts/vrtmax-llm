{
 "cells": [
  {
   "cell_type": "code",
   "execution_count": null,
   "metadata": {},
   "outputs": [],
   "source": [
    "\n",
    "sagemaker_vector_store = sagemaker.predictor.Predictor(endpoint_name)\n",
    "assert sagemaker_vector_store.endpoint_context().properties['Status'] == 'InService'"
   ]
  },
  {
   "cell_type": "code",
   "execution_count": null,
   "metadata": {},
   "outputs": [],
   "source": [
    "import json\n",
    "payload = json.dumps({\n",
    "    \"text\": \"what is a shadow test?\",\n",
    "    \"k\": 3,\n",
    "})\n",
    "\n",
    "out = sagemaker_vector_store.predict(\n",
    "    payload,\n",
    "    initial_args={\"ContentType\": \"application/json\", \"Accept\": \"application/json\"}\n",
    ")\n",
    "out = json.loads(out)"
   ]
  }
 ],
 "metadata": {
  "language_info": {
   "name": "python"
  }
 },
 "nbformat": 4,
 "nbformat_minor": 2
}
