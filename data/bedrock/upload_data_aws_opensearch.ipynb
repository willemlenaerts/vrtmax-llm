{
 "cells": [
  {
   "cell_type": "code",
   "execution_count": 1,
   "metadata": {},
   "outputs": [],
   "source": [
    "from opensearchpy import OpenSearch, RequestsHttpConnection,  AWSV4SignerAuth\n",
    "import boto3\n",
    "import pandas as pd\n"
   ]
  },
  {
   "cell_type": "code",
   "execution_count": 2,
   "metadata": {},
   "outputs": [],
   "source": [
    "region = 'eu-west-2'\n",
    "service = 'aoss'\n",
    "credentials = boto3.Session(profile_name='vrt-analytics-engineer-nonsensitive').get_credentials()\n",
    "auth = AWSV4SignerAuth(credentials, region, service)\n",
    "\n",
    "vectorstore = OpenSearch(\n",
    "   hosts = [{'host': \"epcavlvwitam2ivpwv4k.eu-west-2.aoss.amazonaws.com\", 'port': 443}],\n",
    "   http_auth = auth,\n",
    "   use_ssl = True,\n",
    "   verify_certs = True,\n",
    "   connection_class = RequestsHttpConnection,\n",
    "   pool_maxsize = 20\n",
    ")"
   ]
  },
  {
   "cell_type": "code",
   "execution_count": 39,
   "metadata": {},
   "outputs": [],
   "source": [
    "# Create index\n",
    "index_body = {\n",
    "  'settings': {\n",
    "    \"index.knn\": True\n",
    "  },\n",
    "  \"mappings\": {\n",
    "    \"properties\": {\n",
    "      \"vrtmax_catalog_vector\": {\n",
    "        \"type\": \"knn_vector\",\n",
    "        \"dimension\": 768,\n",
    "        \"method\": {\n",
    "          \"engine\": \"faiss\",\n",
    "          \"name\": \"hnsw\",\n",
    "          \"space_type\": \"l2\"\n",
    "        }\n",
    "      },\n",
    "    \"mediacontent_page_description_program\": {\"type\": \"text\"},\n",
    "    \"mediacontent_page_description\": {\"type\": \"text\"},\n",
    "    \"mediacontent_page_editorialtitle_program\": {\"type\": \"text\"},\n",
    "    \"mediacontent_pagetitle_program\": {\"type\": \"text\"},\n",
    "    \"mediacontent_pagetitle_season\": {\"type\": \"text\"},\n",
    "    \"mediacontent_pagetitle\": {\"type\": \"text\"},\n",
    "    \"offering_publication_planneduntil\": {\"type\": \"text\"},\n",
    "    \"brand_contentbrand\": {\"type\": \"text\"},\n",
    "    \"mediacontent_pageurl\": {\"type\": \"text\"},\n",
    "    \"mediacontent_imageurl\": {\"type\": \"text\"},\n",
    "    \"mediacontent_programimageurl\": {\"type\": \"text\"},\n",
    "    \"info_to_embed\": {\"type\": \"text\"}\n",
    "    }\n",
    "  }\n",
    "}\n",
    "\n",
    "response = vectorstore.indices.create('aoss-index', body=index_body)"
   ]
  },
  {
   "cell_type": "code",
   "execution_count": 38,
   "metadata": {},
   "outputs": [
    {
     "data": {
      "text/plain": [
       "{'acknowledged': True}"
      ]
     },
     "execution_count": 38,
     "metadata": {},
     "output_type": "execute_result"
    }
   ],
   "source": [
    "# vectorstore.indices.delete('aoss-index')"
   ]
  },
  {
   "cell_type": "code",
   "execution_count": 40,
   "metadata": {},
   "outputs": [],
   "source": [
    "# embed stuff and write to opensearch\n",
    "from langchain.embeddings.huggingface import HuggingFaceEmbeddings\n",
    "model_name = \"NetherlandsForensicInstitute/robbert-2022-dutch-sentence-transformers\"\n",
    "encode_kwargs = {'normalize_embeddings': False}\n",
    "embeddings = HuggingFaceEmbeddings(\n",
    "    model_name=model_name,\n",
    "    encode_kwargs=encode_kwargs\n",
    ")"
   ]
  },
  {
   "cell_type": "code",
   "execution_count": 41,
   "metadata": {},
   "outputs": [],
   "source": [
    "from langchain.vectorstores import OpenSearchVectorSearch\n",
    "\n",
    "\n",
    "vector = OpenSearchVectorSearch(\n",
    "  embedding_function = embeddings,\n",
    "  index_name = 'aoss-index',\n",
    "  http_auth = auth,\n",
    "  use_ssl = True,\n",
    "  verify_certs = True,\n",
    "  connection_class = RequestsHttpConnection,\n",
    "  opensearch_url=\"https://epcavlvwitam2ivpwv4k.eu-west-2.aoss.amazonaws.com\"\n",
    ")"
   ]
  },
  {
   "cell_type": "code",
   "execution_count": 42,
   "metadata": {},
   "outputs": [],
   "source": [
    "df = pd.read_csv(\"vrtmax_catalog.csv\")\n",
    "df.fillna('', inplace=True)"
   ]
  },
  {
   "cell_type": "code",
   "execution_count": 44,
   "metadata": {},
   "outputs": [],
   "source": [
    "from langchain.document_loaders import DataFrameLoader\n",
    "from langchain.text_splitter import CharacterTextSplitter\n",
    "\n",
    "loader = DataFrameLoader(df, page_content_column=\"info_to_embed\")\n",
    "catalog = loader.load()\n",
    "\n",
    "text_splitter = CharacterTextSplitter(chunk_size=1000, chunk_overlap=0)\n",
    "catalog_chunks = text_splitter.split_documents(catalog)"
   ]
  },
  {
   "cell_type": "code",
   "execution_count": 36,
   "metadata": {},
   "outputs": [
    {
     "data": {
      "text/plain": [
       "[Document(metadata={'mediacontent_page_description_program': 'Superworm is een superlange, supersterke regenworm die insecten en dieren in nood altijd te hulp schiet. Maar wie zal Superworm helpen als hij wordt gevangengenomen door een gemene tovenaarshagedis?', 'mediacontent_page_description': 'Superworm is een superlange, supersterke regenworm die insecten en dieren in nood altijd te hulp schiet. Maar wie zal Superworm helpen als hij wordt gevangengenomen door een gemene tovenaarshagedis?', 'mediacontent_page_editorialtitle_program': 'Superworm is een lange, sterke regenworm die insecten in noodhelpt', 'mediacontent_pagetitle_program': 'Superworm', 'mediacontent_pagetitle_season': '2022', 'mediacontent_pagetitle': 'Superworm', 'offering_publication_planneduntil': '2027-03-30 21:55:00.000', 'brand_contentbrand': 'ketnet', 'mediacontent_pageurl': 'https://www.vrt.be/vrtmax/a-z/superworm/2022/superworm/', 'mediacontent_imageurl': 'https://images.vrt.be/orig/2023/03/24/ca44b6d5-c9ce-11ed-91d7-02b7b76bf47f.jpg', 'mediacontent_programimageurl': '//images.vrt.be/orig/2023/03/27/796679de-ccb1-11ed-91d7-02b7b76bf47f.jpg'}, page_content='Superworm is superlang. Oeh... Hahaha. Supersterk, voor niemand bang. Hij is altijd...  Goed in vorm. Hiep, hiep, hoera... voor... oo... voor Superworm! Hahaha. Aaaah, hahaha. Hahahaha. Woehoe! Wahahaha... Help! Het is babypad. Woh! Hij ging oversteken, maar hij heeft niet uitgekeken. Snel! Er komt een auto aan!  Ooh! O, kijk! Een superlasso, goed gedaan. Oh, de bijen vervelen zich vandaag. Maar spelen doen ze heel erg graag. Kom op, bijtjes. Allemaal opgelet. Superspringtouw, wat een pret. Woe! Woe! Woehoe! Woehoehoehoe! Jaaaaaaaaa! Oh!   Hahaha. Hahahaha.  Woewoewoewoe! Kevertje viel naar benee. Gaat hij verdrinken?  Geen idee! Mm... Oehoe... Het komt goed, zoals dat heet. Een superhengel. Alle padden, alle spinnen, kevertjes met hun gezinnen. Zelfs de sloomste huisjesslakken. Duizendpoten en kakkerlakken. Barsten uit in luid gezang. Superworm is superlang!  Woehoe! Supersterk en voor niemand bang! Altijd super... goed in vorm!  Haha! Hiep, hiep, hoera... Voor Superworm! Superworm! Altijd even goed in vorm. Hiep hiep hoera voor Superworm! Superworm... Hun lied komt rond het ochtendgloren Tijn Toverhagedis ter ore. Hij zegt: Een superworm? Dat is top! Ga halen, kraai. Waar wacht je op? Krijn Kraai gaat af op het gezang. Juist als men zingt: Voor niemand bang. Kraai buigt zijn kop, het zangkoor schrikt. Hun superheld wordt meegepikt. Ahum.  Sst. Zijn toverbloem heeft heel veel kracht. Nu, Superworm, heb ik je in mijn macht. Graaf in de grond een heel diep gat. En zoek voor mij die mooie schat. Superworm is heel erg kwaad en hij denkt: genoeg gepraat. Maar als hij stiekem weg wil gaan, zorgt de magie ervoor dat hij blijft staan. Aaaaah! Oeh, uuh... Hij graaft al dagen, wroet en spit. Maar hij vindt geen grotere schat dan dit. Slechts twee knoopjes. En een kurk. Een toffee. En een vorkje, voor die schurk. Dan zegt Tijn Toverhagedis: Nu nog één keer, en gaat het mis, dan is dat vrees ik niet zo fraai. En voer ik je aan mijn zwarte kraai. Sss, sss, sss!  Waaa! Terwijl de kraai door de stille nacht vloog... ...keek ieder insect verschrikt omhoog. Op een tak in een boom streek hij neer... ...wachtte rustig af en smakte nog maar een keer. Superworm gaat in mijn maag. Superworm, die lust ik graag. Ja, mijn eetlust... is enorm. Hiep, hiep hoera... voor Superworm. Actie. Schiet op, in de benen. Superworm, die heeft problemen. We gaan hem helpen, als dat kan. Maar dat gaat niet zonder een plan. Alle beestjes staan paraat met een flink stuk honingraat. Ze springen, vliegen, krioelen en kruipen om naar een slapende Tijn Toverhagedis te sluipen. Ze happen alle blaadjes af. Weg is de magie, dat is zijn straf. De rupsjes dragen blaadjes aan. En Spin is aan het werk gegaan. Het web is groot.  Het web is sterk. Bedankt voor al je webweefwerk. Hij wordt wakker. Uh, is dit mijn beloning? Ik plak en kleef van alle honing. Nog voordat Tijn Toverhagedis op de vlucht kan slaan, zorgen de bijen en kevers dat Tijn en het web de nacht in gaan. En pats, boem... ...knal. ...daar belandt hij in het stinkende afval. En dan, heel diep van onderuit, klinkt er een laag, rommelend geluid. Het zand beweegt en vliegensvlug... Woeeeeehoe! Is Superworm weer veilig terug! Superworm de schommel! Kijk hem eens gaan. Superworm, de riem. De trein. Choochoo! Dat... doet hij goed! Hahahahihi. Wooh, hahaha. Alle padden, alle spinnen. Kevertjes met hun gezinnen. Zelfs de sloomste huisjesslakken, duizendpoten en kakkerlakken. Allen barsten uit in luid gezang. Superworm is superlang, supersterk, voor niemand bang. Altijd supergoed in vorm. Hiep, hiep...  Hoera! Voor Superworm. Superworm is een superlange, supersterke regenworm die insecten en dieren in nood altijd te hulp schiet. Maar wie zal Superworm helpen als hij wordt gevangengenomen door een gemene tovenaarshagedis? Superworm is een superlange, supersterke regenworm die insecten en dieren in nood altijd te hulp schiet. Maar wie zal Superworm helpen als hij wordt gevangengenomen door een gemene tovenaarshagedis? Superworm is een lange, sterke regenworm die insecten in noodhelpt'),\n",
       " Document(metadata={'mediacontent_page_description_program': '', 'mediacontent_page_description': 'In deze BRUZZ International leren we de Iraanse gemeenschap hier in Brussel kennen. Eerst gaan we authentiek Iraans eten bij restaurant Caspian in het centrum. Daarna bezoeken we de meer dan 40 jaar oude winkel Beer Mania, die niet alleen een webshop maar ook meer dan 500 Belgische bieren heeft. Ten slotte ontmoeten we twee Iraanse vrouwen die houden van hun land - maar niet van het huidige regime - en ook België in hun hart hebben gesloten.', 'mediacontent_page_editorialtitle_program': 'Het Brusselse nieuws voor en door expats', 'mediacontent_pagetitle_program': 'BRUZZ international', 'mediacontent_pagetitle_season': 'Seizoen', 'mediacontent_pagetitle': 'BRUZZ international 20240526', 'offering_publication_planneduntil': '2024-11-21 22:59:00.000', 'brand_contentbrand': '', 'mediacontent_pageurl': 'https://www.vrt.be/vrtmax/a-z/bruzz-international/2023/bruzz-international-s2023a38/', 'mediacontent_imageurl': 'https://images.vrt.be/orig/2024/05/23/cd9f5836-18d4-11ef-8fc9-02b7b76bf47f.jpg', 'mediacontent_programimageurl': '//images.vrt.be/orig/2022/08/25/05b77714-244b-11ed-b07d-02b7b76bf47f.jpg'}, page_content='In deze BRUZZ International leren we de Iraanse gemeenschap hier in Brussel kennen. Eerst gaan we authentiek Iraans eten bij restaurant Caspian in het centrum. Daarna bezoeken we de meer dan 40 jaar oude winkel Beer Mania, die niet alleen een webshop maar ook meer dan 500 Belgische bieren heeft. Ten slotte ontmoeten we twee Iraanse vrouwen die houden van hun land - maar niet van het huidige regime - en ook België in hun hart hebben gesloten. Het Brusselse nieuws voor en door expats'),\n",
       " Document(metadata={'mediacontent_page_description_program': '', 'mediacontent_page_description': 'Aristide zorgt voor een passende beveiliging van \"zijn\" schilderij.Ondertussen krijgt Sickx er een onverwachte kerkganger bij.Barbara maakt net voor haar vertrek naar het ziekenhuis komaf met een van haar aanbidders.De clan Sickx krijgt sterke argumenten over het eigendomsrecht van het schilderij in handen.', 'mediacontent_page_editorialtitle_program': 'Het wel en wee van de bewoners van het pleintje', 'mediacontent_pagetitle_program': 'Het pleintje', 'mediacontent_pagetitle_season': 'Seizoen', 'mediacontent_pagetitle': 'Aflevering 8', 'offering_publication_planneduntil': '2025-12-31 22:55:00.000', 'brand_contentbrand': 'een', 'mediacontent_pageurl': 'https://www.vrt.be/vrtnu/a-z/het-pleintje/1/het-pleintje-s1a8/', 'mediacontent_imageurl': '//images.vrt.be/orig/2019/06/13/97e7da68-8dd7-11e9-abcc-02b7b76bf47f.jpg', 'mediacontent_programimageurl': '//images.vrt.be/orig/2019/06/13/da2785ff-8db9-11e9-abcc-02b7b76bf47f.jpg'}, page_content='Dus, de alarminstallatie. Fotocellen, een straal en een sirene. Pas op, pas op. Niet te vlug. Een stommiteit is gauw gebeurd. Ze werkt dus al?  Ze werkt, maar ik kan ze afzetten. Dat ga ik nu doen, voor alle veiligheid. De schakelaar. Omhoog is aan, omlaag is af. Op, af. Op, gevaar. Af, geen gevaar. Ben je zeker dat het niet andersom is?  Op is af, af is aan? Nee, op is aan. Ik heb het opgeschreven. Ja. Dan is af uit.  Zo is het. En hier, al opgemerkt? De fotocel. Al opgemerkt? En daar, gezien? Allemaal gezien? Boniface, ook gezien?  Ik heb toch ogen? En dan, de straal. Die is natuurlijk niet te zien. Van die cel naar die cel een straal. Als ze opstaat. Natuurlijk. De specialist van de  verstuikte voeten heeft gesproken. Komt er nu iemand, bij nacht en ontij, om bijvoorbeeld met een pot pek het schilderij te besmeuren, of om er met een mes in te kerven of om het schilderij te vervalsen, dan stapt hij door de straal en... De bel... Slimmerik. De sirene. Ah, dat is een...  Jaja, dat is een... Wiewiewiewiewiewie. Ik denk dat de straal te hoog staat. Hoezo, te hoog? Ze zullen eronderdoor kruipen. En als ik ze lager zet, zullen ze erover springen. Ah ja. Je moet ervan uitgaan dat...  Natuurlijk. ...die man met zijn verf...  Natuurlijk. ...niet weet dat er een straal is.  Natuurlijk. Die zal hier niet lopen springen en kruipen. Die gaat er gewoon door. HIJ IMITEERT EEN SIRENE Punt één: geheimhouden. Dat is vanzelfsprekend. Anders zullen ze er inderdaad  onderdoor kruipen. Punt twee: degene die hier \\'s morgens  het eerst binnenkomt, zet de schakelaar af. Degene die \\'s avonds het laatste  buitengaat, zet hem op. Pas op, ik zet de straal in werking. Ik denk toch dat we het best niet  allemaal samen dit gebouw verlaten. Ja, dat wekt achterdocht op een zondagmorgen. Ja, goed. Boniface, jij gaat buiten  langs de achteruitgang. Mon, jij wacht nog een halfuur op kantoor voor je vertrekt. En meneer de griffier en ik, wij nemen de hoofdingang, en we doen alsof we een bespreking  achter de rug hebben. Nog wat napraten.  Een dossier... Een discussie afwerken.  Over een dossier of zo. Ja. We moeten een dossier hebben. Vanwaar kwam dat, Gust?  Ver was het niet, maar.. Meneer Gentil? Daar, uit de toren van de kapel. De Heilige Geest, denk ik.  Ah, de kapel. Weet jij het, Fons? Volgens mijn mening... ...een signaal uit de ruimte. Een ontlading van energie. Energie die van het ene veld naar het andere wordt overgebracht. Je verstaat het niet. Als twee krachtvelden elkaar tegenkomen in de stratosfeer... ...dan sast, versast of oversast het hoogste naar het laagste. Fons kan gelijk hebben. Heel erg gelijk hebben. Een ongeval gebeurd?  Neenee. Een zieke misschien? Een zieke? Er stoof me daar een ziekenwagen  voorbij. Ik dacht... Ik schrok me dood. Ik dacht: iemand van het pleintje misschien. Barbara misschien.  Dat kan niet. Awel?  Een ambulance. Ze zijn Barbara komen halen.  Hoogdringend. Het is een ander fenomeen dat wij dringend moeten bestuderen. Ah ja? Fons heeft ook al een uitleg. Het is van iets dat botst. Dat botst?  Ja, maar je kan het niet zien. Maar het doet... Hij is er heel dicht bij. Barbara, ik begrijp er niets van. Waarom moet jij op zondagnamiddag  naar het az? Omdat ze morgen heel vroeg met de voorbereiding beginnen. Welke voorbereiding? Het is mijn tijd nu, zegt Broetsaert. Het moet nu uiteindelijk. Gespannen. De operatie zal me niet omverhalen, maar het resultaat moet wel optimaal zijn. Dat zal ik pas nadien weten. Dag Karel.  Waarom zou ik er niet meer zijn? Ze vertelden dat een ambulance je zou zijn komen oppikken. Ik weet van geen ambulance. Ik ben blij dat ik je van dienst blijf  straks. Ja? Je gaat met zijn wagen? Met de jouwe kan niet. Je hebt er geen. Ik had een taxi kunnen betalen, maar je hebt me niet ingelicht. Mij hou je op afstand. Ik mag niets weten en met hem pap je aan.  Dat is niet waar. Met die politicus van het derde knoopsgat die al twintig keer van lief is veranderd. En daar word jij verliefd op? Je zal de eenentwintigste zijn. Als je dat maar beseft. Ik ben niet verliefd. Ik kan het mij niet veroorloven om verliefd te worden. Ik ben het geweest, twee keer, in mijn studententijd. Ik kan verliefd worden. Maar sedert ik weet wat er met mij aan de hand is, ga ik verliefd worden gewoon uit de weg. Nee, niet zomaar. Het kost mij moeite. Want ik word makkelijk verliefd. Maar ik kan niemand opzadelen met mijn verliefdheden als ik... ...als ik straks te horen moet krijgen  dat ik het moet opgeven. Maar wat opgeven?  Het leven. Dat het gedaan is met mij. Wat voor zin had het dan? Alle zin van de wereld, stomme kont. Ja, sorry. Stomme kont. Ten eerste heb je vier kansen op vijf dat men je daar geneest, of nog meer. En ten tweede, Barbara, als je dan toch moet sterven, dan zie ik niet in waarom je al die tijd  voordien niet verliefd kan zijn. Het is het mooiste wat er is. Dat kan je toch meepikken? Peers.  Nee, ik ben nog niet klaar. Er is een ten derde. Je bent dan tenminste niet alleen en eenzaam om ernaartoe te leven. Naartoe te leven?  Ja, ik zeg het... Ik bedoel het zoals ik het zeg, te leven. Je leeft nu, je leeft morgen. Je leeft, verdomme. En ten vierde, Barbara... ...met twee sta je veel sterker in de aanpak van wat komen moet. Ik wil die man voor jou zijn. En het maakt mij niet uit of het voor lange of voor korte tijd is. Liefst voor lange tijd. En dat zit er dik in, Barbara. Ik wil het alleen aankunnen. En ik verbied je naar de mis te gaan. Ik ga niet naar de mis, ik ga naar zijn preek luisteren. En wie zegt dat hij over het schilderij zal preken? Hij heeft het al een hele week  rondgebazuind. En als dat nu eens een foefje is om je naar zijn kerk te lokken en hij daar een preek afsteekt over Adam en Eva? Dan zit je daar voor schoppenzot. Boniface, hij weet dat hij over veertien dagen op het vredegerecht niet veel in de pap te brokken zal hebben. Hij preekt erover. Daarom. Wat ga je daar zitten doen? Je mag niet tegenspreken.  Dat weet ik. Je mag geen vragen stellen.  Dat weet ik. Maar ik kan andere dingen doen.  Ja? Ik kan gezichten zitten trekken, hem hypnotiseren. Ik zeg je dat dat slecht afloopt. Het is vandaag je dag niet. Je hebt al een flater begaan door door de straal te lopen. En nu kruip je in het hol van de leeuw,  je tweede flater. Als ik niet ga, Boniface, zal iedereen zeggen dat Aristide de Lesseweg een lafaard is. En ons blok dan? Ons blok zal je dat kwalijk nemen. Je gaat nooit naar de mis. Ik ga ook nu niet naar de mis, ik ga naar zijn preek luisteren. En je kostuum, dat mag je nog tien keer borstelen, het is versleten. Je hebt bijna een gat in je broek.  Wat? Waar? Achteraan, aan het zitvlak. Het is in elk geval zo dun dat je er je ondergoed door kan zien. Je doet me pijn.  Sorry, moeder. Het is niet omdat ik in een rolstoel zit   dat ik gevoelloos ben, hè. Je hebt het na tien jaar nog altijd niet geleerd. Schoenen, hè... Sandalen om naar de mis te gaan, dat mag niet zeker? Nee, dat is oneerbiedig. In de tijd van Christus gingen ze  allemaal op sandalen naar de mis. De tollenaars gingen zelfs barrevoets,  als ik het goed voorheb. Zo. Je zit met je gedachten bij haar,  zeker? Welke haar?  Doe niet onnozel. Ik heb niets tegen dat meisje, Gentil, maar het kind heeft een ongeneeslijke ziekte. Enfin, je kan beter je gezond verstand  gebruiken voor het te laat is. Ze kunnen dat genezen, moeder.  Ja? Dat zeg jij?  Ja. Je hebt al vijfentwintig meisjes  gekend aan wie niets mankeerde en nu ga je het ineens menen, met een meisje dat... Ik zeg dat niet graag, Gentil, maar het is de waarheid. Enfin. Je bent misschien pas getrouwd en ze kan je al ontvallen zijn. Zo dom ben jij nu toch niet dat je de  gevolgen niet voor je ogen kunt zien? Ten eerste, moeder, heb ik er geen vijfentwintig gekend. En ten tweede, daar mankeerde van alles aan. En ten derde, Barbara, die heeft iets  wat me geweldig aanspreekt. Ik kan het ook niet helpen. Als jij straks in de mis eens zou bidden dat die operatie goed mag verlopen... Oeioei, hij gelooft weer in het geloof. Waar gaan we dat schrijven?  Ga je het doen? Ik zal dat zeker doen. Ik doe dat iedere zondag. Maar niet voor jou, hè. Voor Barbara alleen. Ook te laat? De godvruchtigste dame van het plein, te laat. Zal ik je erop duwen?  Nee. Ik laat me niet in de kerk rijden door een duivel. Het is maar dat er hier geen engel te zien is om je te helpen. Ja, de pastorij... Als je het plein bezoekt, bezoek je beter het vredegerecht. Zeg, ben ik nog op tijd voor de speciale preek? Jaja.  Ja, ja. Dat is heel vriendelijk. Dank je.  Dat is vriendelijk, heren. Jij bent toch niet van plan hier binnen te komen? Ben je dat van plan? Ik heb horen zeggen dat Sickx je heilig gaat verklaren. Dat wil ik niet missen. Toen kwam de verloren zoon tot inkeer en sprak: Hoeveel knechten van mijn vader  hebben brood in overvloed? Ik zal opstaan, naar mijn vader toe gaan en zeggen: Vader, ik heb mij in de wereld  begeven van onkerkelijke herbergen om om te gaan met de dochters van de herbergiersters. Ik heb me ingelaten met atheïsten en vrijdenkers. En daar zit hij dan, deemoedig,  berouwvol, met gebogen hoofd, bedelend om de vaderlijke vergiffenis. Kom tegen de avond eens langs met je lintmeter en je boekje. Wij zullen het vette kalf slachten en in feestelijke stemming zijn voor de verloren zoon. Maar als er symbolische franken zijn, dan zullen er ook wel symbolische kalveren bestaan. En dat de verloren zoon nu op de ereplaats moge neerzitten voor het symbolische feestmaal. Voilà, Ivo. Zo staat je op hol geslagen paardje  aangevallen en kan het naar geen veldje meer  springen of het laat zijn kopje. Je doet het dus toch? Het is zeker, Ivo, dat ik dat doe. Jij durft dat te doen? Wat, Ivo? Je mag je pion nog terugzetten.  Nee, Ivo. Gezet is gezet. onze pleingenote Barbara Vink verlaat ons vandaag voor een heelkundig ingrijpen dat niet zo eenvoudig is en niet zonder risico\\'s. Dit is de geschikte plaats en het ultieme moment om onze diepste individuele wensen  samen te voegen tot één grote, sterke wil. Wij willen dat zij geneest. We willen dat de chirurgen in een begenadigde dag zijn van preciesheid, van welslagen en van een juist oordeel. Nemen we haar een korte wijl intens  in onze hoofden en in onze harten. Het is waar, hè Stoffels? Wij hebben elk een brief gekregen van Sickx, met daarin een plastic zakje en daarin één frank. Het is niet waar?  Ja, ja. De frank. En er zat nog een berichtje bij ook. Tot aflossing van mijn schuld, tot inlossing van mijn straf: de frank. Zonder rancune. Zonder rancune, Stoffels. Wat wil hij daarmee zeggen? Dat hij je daarvoor geen kwaad hart  toedraagt. Het zou er nog aan mankeren. Hij heeft het proces verloren. Ik heb uitgerekend dat als ik die frank op de bank zet, aan samengestelde intrest, ik daar een brood van kan kopen de dag dat ik met pensioen ga.  Jij zet die frank niet op de bank. Jij stuurt hem die met meewind terug.  Ik wil zijn frank ook niet. We moeten er iets op vinden om hem die terug te geven. Ja, iets spectaculairs.  Spectaculairs? Echt teruggeven. Mijn vadertje, hij was rechtvaardigheid. Hij had de zware last op zich geladen  een eerlijk mens te zijn in woord en daad. Vrienden, deze éloge kunnen niet alle zonen zingen over hun vader en grootvader. Er zijn zonen die moeten ontdekken dat hun voorvaderen die sierlijke  deugd van rechtvaardigheid niet altijd hebben beleden en beoefend. Zullen deze zonen daarom die vader  afzweren, uit hun geheugen bannen, hen alle eer ontzeggen? Die zonen weten ook hoe moeilijk, of liever hoe makkelijk, men zondigt tegen het zevende gebod en tegen de artikelen 461, 467 en 508  van het strafwetboek. Zoals de vader van de verloren zoon  zijn mantel legt over het ontuchtige leven van zijn liederlijke zoon, zo zullen de zonen van onrechtvaardige vaders hun mantel leggen over het ongerechtig leven van hun vader. En zoals de vader na het feest met kalfslapjes in marsalasaus naar de stad trekt om er de schulden van zijn verloren  zoon te gaan aanzuiveren, zo zullen alle zonen het door hun  vaders onrechtmatig verworven bezit aan de ware eigenaars restitueren. Nog voor een rechter hen daartoe vordert. Tenminste, als zij ook de zware last op zich hebben geladen een eerlijk mens te zijn in woord en daad, en vooral als die zonen zelf beëdigd rechtspreken over de misstappen van de andere mensen. Over pastoor Vercammen heeft hij natuurlijk niet gesproken. Mijn kerkvadertje, hij was rechtvaardigheid. Zie je nu? Je hebt onze grootvader laten beledigen en je hebt niets kunnen tegenspreken.  Ik heb hem bekeken. Zo heb ik hem bekeken. AFKEUREND GELUIDJE We zullen hier nog een naam krijgen en ze zullen er een liedje over maken. En Piep zal er muziek op zetten.  Dan maken wij een operette. Dat ook nog.  Jesus Christ Superstar. Haal het niet in je hoofd het te restitueren. Moet ik daarvoor een straal hebben laten schijnen? Ik dat. Schaak. Jij dat. Ik dat. Ja, zo sta ik verloren, natuurlijk. Die pion, dat was niet zo best. Heeft hij je geklopt, meneer Aerts? Die jongemannen, hè juffrouw Aurelia. Computerspecialisten,  videomaniakken. Daar kunnen wij niet meer tegenop, hè. Daar ligt Sickx. * Daar ligt de Sickx * Allee, Gerard. * Pastoorke, zinbeeld van \\'t verleden * Daar ligt de Sickx * De gierige Sickx, van zijn hogen troon gevallen * Trilt in uw graf * Trilt Gentsche helden * Gij, Jan Hyoens * Gij, Artevelde * Mijn naam is Roeland * * Eenzaam en grijsd * Nee. Poespas, poespas. Dames. Mevrouw Marie. Het is een zwarte twee haken en een witte, mevrouw Marie. Doe ik iets mis, meneer de dirigent? Natuurlijk. Je trekt. Op je zwarte noot.  Ja. Ja. Zing het eens helemaal alleen. * \\'t Oud * Nee, mevrouw Marie. Maar enfin, Marie. Wat zing je daar? Dat is \\'Stille nacht\\'. Dat is puur \\'Stille nacht\\'. Meneer de dirigent, ik zing toch \\'Boven Gent rijst\\'? De woorden, maar niet de muziek. Je moet...  Heb jij geen oren aan je kop? Juffrouw Sap, zing jij het eens voor, alsjeblieft. Mevrouw Marie moet eens luisteren.  Zing jij maar eens voor. Met je oren aan je kop. * Boven Gent rijst * Eenzaam en grijsd * Oud Belfort, zinbeeld van \\'t verleden * Ja, ja, het is goed, het is goed. Mevrouw Marie. Allemaal samen, dames. ZE NEURIËN DE MELODIE Dat is het. Er kan ons niets gebeuren. Als we daar maar aan denken. Zing nog eens. Maar dan met de goeie woorden. De goeie woorden gebruiken. Het is \\'Klokke Roeland\\'. Je hebt ze daar bij je. Pas op. Zeg, die preek... Is het waar, Pol? Het kwam eruit.  En het ging erin. Ik vraag...  Nagels met koppen. ...ruiten. Mag ik hem lezen?  Er stond niets op papier. Ik vraag harten. En over veertien dagen.  Het proces? Ik ga mee met ruiten. Denk je te kunnen winnen of niet? Onder ons...  Ja. Dat spreekt voor zich.  De kans is klein. Ik ga mee met harten. Laat het afweten. Ik ben geen lafaard.  Wat heb je nu tegen? Ongeveer alles. Negen.  Wist je dat niet vroeger? Ik weet het al een tijdje, Poliet. Wat zie je dan in het proces?  Pijlen afschieten, een koker vol. Hun doel voorbij, ja.  Dat kan, maar ze zijn giftig. Fons, ik hoor je niet. Ik heb toch gesproken?  Dan toch heel stilletjes. Dan moet je maar beter luisteren.  Ook negen? Negen.  Tien. Zeg, je preek, ook giftige pijlen? En dat was nog maar om te oefenen. Voor de goede verstaanders.  Ook voor de slechte. Dus dat schilderij, dat zijn we kwijt?  Dat kan niet. Voorgoed, voor eeuwig?  Niets is eeuwig in mensenhand. Dus het proces is nog maar een begin? Ja, een veldslag die ik verlies. Peers.  Fons. Ga jij erover? Tien, zei ik.  Dat heb ik niet gehoord. Oren laten ontstoppen. Tien...  Tien, zei Fien, en ze liet ze zien. Tien.  Passe parole, casserole, camisole. Passetoutgrain.  Allee. Ja. Daar valt ze, de asteroïde. Goed dat hij hier niet ingeslagen is.  Hij is ingeslagen, meneer Sickx. Niets van gehoord.  Ik ook niet. Precies op de plaats waar ik had berekend. De kranten niet gelezen? Kernmogendheid laat bom ontploffen  in Indische Oceaan. Gelezen, Fons. En ook dat geen van de vijf beschuldigd wil worden? Ook gelezen, Fons.  En waarom niet, denk je? Politiek, Fons.  Nee, omdat er geen bom ontploft is. Daar ter plaatse, dat had ik berekend. Daar is mijn asteroïde gevallen, met de kracht van een kernbom. Hermes ligt op de bodem van de Indische Oceaan en in het heelal zal niemand hem nog zien voorbijflitsen. Onder ons gezegd. Wij hebben geluk gehad. En de negen. Troef.  Ik had kunnen kopen. Dat moest er een voor ons zijn. Poliet, trakteer ons nog eens. En waar staat die alarmsituatie?  Hier niet, Gerard. Vlak voor het schilderij. En deze voormiddag?  Dat was de alarmsirene. Ik dacht al...  Het begin. Dat blijft dus...  Loeien. En ik moet...  Ingrijpen. Als politieman.  Je bent toch thuis \\'s nachts? \\'s Nachts slaap ik.  Je zal rap genoeg wakker zijn. Optreden, de inbreker... Ja, als die maar niet al lang weg is voor ik mijn uniform aanheb.  Uniform? Ik kan toch niet in mijn pyjama  komen. Je matrak, Gerard. Als je je matrak maar mee hebt. Ik zou misschien... ...in mijn uniform... Dus iemand loopt door de fotocellen.  En de hel breekt los. Het zou niet de eerste inbreker zijn die ik inreken. We zullen eens gaan kijken, Gerard. BONS EN GEROEP Hoor ik nu geen geluid in de rechtszaal? Daar is iemand. Ik hoor het ook. En kom naar voren. Madam Briers, wat weet jij over de gebroken voet van je zoon Luc? Dat is onze Agnes. Antwoorden als de vrederechter je iets vraagt. Mijn Luc heeft zijn voet niet gebroken. Het was bedriegerij van meneer Boni de Lesseweg. Je bent aan het liegen dat je stinkt,  madam Briers. Mijn broeder Boni is slimmer dan dat,  om zoiets uit te vinden. Ik lieg niet dat ik stink, meneer de vrederechter. De straal. Die snotter van een Stoffels  zou er los door lopen als je hem doet schrikken. Nee? En je dochter Agnes dan? Die doet ook niets anders dan liegen. Zeg, Nico Stoffels, als je zo begint... Ik lieg niet, hè. Weet je wat jij gelogen hebt?  Onnozele Stoffels. Wat jij over mij gelogen hebt tegen Els van Kerdoens? Dat weet ik niet, want ik heb met haar geen contact, Stoffels. Dan zal ik het je zeggen, Agnes Briers. Ik wil die Nico Stoffels niet, heb je gezegd. Dat het nooit een goeie revelatie kan worden. Awel?  Godverdju. Dat is de tweede Stoffels die z\\'n eieren in mijn nest wil leggen.  Kindergedoe. Liegebeest. Waarom heb je dan gevraagd om mij te kussen, zoals in \\'Dallas\\', op mijn mond? Niet bewegen, niet bewegen.  Naar huis, jij. Onmiddellijk. Niet meer buiten, de hele zondag niet. Blijven zitten. Niet bewegen. Blijven zitten. Excuseer. Excuus. Sorry. Ik ben brutaal geweest. Zomaar binnenkomen zonder op je antwoord te wachten. Het geeft niet. Ik ben niet preuts. En ik mag gezien worden.  Ja, dat zeker. Ik kom misschien beter straks terug.  Waarvoor was het? Eigenlijk voor... Voor niets eigenlijk. Voor niets? Dat is tamelijk onnozel, hè. Is dat de gewoonte in de politiek?  Nee. Je kan toch gaan zitten? Ik droog ondertussen wel op. Het was eenvoudig omdat ik niet goed op de hoogte ben van je operatie. Ze gaan je toch opereren om je te genezen? Ze opereren niet zomaar? Je gelooft toch zelf dat je er genezen uit komt? Ik bedoel...  Wat bedoel je eigenlijk? Het beste voor jou, Barbara. Het beste natuurlijk. Want je begrijpt, als...  Ja. Ik geloof dat ik het begrijp. Nee. Ik bedoel niet dat...  Jawel, je bedoelt wel dat als ik niet zeker weet dat ik van mijn leukemie af geraak, dat als ik niet weer een gewoon mens word, je mij beter niet komt opvrijen. Maar nee, Barbaraatje.  Maar jawel, Barbaraatje. Ik kan mijn zinnen toch niet zetten op een zieke vrouw? Ik kan toch niet trouwen met een vrouw die een poos gezond en dan weer ziek is en die een jaar na ons huwelijk al...  Zo zie je het zelf niet. Zo zie ik het wel. En ga nu maar, want ik ben nog niet klaar. Je hebt me verkeerd begrepen.  Ik heb je niet verkeerd begrepen. Geen probleem. Ik kan je alles beter uitleggen straks, als we samen... Nee, je hoeft me niet weg te brengen.  Ik trek mijn plan wel. En als ik dat nu wel wil doen?  En als ik dat nu niet wil? Begrijp me niet verkeerd, Gentil. Ik versta heel goed dat je er zo over denkt. Dat is meer dan normaal. Ga je het nu eindelijk zeggen? Hoe ben jij hierbinnen geraakt? Met de sleutel. Van de achterdeur. En nagemaakt. Hoe ben je daaraan geraakt?  Gekregen. Van wie gekregen? Inbreker, van wie? Van Luc Briers. Die had hem toch niet meer nodig,  sinds hij met Nicole getrouwd is. Gerard, dan zijn er misschien nog van die sleutels in omloop op het plein. Dat zei Luc toch, dat er nog waren. Zeker drie. Dat wordt een zwaar onderzoek,  zeker, meneer Boni? Een nieuw slot, dat zal het beste zijn,  Gerard. Ja. Intussen zal ik nog maar een paar nachten in uniform slapen. Allee, vooruit. Naar huis. Je mag blij zijn dat ik je niet op staande voet aanhoud. Kusser van meisjes. De straal weer opzetten. Dat zal het veiligste zijn. Gentil Bers brengt haar weg, Gentil Bers gaat haar halen. En nog eens over en weer, naar Brussel en naar Parijs. Ik koop mij een auto, morgen al. Ja, ja. Lach me maar uit. Maar ik ben zot van haar. Liefde is niet gemaakt door een computer en afgesteld op een, twee of drie jaar. Trouwens, zo lang duurt geen enkele liefde. Liefde is er, voor een ogenblik, voor een miljoen ogenblikken, voor een miljard ogenblikken. En als ik die ogenblikken nu wil samenpersen tot een, twee of drie jaar, dan is dat mijn zaak, hè Pol. Porto? Jij bent van die gecompliceerde  aperitieven gewoon. Op die recepties van de scriptores catholici. Op basis van champagne met een kriekje dat je niet zonder morsen kan opvissen. Porto? Ja, zeker. Nee, Pol. Als ik haar kan overhalen om één jaar, twee jaar, drie jaar, mijn bed te delen, mijn keuken, mijn living, mijn rommel, mijn verf, mijn karakter... Drie jaar. En dat het dan gedaan is. Dan ben ik drie jaar de gelukkigste mens ter wereld. Zij ook, hoop ik. Dat kun je mij niet  uit mijn hoofd praten. Ik zeg zomaar iets. Twee maanden is ook al goed. Ja. Je houdt er dus toch ook rekening  mee dat Barbara... Jaja. Hier. Om nuchter te blijven. Weet je waar ik soms mee bezig ben, Pol? Wat ik soms denk? Dat mijn liefde haar in leven kan houden. Als ik haar streel, haar kus, met haar praat, haar eten geef, haar steun, met haar discussieer,  ruziemaak met haar, met haar naar bed ga, dat ik een kracht in haar steek, een spanning in haar lichaam, een geluk, een levendigheid, zodat die kankercellen geen plaats  meer over hebben en hun biezen moeten pakken. Hè, Pol? Doen, Karel. Doen. Doen, hè Pol.  Doen. Daarvoor ben jij niet naar hier gekomen. Nee, die sirene vanmorgen.  Ah ja, gehoord? Ja, de firma Protect heeft me  gisteravond opgebeld of ik er geen heil in zou zien om in de kerk een eenvoudige  alarminstallatie te plaatsen. Ook, zei de man.  Ook? Ja, vermits in het vredegerecht  enzovoort. En nu wij het weten...  Ja. En meneer de vrederechter niet weet  dat wij het weten. ...kunnen wij niet doen alsof onze neus bloedt, hè? Daar zit muziek in.  Ja. Zeg, Peers. Jij, Pol?  Nee, ik niet. Ik ook niet, Pol.  Schrikscheet. Ik heb een beter idee. Luister. Barbara.  Ik hoop het. Kom binnen, Barbaraatje. Mag ik je voorstellen,  bevrijdingstheoloog Paulo Sickxo. Jij eet met ons mee, Barbaraatje?  Nee, maar mag ik eens telefoneren? Voor een taxi. Hoe? En Gentil Bers? Ik rijd niet mee met Gentil. Ik kon je dat niet aandoen. Peers, geen osculum columbinum. Wat?  Een zondige tongkus. Wat weet jij daarvan?  Van horen zeggen. Ik zal voor je bidden, Barbara. Allee, Barbara. Dat het je goed gaat,  dat is onze grootste wens. Niets van aantrekken, Barbara. Het loopt zeker goed af. Meneer Sickx heeft in zijn preek gevraagd dat we je zouden gedenken. En dat zullen we doen, want hij heeft het gevraagd, nietwaar. Kind, dat het mag meevallen. Maar dat zal wel. Ah ja. Want zoals jij zijn er geen twee. Ga jij maar twee woorden spreken,  Boniface. Bij jou lijkt het minder hypocriet. Dat is voor Barbara, heeft mama gezegd. En hier is ook nog een gedichtje van mij bij. Maar niemand weet dat ik dat gemaakt heb. Ik zal je gedichtje boven mijn bed  hangen. Het beste, juffrouw Vink. Ook vanwege de vrederechter.  Dank je. Niet te veel van geloven, Barbara. Dat is op de goede afloop.  Ja. Mooie preek, eerwaarde. Dat geef ik toe. Mooie preek. Echt. Ik dacht wel dat je hem zou appreciëren. O ja, ten volle. Vooral dat van die verloren zoon. Dat sloeg in, zeker?  Ja, ja, ja. Griffier Aerts zal wel gevoeld hebben  dat je het over hem had. Duidelijk, duidelijk. Wat je over je vadertje hebt verteld, getuigt ook van een verheven zielsgesteldheid. Dat je vader een dief is geweest, maar dat je je mantel der vergiffenis  over hem hebt gelegd. Als het kan, gebeurt het vandaag nog,  de Lesseweg. Tweeëntachtig. Te lang weer.  Dat is de maat. Je hebt mijn jassen al altijd te lang gemaakt. Dat is niet modern. U heeft geen postuur voor de moderne snit. Korter, als ik het zeg, Fons. Hupser. Wablieft?  Hupser. Ik loop erbij als een halve clown. Dat zal dan wel niet aan het kostuum liggen. Korter. Tot hier? Je moet het zelf weten.  Het is mijn jas, Fons. Het is jouw jas. Ik kan beter in de confectie kopen.  Daar heeft u ook het postuur voor. Fons, jij als lid van de kerkfabriek,  onder ons, hoe staat de kerkfabriek ervoor voor het proces? Dat schilderwerk is nooit van de kerkfabriek geweest. Nee. Eigendom van de pastoors. Het nalatenschap van Verschaeve. Van pastoor op pastoor. Dan zal ik dat proces verliezen? Glansrijk. En ik weet nog iets, hè. Ik luister, Fons. Het bijzonderste.  Ik ben benieuwd. En Sickx weet het ook. Vertel het mij dan ook maar. Je kan het toch niet verzwijgen.  Ja, ja. En ik heb Sickx beloofd er met niemand over te praten. Drie kostuums, Fons. Drie ineens. Al waren het er vijf. Draagt meneer de vrederechter links?  Altijd links gedragen. Dat weet je. Dat draagt links en is zelf zo rechts als de pest. Je komt dus niet slapen?  Ik zeg het toch, ik heb wacht. Er kan iets gebeuren. Ga jij hier blijven zitten? Ik hou van hier de achterdeur van het vredegerecht in het oog. Ik heb het de vredebreker beloofd. Je moet hem toch niet altijd de vredebreker noemen? Dat is hij.  Bernard. Geen sigaar. Dus ik slaap tot drie uur en dan neem ik de wacht over? En morgen omgekeerd.  Als er nog een morgen komt. Jij denkt dat dat lukt? Negen op de tien. Pas op. Wij hebben de hele nacht nog. Ivo is toch een van de de Lessewegs?  Ja, maar de jeugd is zo fanatiek niet. Juist.  Na nog geen twee woorden stond hij al in vuur en vlam. Met veel plezier, zei hij. Ik zoek tot ik het gevonden heb. Dat wil ik meemaken. ...Amandus... ...Sickx... ...de Belgische... ...staat. Die schrikt zich een vet kalf. Een duizendste van een seconde is genoeg. Vlug, vlug. Hier. Hier is zeker niemand buitengekomen.  Dan is hij nog... Nergens.  Zet dat af. Afzetten, afzetten. Dat kwam toch van het gerecht? Die twee zitten erachter.  Aristide zorgt voor een passende beveiliging van \"zijn\" schilderij.Ondertussen krijgt Sickx er een onverwachte kerkganger bij.Barbara maakt net voor haar vertrek naar het ziekenhuis komaf met een van haar aanbidders.De clan Sickx krijgt sterke argumenten over het eigendomsrecht van het schilderij in handen. Het wel en wee van de bewoners van het pleintje')]"
      ]
     },
     "execution_count": 36,
     "metadata": {},
     "output_type": "execute_result"
    }
   ],
   "source": [
    "catalog_chunks"
   ]
  },
  {
   "cell_type": "code",
   "execution_count": 45,
   "metadata": {},
   "outputs": [
    {
     "data": {
      "text/plain": [
       "['a36b528f-6bba-4b73-9ba5-6ca55153d8f3',\n",
       " '48d39a15-13f1-458e-97b5-890883c22b39',\n",
       " 'a5ce3e28-a76b-43f2-9c96-08786dcedb54']"
      ]
     },
     "execution_count": 45,
     "metadata": {},
     "output_type": "execute_result"
    }
   ],
   "source": [
    "vector.add_documents(documents=catalog_chunks,vector_field = \"vrtmax_catalog_vector\",bulk_size=len(df)+1)"
   ]
  },
  {
   "cell_type": "code",
   "execution_count": 24,
   "metadata": {},
   "outputs": [
    {
     "data": {
      "text/plain": [
       "'Seizoen 2023'"
      ]
     },
     "execution_count": 24,
     "metadata": {},
     "output_type": "execute_result"
    }
   ],
   "source": [
    "df.iloc[1].mediacontent_pagetitle_season"
   ]
  },
  {
   "cell_type": "code",
   "execution_count": null,
   "metadata": {},
   "outputs": [],
   "source": []
  }
 ],
 "metadata": {
  "kernelspec": {
   "display_name": "llm",
   "language": "python",
   "name": "python3"
  },
  "language_info": {
   "codemirror_mode": {
    "name": "ipython",
    "version": 3
   },
   "file_extension": ".py",
   "mimetype": "text/x-python",
   "name": "python",
   "nbconvert_exporter": "python",
   "pygments_lexer": "ipython3",
   "version": "3.10.14"
  }
 },
 "nbformat": 4,
 "nbformat_minor": 2
}
