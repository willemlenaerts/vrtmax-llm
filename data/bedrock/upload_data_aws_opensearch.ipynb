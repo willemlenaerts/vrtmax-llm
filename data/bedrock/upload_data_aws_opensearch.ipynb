{
 "cells": [
  {
   "cell_type": "code",
   "execution_count": 15,
   "metadata": {},
   "outputs": [],
   "source": [
    "from opensearchpy import OpenSearch, RequestsHttpConnection,  AWSV4SignerAuth\n",
    "import boto3\n",
    "import pandas as pd\n"
   ]
  },
  {
   "cell_type": "code",
   "execution_count": 10,
   "metadata": {},
   "outputs": [],
   "source": [
    "region = 'eu-west-2'\n",
    "service = 'aoss'\n",
    "credentials = boto3.Session(profile_name='vrt-analytics-engineer-nonsensitive').get_credentials()\n",
    "auth = AWSV4SignerAuth(credentials, region, service)\n",
    "\n",
    "vectorstore = OpenSearch(\n",
    "   hosts = [{'host': \"epcavlvwitam2ivpwv4k.eu-west-2.aoss.amazonaws.com\", 'port': 443}],\n",
    "   http_auth = auth,\n",
    "   use_ssl = True,\n",
    "   verify_certs = True,\n",
    "   connection_class = RequestsHttpConnection,\n",
    "   pool_maxsize = 20\n",
    ")"
   ]
  },
  {
   "cell_type": "code",
   "execution_count": 29,
   "metadata": {},
   "outputs": [],
   "source": [
    "# Create index\n",
    "index_body = {\n",
    "  'settings': {\n",
    "    \"index.knn\": True\n",
    "  },\n",
    "  \"mappings\": {\n",
    "    \"properties\": {\n",
    "      \"vrtmax_catalog_vector\": {\n",
    "        \"type\": \"knn_vector\",\n",
    "        \"dimension\": 768,\n",
    "        \"method\": {\n",
    "          \"engine\": \"faiss\",\n",
    "          \"name\": \"hnsw\",\n",
    "          \"space_type\": \"l2\"\n",
    "        }\n",
    "      }\n",
    "    }\n",
    "  }\n",
    "}\n",
    "\n",
    "response = vectorstore.indices.create('aoss-index', body=index_body)"
   ]
  },
  {
   "cell_type": "code",
   "execution_count": 13,
   "metadata": {},
   "outputs": [
    {
     "name": "stderr",
     "output_type": "stream",
     "text": [
      "/home/willem/miniconda3/envs/llm/lib/python3.10/site-packages/sentence_transformers/cross_encoder/CrossEncoder.py:11: TqdmWarning: IProgress not found. Please update jupyter and ipywidgets. See https://ipywidgets.readthedocs.io/en/stable/user_install.html\n",
      "  from tqdm.autonotebook import tqdm, trange\n"
     ]
    }
   ],
   "source": [
    "# embed stuff and write to opensearch\n",
    "from langchain.embeddings.huggingface import HuggingFaceEmbeddings\n",
    "model_name = \"NetherlandsForensicInstitute/robbert-2022-dutch-sentence-transformers\"\n",
    "encode_kwargs = {'normalize_embeddings': False}\n",
    "embeddings = HuggingFaceEmbeddings(\n",
    "    model_name=model_name,\n",
    "    encode_kwargs=encode_kwargs\n",
    ")"
   ]
  },
  {
   "cell_type": "code",
   "execution_count": 30,
   "metadata": {},
   "outputs": [],
   "source": [
    "from langchain.vectorstores import OpenSearchVectorSearch\n",
    "\n",
    "\n",
    "vector = OpenSearchVectorSearch(\n",
    "  embedding_function = embeddings,\n",
    "  index_name = 'aoss-index',\n",
    "  http_auth = auth,\n",
    "  use_ssl = True,\n",
    "  verify_certs = True,\n",
    "  connection_class = RequestsHttpConnection,\n",
    "  opensearch_url=\"https://epcavlvwitam2ivpwv4k.eu-west-2.aoss.amazonaws.com\"\n",
    ")"
   ]
  },
  {
   "cell_type": "code",
   "execution_count": 23,
   "metadata": {},
   "outputs": [],
   "source": [
    "df = pd.read_csv(\"vrtmax_catalog.csv\")"
   ]
  },
  {
   "cell_type": "code",
   "execution_count": 24,
   "metadata": {},
   "outputs": [],
   "source": [
    "from langchain.document_loaders import DataFrameLoader\n",
    "from langchain.text_splitter import CharacterTextSplitter\n",
    "\n",
    "loader = DataFrameLoader(df, page_content_column=\"info_to_embed\")\n",
    "catalog = loader.load()\n",
    "\n",
    "text_splitter = CharacterTextSplitter(chunk_size=1000, chunk_overlap=0)\n",
    "catalog_chunks = text_splitter.split_documents(catalog)"
   ]
  },
  {
   "cell_type": "code",
   "execution_count": 32,
   "metadata": {},
   "outputs": [],
   "source": [
    "vector.add_documents(documents=catalog_chunks,vector_field = \"vrtmax_catalog_vector\",bulk_size=len(df)+1)"
   ]
  },
  {
   "cell_type": "code",
   "execution_count": null,
   "metadata": {},
   "outputs": [],
   "source": []
  }
 ],
 "metadata": {
  "kernelspec": {
   "display_name": "llm",
   "language": "python",
   "name": "python3"
  },
  "language_info": {
   "codemirror_mode": {
    "name": "ipython",
    "version": 3
   },
   "file_extension": ".py",
   "mimetype": "text/x-python",
   "name": "python",
   "nbconvert_exporter": "python",
   "pygments_lexer": "ipython3",
   "version": "3.10.14"
  }
 },
 "nbformat": 4,
 "nbformat_minor": 2
}
