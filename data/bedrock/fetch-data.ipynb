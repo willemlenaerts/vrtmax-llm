{
 "cells": [
  {
   "cell_type": "code",
   "execution_count": 3,
   "metadata": {},
   "outputs": [
    {
     "name": "stdout",
     "output_type": "stream",
     "text": [
      "sagemaker.config INFO - Not applying SDK defaults from location: /etc/xdg/xdg-ubuntu/sagemaker/config.yaml\n",
      "sagemaker.config INFO - Not applying SDK defaults from location: /home/willem/.config/sagemaker/config.yaml\n"
     ]
    }
   ],
   "source": [
    "import awswrangler as wr\n",
    "from datetime import datetime, timedelta\n",
    "import sagemaker\n",
    "import boto3\n",
    "import json\n",
    "\n",
    "now = datetime.now() - timedelta(hours = 4)\n",
    "\n",
    "# episodes = [\"1716761117540\",\"test\"] # pageids of episodes to take\n",
    "# programs = [\"1460018486818\"] # program pageids of programs to take"
   ]
  },
  {
   "cell_type": "code",
   "execution_count": 4,
   "metadata": {},
   "outputs": [],
   "source": [
    "# AWS login to use sagemaker endpoints\n",
    "session = boto3.Session(profile_name='vrt-analytics-engineer-nonsensitive')\n",
    "sagemaker_session = sagemaker.Session(boto_session=session)\n",
    "role = sagemaker.get_execution_role(sagemaker_session=sagemaker_session)"
   ]
  },
  {
   "cell_type": "code",
   "execution_count": 17,
   "metadata": {},
   "outputs": [],
   "source": [
    "query = f\"\"\"\n",
    "SELECT\n",
    "*\n",
    "FROM (\n",
    "SELECT \n",
    "*\n",
    "FROM \n",
    "derived_prod.vrtmax_catalog_mediaid_history WHERE year = {now.year} and month = {now.month} and day = {now.day} and hour = {now.hour} \n",
    "AND offering_publication_planneduntil > CURRENT_TIMESTAMP\n",
    ") vrtmax_catalog\n",
    "LEFT JOIN (\n",
    "SELECT \n",
    "mediacontent_media_id as mediacontent_media_id_duplicate,\n",
    "array_join(array_agg(subtitle ORDER BY starttc ASC), ' ') as subtitle\n",
    "FROM (\n",
    "SELECT \n",
    "MIN(subtitle) as subtitle,\n",
    "mediacontent_media_id,\n",
    "starttc\n",
    "FROM (\n",
    "SELECT \n",
    "subtitle,\n",
    "mediacontent_media_id,\n",
    "starttc\n",
    "FROM\n",
    "(\n",
    "SELECT \n",
    "objid, subtitle\n",
    "FROM (\n",
    "SELECT objid, subtitle, \n",
    "row_number() OVER (partition by subtitle ORDER BY objid DESC) as rn \n",
    "FROM (\n",
    "SELECT objid, a_vrt_subti2  as subtitle FROM \"operationaldata_nonsensitive_prod\".\"depot_dmc_s_vrt_s1\"  -- WHERE import_year = 2024 and import_month = 6 and import_day = 9\n",
    "UNION\n",
    "SELECT objid, a_vrt_subti3  as subtitle FROM \"operationaldata_nonsensitive_prod\".\"depot_dmc_s_vrt_s2\"  -- WHERE import_year = 2024 and import_month = 6 and import_day = 9\n",
    "UNION\n",
    "SELECT objid, a_vrt_subtit as subtitle FROM \"operationaldata_nonsensitive_prod\".\"depot_dmc_s_vrt_s3\"   -- WHERE import_year = 2024 and import_month = 6 and import_day = 9\n",
    "UNION\n",
    "SELECT objid, a_vrt_subti4 as subtitle FROM \"operationaldata_nonsensitive_prod\".\"depot_dmc_s_vrt_s4\"   -- WHERE import_year = 2024 and import_month = 6 and import_day = 9\n",
    "UNION \n",
    "SELECT objid, a_vrt_speech as subtitle FROM \"operationaldata_nonsensitive_prod\".\"depot_dmc_s_vrt_sp\"   -- WHERE import_year = 2024 and import_month = 6 and import_day = 9\n",
    "UNION \n",
    "SELECT objid, a_vrt_subti1 as subtitle FROM \"operationaldata_nonsensitive_prod\".\"depot_dmc_s_vrt_su\"   -- WHERE import_year = 2024 and import_month = 6 and import_day = 9\n",
    ")\n",
    ")\n",
    "WHERE rn = 1\n",
    ") a\n",
    "LEFT JOIN (\n",
    "SELECT objid, segmentcontentid, starttc\n",
    "FROM (\n",
    "SELECT objid, segmentcontentid, starttc,\n",
    "row_number() OVER (partition by segmentcontentid ORDER BY objid DESC) as rn \n",
    "FROM (\n",
    "SELECT objid,  segmentcontentid ,starttc FROM \"operationaldata_nonsensitive_prod\".\"depot_dms_vrt_sub1\"  -- WHERE import_year = 2024 and import_month = 6 and import_day = 9\n",
    "UNION\n",
    "SELECT objid,  segmentcontentid ,starttc FROM \"operationaldata_nonsensitive_prod\".\"depot_dms_vrt_sub2\"  -- WHERE import_year = 2024 and import_month = 6 and import_day = 9\n",
    "UNION\n",
    "SELECT objid,  segmentcontentid ,starttc FROM \"operationaldata_nonsensitive_prod\".\"depot_dms_vrt_sub3\"  -- WHERE import_year = 2024 and import_month = 6 and import_day = 9\n",
    "UNION\n",
    "SELECT objid,  segmentcontentid ,starttc FROM \"operationaldata_nonsensitive_prod\".\"depot_dms_vrt_sub4\"  -- WHERE import_year = 2024 and import_month = 6 and import_day = 9\n",
    "UNION\n",
    "SELECT objid,  segmentcontentid ,starttc FROM \"operationaldata_nonsensitive_prod\".\"depot_dms_vrt_subt\"  -- WHERE import_year = 2024 and import_month = 6 and import_day = 9\n",
    ")\n",
    "GROUP BY objid, segmentcontentid, starttc\n",
    ") \n",
    "WHERE rn = 1\n",
    ") b\n",
    "ON a.objid = b.segmentcontentid\n",
    "LEFT JOIN (\n",
    "SELECT objid,  a_vrt_progra ,a_vrt_media_\n",
    "FROM (\n",
    "SELECT objid,  a_vrt_progra ,a_vrt_media_,\n",
    "row_number() OVER (partition by objid ORDER BY a_vrt_media_ DESC) as rn \n",
    "FROM \"operationaldata_nonsensitive_prod\".\"depot_dmo_program\"  WHERE import_year = 2024 and import_month = 6 and import_day = 9\n",
    ") WHERE rn = 1\n",
    ") c\n",
    "ON b.objid = c.objid\n",
    "INNER JOIN (\n",
    "SELECT mediacontent_media_id, \tmediacontent_media_origin_id  \n",
    "FROM (\n",
    "SELECT mediacontent_media_id, mediacontent_media_origin_id, row_number() OVER (PARTITION BY mediacontent_media_origin_id   ORDER BY \tcontactmoment_ingest_timestamp DESC)  as rn FROM \"marketing_prod\".\"dtr_vd_dms_audio_video_metadata_datariver\"\n",
    ")\n",
    "WHERE rn = 1\n",
    ") d\n",
    "ON c.a_vrt_media_ = d.mediacontent_media_origin_id\n",
    ")\n",
    "GROUP BY mediacontent_media_id, starttc\n",
    ")\n",
    "GROUP BY mediacontent_media_id\n",
    ") subtitles  \n",
    "ON vrtmax_catalog.mediacontent_media_id = subtitles.mediacontent_media_id_duplicate\n",
    "\"\"\"\n",
    "\n",
    "df = wr.athena.read_sql_query(sql=query, database=\"derived_prod\",boto3_session=session)"
   ]
  },
  {
   "cell_type": "code",
   "execution_count": 18,
   "metadata": {},
   "outputs": [],
   "source": [
    "# drop columns\n",
    "df = df.drop(['mediacontent_media_id_duplicate'], axis=1)"
   ]
  },
  {
   "cell_type": "code",
   "execution_count": 19,
   "metadata": {},
   "outputs": [],
   "source": [
    "# cleaning\n",
    "df[\"subtitle\"] = df[\"subtitle\"].str.replace('\\r', '')\n",
    "df[\"subtitle\"] = df[\"subtitle\"].str.replace('\\n', '')\n",
    "df[\"subtitle\"] = df[\"subtitle\"].str.replace(\"-\",\"\")\n",
    "\n",
    "# Fields to use\n",
    "fields_to_embed = [\n",
    "    \"subtitle\",\"mediacontent_page_description_program\",\"mediacontent_page_description\",\"mediacontent_page_editorialtitle_program\"\n",
    "]\n",
    "\n",
    "metadata_fields = [\n",
    "    \"mediacontent_pagetitle_program\",\"mediacontent_pagetitle_season\",\"mediacontent_pagetitle\"\n",
    "    ,\"offering_publication_planneduntil\",\"brand_contentbrand\",\"mediacontent_pageurl\",\"mediacontent_imageurl\",\"mediacontent_programimageurl\"\n",
    "]\n",
    "\n",
    "# convert everythin to string \n",
    "df = df[fields_to_embed+metadata_fields].astype(str)\n",
    "df.fillna('', inplace=True)\n",
    "df = df.replace('<NA>', \"\")\n",
    "df = df.replace('\"', \"\")"
   ]
  },
  {
   "cell_type": "code",
   "execution_count": 20,
   "metadata": {},
   "outputs": [
    {
     "data": {
      "text/plain": [
       "' # take only  rows where at least one of the fields to be embedded is not null\\nquery_condition = []\\n\\nfor field in fields_to_embed:\\n    query_condition.append(\"(\" + field + \"!= \\'\\'\")\\n\\nquery_condition = \" | \".join(query_condition)\\ndf = df.query(query_condition) '"
      ]
     },
     "execution_count": 20,
     "metadata": {},
     "output_type": "execute_result"
    }
   ],
   "source": [
    "\"\"\" # take only  rows where at least one of the fields to be embedded is not null\n",
    "query_condition = []\n",
    "\n",
    "for field in fields_to_embed:\n",
    "    query_condition.append(\"(\" + field + \"!= ''\")\n",
    "\n",
    "query_condition = \" | \".join(query_condition)\n",
    "df = df.query(query_condition) \"\"\""
   ]
  },
  {
   "cell_type": "code",
   "execution_count": 21,
   "metadata": {},
   "outputs": [],
   "source": [
    "# loading data into vector db requires one field with all text data to embed\n",
    "df[\"info_to_embed\"] = df[fields_to_embed].apply(lambda row: ' '.join(row.values.astype(str)), axis=1)\n",
    "\n",
    "# rest of columns become metadata automatically, so remove the ones you don't want\n",
    "df = df.drop(['subtitle'], axis=1)"
   ]
  },
  {
   "cell_type": "code",
   "execution_count": 22,
   "metadata": {},
   "outputs": [],
   "source": [
    "import csv\n",
    "df.to_csv(\"vrtmax_catalog.csv\",index=False)"
   ]
  },
  {
   "cell_type": "code",
   "execution_count": 40,
   "metadata": {},
   "outputs": [],
   "source": [
    "# create csv + metadata combinations (for every row)\n",
    "for index, row in df.iterrows():\n",
    "    df[df.index == index][fields_to_embed].to_csv(\"opensearch/\" + row[\"mediacontent_media_id\"] + \".csv\",index=False)\n",
    "    metadata = dict()\n",
    "    metadata[\"metadataAttributes\"] = df[df.index == index][metadata_fields].to_dict(\"records\")[0]\n",
    "\n",
    "    # Convert and write JSON object to file\n",
    "    with open(\"opensearch/\" + row[\"mediacontent_media_id\"] + \".metadata.json\", \"w\") as outfile: \n",
    "        json.dump(metadata, outfile)"
   ]
  },
  {
   "cell_type": "code",
   "execution_count": null,
   "metadata": {},
   "outputs": [],
   "source": []
  }
 ],
 "metadata": {
  "kernelspec": {
   "display_name": "llm",
   "language": "python",
   "name": "python3"
  },
  "language_info": {
   "codemirror_mode": {
    "name": "ipython",
    "version": 3
   },
   "file_extension": ".py",
   "mimetype": "text/x-python",
   "name": "python",
   "nbconvert_exporter": "python",
   "pygments_lexer": "ipython3",
   "version": "3.10.14"
  }
 },
 "nbformat": 4,
 "nbformat_minor": 2
}
