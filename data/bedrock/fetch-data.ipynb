{
 "cells": [
  {
   "cell_type": "code",
   "execution_count": 23,
   "metadata": {},
   "outputs": [],
   "source": [
    "import awswrangler as wr\n",
    "from datetime import datetime, timedelta\n",
    "import sagemaker\n",
    "import boto3\n",
    "import json\n",
    "import subprocess\n",
    "import pandas as pd\n",
    "\n",
    "now = datetime.now() - timedelta(hours = 4)\n",
    "\n",
    "# episodes = [\"1716761117540\",\"test\"] # pageids of episodes to take\n",
    "# programs = [\"1460018486818\"] # program pageids of programs to take"
   ]
  },
  {
   "cell_type": "code",
   "execution_count": 15,
   "metadata": {},
   "outputs": [],
   "source": [
    "# Login AWS\n",
    "aws_profile = \"vrt-analytics-engineer-nonsensitive\"\n",
    "envvars = subprocess.check_output(['aws-vault', 'exec', aws_profile, '--', 'env'])\n",
    "for envline in envvars.split(b'\\n'):\n",
    "    line = envline.decode('utf8')\n",
    "    eqpos = line.find('=')\n",
    "    if eqpos < 4:\n",
    "        continue\n",
    "    k = line[0:eqpos]\n",
    "    v = line[eqpos+1:]\n",
    "    if k == 'AWS_ACCESS_KEY_ID':\n",
    "        aws_access_key_id = v\n",
    "    if k == 'AWS_SECRET_ACCESS_KEY':\n",
    "        aws_secret_access_key = v\n",
    "    if k == 'AWS_SESSION_TOKEN':\n",
    "        aws_session_token = v\n",
    "\n",
    "session = boto3.Session(\n",
    "aws_access_key_id, aws_secret_access_key, aws_session_token, region_name = \"eu-west-1\"\n",
    ")\n",
    "credentials = session.get_credentials()\n",
    "sagemaker_session = sagemaker.Session(boto_session=session)\n",
    "role = sagemaker.get_execution_role(sagemaker_session=sagemaker_session)\n",
    "\n",
    "credentials =  {\n",
    "    \"boto_session\": session,\n",
    "    \"sagemaker_session\": sagemaker_session,\n",
    "    \"role\": role\n",
    "}"
   ]
  },
  {
   "cell_type": "code",
   "execution_count": 77,
   "metadata": {},
   "outputs": [],
   "source": [
    "query = f\"\"\"\n",
    "SELECT\n",
    "* \n",
    "FROM (\n",
    "SELECT\n",
    "*\n",
    "FROM (\n",
    "SELECT \n",
    "*\n",
    "FROM \n",
    "derived_prod.vrtmax_catalog_mediaid_history WHERE year = {now.year} and month = {now.month} and day = {now.day} and hour = {now.hour} \n",
    "AND offering_publication_planneduntil > CURRENT_TIMESTAMP\n",
    ") vrtmax_catalog\n",
    "LEFT JOIN (\n",
    "SELECT \n",
    "mediacontent_media_id as mediacontent_media_id_duplicate,\n",
    "array_join(array_agg(subtitle ORDER BY starttc ASC), ' ') as subtitle\n",
    "FROM (\n",
    "SELECT \n",
    "MIN(subtitle) as subtitle,\n",
    "mediacontent_media_id,\n",
    "starttc\n",
    "FROM (\n",
    "SELECT \n",
    "subtitle,\n",
    "mediacontent_media_id,\n",
    "starttc\n",
    "FROM\n",
    "(\n",
    "SELECT \n",
    "objid, subtitle\n",
    "FROM (\n",
    "SELECT objid, subtitle, \n",
    "row_number() OVER (partition by subtitle ORDER BY objid DESC) as rn \n",
    "FROM (\n",
    "SELECT objid, a_vrt_subti2  as subtitle FROM \"operationaldata_nonsensitive_prod\".\"depot_dmc_s_vrt_s1\"  -- WHERE import_year = 2024 and import_month = 6 and import_day = 9\n",
    "UNION\n",
    "SELECT objid, a_vrt_subti3  as subtitle FROM \"operationaldata_nonsensitive_prod\".\"depot_dmc_s_vrt_s2\"  -- WHERE import_year = 2024 and import_month = 6 and import_day = 9\n",
    "UNION\n",
    "SELECT objid, a_vrt_subtit as subtitle FROM \"operationaldata_nonsensitive_prod\".\"depot_dmc_s_vrt_s3\"   -- WHERE import_year = 2024 and import_month = 6 and import_day = 9\n",
    "UNION\n",
    "SELECT objid, a_vrt_subti4 as subtitle FROM \"operationaldata_nonsensitive_prod\".\"depot_dmc_s_vrt_s4\"   -- WHERE import_year = 2024 and import_month = 6 and import_day = 9\n",
    "UNION \n",
    "SELECT objid, a_vrt_speech as subtitle FROM \"operationaldata_nonsensitive_prod\".\"depot_dmc_s_vrt_sp\"   -- WHERE import_year = 2024 and import_month = 6 and import_day = 9\n",
    "UNION \n",
    "SELECT objid, a_vrt_subti1 as subtitle FROM \"operationaldata_nonsensitive_prod\".\"depot_dmc_s_vrt_su\"   -- WHERE import_year = 2024 and import_month = 6 and import_day = 9\n",
    ")\n",
    ")\n",
    "WHERE rn = 1\n",
    ") a\n",
    "LEFT JOIN (\n",
    "SELECT objid, segmentcontentid, starttc\n",
    "FROM (\n",
    "SELECT objid, segmentcontentid, starttc,\n",
    "row_number() OVER (partition by segmentcontentid ORDER BY objid DESC) as rn \n",
    "FROM (\n",
    "SELECT objid,  segmentcontentid ,starttc FROM \"operationaldata_nonsensitive_prod\".\"depot_dms_vrt_sub1\"  -- WHERE import_year = 2024 and import_month = 6 and import_day = 9\n",
    "UNION\n",
    "SELECT objid,  segmentcontentid ,starttc FROM \"operationaldata_nonsensitive_prod\".\"depot_dms_vrt_sub2\"  -- WHERE import_year = 2024 and import_month = 6 and import_day = 9\n",
    "UNION\n",
    "SELECT objid,  segmentcontentid ,starttc FROM \"operationaldata_nonsensitive_prod\".\"depot_dms_vrt_sub3\"  -- WHERE import_year = 2024 and import_month = 6 and import_day = 9\n",
    "UNION\n",
    "SELECT objid,  segmentcontentid ,starttc FROM \"operationaldata_nonsensitive_prod\".\"depot_dms_vrt_sub4\"  -- WHERE import_year = 2024 and import_month = 6 and import_day = 9\n",
    "UNION\n",
    "SELECT objid,  segmentcontentid ,starttc FROM \"operationaldata_nonsensitive_prod\".\"depot_dms_vrt_subt\"  -- WHERE import_year = 2024 and import_month = 6 and import_day = 9\n",
    ")\n",
    "GROUP BY objid, segmentcontentid, starttc\n",
    ") \n",
    "WHERE rn = 1\n",
    ") b\n",
    "ON a.objid = b.segmentcontentid\n",
    "LEFT JOIN (\n",
    "SELECT objid,  a_vrt_progra ,a_vrt_media_\n",
    "FROM (\n",
    "SELECT objid,  a_vrt_progra ,a_vrt_media_,\n",
    "row_number() OVER (partition by objid ORDER BY a_vrt_media_ DESC) as rn \n",
    "FROM \"operationaldata_nonsensitive_prod\".\"depot_dmo_program\"  WHERE import_year = 2024 and import_month = 6 and import_day = 9\n",
    ") WHERE rn = 1\n",
    ") c\n",
    "ON b.objid = c.objid\n",
    "INNER JOIN (\n",
    "SELECT mediacontent_media_id, \tmediacontent_media_origin_id  \n",
    "FROM (\n",
    "SELECT mediacontent_media_id, mediacontent_media_origin_id, row_number() OVER (PARTITION BY mediacontent_media_origin_id   ORDER BY \tcontactmoment_ingest_timestamp DESC)  as rn FROM \"marketing_prod\".\"dtr_vd_dms_audio_video_metadata_datariver\"\n",
    ")\n",
    "WHERE rn = 1\n",
    ") d\n",
    "ON c.a_vrt_media_ = d.mediacontent_media_origin_id\n",
    ")\n",
    "GROUP BY mediacontent_media_id, starttc\n",
    ")\n",
    "GROUP BY mediacontent_media_id\n",
    ") subtitles  \n",
    "ON vrtmax_catalog.mediacontent_media_id = subtitles.mediacontent_media_id_duplicate\n",
    ") intermediary\n",
    "LEFT JOIN (\n",
    "SELECT\n",
    "mediacontent_pageid_duplicate,mediacontent_episode_castlist\n",
    "FROM (\n",
    "SELECT \n",
    "mediacontent_pageid as mediacontent_pageid_duplicate,mediacontent_episode_castlist,\n",
    "row_number() over (partition by mediacontent_pageid ORDER BY mediacontent_page_modificationdate desc) as rn\n",
    "FROM marketing_prod.aem_vrtvideo_datariver\n",
    "WHERE year = {now.year}  and mediacontent_episode_castlist is not null )\n",
    "WHERE rn = 1\n",
    ") castinfo ON intermediary.mediacontent_pageid = castinfo.mediacontent_pageid_duplicate\n",
    "\"\"\"\n",
    "\n",
    "df = wr.athena.read_sql_query(sql=query, database=\"derived_prod\",boto3_session=credentials[\"boto_session\"])"
   ]
  },
  {
   "cell_type": "code",
   "execution_count": 78,
   "metadata": {},
   "outputs": [],
   "source": [
    "# drop columns\n",
    "df = df.drop(['mediacontent_media_id_duplicate','mediacontent_pageid_duplicate'], axis=1)"
   ]
  },
  {
   "cell_type": "code",
   "execution_count": 72,
   "metadata": {},
   "outputs": [],
   "source": [
    "import numpy as np\n",
    "df['mediacontent_episode_castlist'] = df['mediacontent_episode_castlist'].fillna(\"\").apply(np.empty(0))"
   ]
  },
  {
   "cell_type": "code",
   "execution_count": 76,
   "metadata": {},
   "outputs": [
    {
     "data": {
      "text/plain": [
       "[]"
      ]
     },
     "execution_count": 76,
     "metadata": {},
     "output_type": "execute_result"
    }
   ],
   "source": [
    "df.mediacontent_episode_castlist.iloc[0]"
   ]
  },
  {
   "cell_type": "code",
   "execution_count": 41,
   "metadata": {},
   "outputs": [],
   "source": [
    "# cleaning\n",
    "df[\"subtitle\"] = df[\"subtitle\"].str.replace('\\r', '')\n",
    "df[\"subtitle\"] = df[\"subtitle\"].str.replace('\\n', '')\n",
    "df[\"subtitle\"] = df[\"subtitle\"].str.replace(\"-\",\"\")\n",
    "\n",
    "# Fields to use\n",
    "fields_to_embed = [\n",
    "    \"subtitle\",\"mediacontent_page_description_program\",\"mediacontent_page_description\",\"mediacontent_page_editorialtitle_program\"\n",
    "]\n",
    "\n",
    "metadata_fields_str = [\n",
    "    \"mediacontent_pagetitle_program\",\"mediacontent_pagetitle_season\",\"mediacontent_pagetitle\"\n",
    "    ,\"offering_publication_planneduntil\",\"brand_contentbrand\",\"mediacontent_pageurl\",\"mediacontent_imageurl\",\"mediacontent_programimageurl\"\n",
    "]\n",
    "\n",
    "metadata_fields_nested = [\n",
    " \"mediacontent_episode_castlist\"\n",
    "]\n",
    "\n",
    "# convert everythin to string \n",
    "str_converst = df[fields_to_embed+metadata_fields_str].astype(str)\n",
    "str_converst.fillna('', inplace=True)\n",
    "str_converst = str_converst.replace('<NA>', \"\")\n",
    "str_converst = str_converst.replace('\"', \"\")\n",
    "df = pd.concat([str_converst,df[metadata_fields_nested]], axis=1)\n"
   ]
  },
  {
   "cell_type": "code",
   "execution_count": 32,
   "metadata": {},
   "outputs": [
    {
     "ename": "ValueError",
     "evalue": "The truth value of an array with more than one element is ambiguous. Use a.any() or a.all()",
     "output_type": "error",
     "traceback": [
      "\u001b[0;31m---------------------------------------------------------------------------\u001b[0m",
      "\u001b[0;31mValueError\u001b[0m                                Traceback (most recent call last)",
      "Cell \u001b[0;32mIn[32], line 2\u001b[0m\n\u001b[1;32m      1\u001b[0m df\u001b[38;5;241m.\u001b[39mfillna(\u001b[38;5;124m'\u001b[39m\u001b[38;5;124m'\u001b[39m, inplace\u001b[38;5;241m=\u001b[39m\u001b[38;5;28;01mTrue\u001b[39;00m)\n\u001b[0;32m----> 2\u001b[0m df \u001b[38;5;241m=\u001b[39m \u001b[43mdf\u001b[49m\u001b[38;5;241;43m.\u001b[39;49m\u001b[43mreplace\u001b[49m\u001b[43m(\u001b[49m\u001b[38;5;124;43m'\u001b[39;49m\u001b[38;5;124;43m<NA>\u001b[39;49m\u001b[38;5;124;43m'\u001b[39;49m\u001b[43m,\u001b[49m\u001b[43m \u001b[49m\u001b[38;5;124;43m\"\u001b[39;49m\u001b[38;5;124;43m\"\u001b[39;49m\u001b[43m)\u001b[49m\n\u001b[1;32m      3\u001b[0m df \u001b[38;5;241m=\u001b[39m df\u001b[38;5;241m.\u001b[39mreplace(\u001b[38;5;124m'\u001b[39m\u001b[38;5;124m\"\u001b[39m\u001b[38;5;124m'\u001b[39m, \u001b[38;5;124m\"\u001b[39m\u001b[38;5;124m\"\u001b[39m)\n",
      "File \u001b[0;32m~/miniconda3/envs/llm/lib/python3.10/site-packages/pandas/core/generic.py:8141\u001b[0m, in \u001b[0;36mNDFrame.replace\u001b[0;34m(self, to_replace, value, inplace, limit, regex, method)\u001b[0m\n\u001b[1;32m   8135\u001b[0m         new_data \u001b[38;5;241m=\u001b[39m \u001b[38;5;28mself\u001b[39m\u001b[38;5;241m.\u001b[39m_mgr\u001b[38;5;241m.\u001b[39mreplace_regex(\n\u001b[1;32m   8136\u001b[0m             to_replace\u001b[38;5;241m=\u001b[39mto_replace,\n\u001b[1;32m   8137\u001b[0m             value\u001b[38;5;241m=\u001b[39mvalue,\n\u001b[1;32m   8138\u001b[0m             inplace\u001b[38;5;241m=\u001b[39minplace,\n\u001b[1;32m   8139\u001b[0m         )\n\u001b[1;32m   8140\u001b[0m     \u001b[38;5;28;01melse\u001b[39;00m:\n\u001b[0;32m-> 8141\u001b[0m         new_data \u001b[38;5;241m=\u001b[39m \u001b[38;5;28;43mself\u001b[39;49m\u001b[38;5;241;43m.\u001b[39;49m\u001b[43m_mgr\u001b[49m\u001b[38;5;241;43m.\u001b[39;49m\u001b[43mreplace\u001b[49m\u001b[43m(\u001b[49m\n\u001b[1;32m   8142\u001b[0m \u001b[43m            \u001b[49m\u001b[43mto_replace\u001b[49m\u001b[38;5;241;43m=\u001b[39;49m\u001b[43mto_replace\u001b[49m\u001b[43m,\u001b[49m\u001b[43m \u001b[49m\u001b[43mvalue\u001b[49m\u001b[38;5;241;43m=\u001b[39;49m\u001b[43mvalue\u001b[49m\u001b[43m,\u001b[49m\u001b[43m \u001b[49m\u001b[43minplace\u001b[49m\u001b[38;5;241;43m=\u001b[39;49m\u001b[43minplace\u001b[49m\n\u001b[1;32m   8143\u001b[0m \u001b[43m        \u001b[49m\u001b[43m)\u001b[49m\n\u001b[1;32m   8144\u001b[0m \u001b[38;5;28;01melse\u001b[39;00m:\n\u001b[1;32m   8145\u001b[0m     \u001b[38;5;28;01mraise\u001b[39;00m \u001b[38;5;167;01mTypeError\u001b[39;00m(\n\u001b[1;32m   8146\u001b[0m         \u001b[38;5;124mf\u001b[39m\u001b[38;5;124m'\u001b[39m\u001b[38;5;124mInvalid \u001b[39m\u001b[38;5;124m\"\u001b[39m\u001b[38;5;124mto_replace\u001b[39m\u001b[38;5;124m\"\u001b[39m\u001b[38;5;124m type: \u001b[39m\u001b[38;5;132;01m{\u001b[39;00m\u001b[38;5;28mrepr\u001b[39m(\u001b[38;5;28mtype\u001b[39m(to_replace)\u001b[38;5;241m.\u001b[39m\u001b[38;5;18m__name__\u001b[39m)\u001b[38;5;132;01m}\u001b[39;00m\u001b[38;5;124m'\u001b[39m\n\u001b[1;32m   8147\u001b[0m     )\n",
      "File \u001b[0;32m~/miniconda3/envs/llm/lib/python3.10/site-packages/pandas/core/internals/base.py:249\u001b[0m, in \u001b[0;36mDataManager.replace\u001b[0;34m(self, to_replace, value, inplace)\u001b[0m\n\u001b[1;32m    247\u001b[0m \u001b[38;5;28;01massert\u001b[39;00m \u001b[38;5;129;01mnot\u001b[39;00m lib\u001b[38;5;241m.\u001b[39mis_list_like(to_replace)\n\u001b[1;32m    248\u001b[0m \u001b[38;5;28;01massert\u001b[39;00m \u001b[38;5;129;01mnot\u001b[39;00m lib\u001b[38;5;241m.\u001b[39mis_list_like(value)\n\u001b[0;32m--> 249\u001b[0m \u001b[38;5;28;01mreturn\u001b[39;00m \u001b[38;5;28;43mself\u001b[39;49m\u001b[38;5;241;43m.\u001b[39;49m\u001b[43mapply_with_block\u001b[49m\u001b[43m(\u001b[49m\n\u001b[1;32m    250\u001b[0m \u001b[43m    \u001b[49m\u001b[38;5;124;43m\"\u001b[39;49m\u001b[38;5;124;43mreplace\u001b[39;49m\u001b[38;5;124;43m\"\u001b[39;49m\u001b[43m,\u001b[49m\n\u001b[1;32m    251\u001b[0m \u001b[43m    \u001b[49m\u001b[43mto_replace\u001b[49m\u001b[38;5;241;43m=\u001b[39;49m\u001b[43mto_replace\u001b[49m\u001b[43m,\u001b[49m\n\u001b[1;32m    252\u001b[0m \u001b[43m    \u001b[49m\u001b[43mvalue\u001b[49m\u001b[38;5;241;43m=\u001b[39;49m\u001b[43mvalue\u001b[49m\u001b[43m,\u001b[49m\n\u001b[1;32m    253\u001b[0m \u001b[43m    \u001b[49m\u001b[43minplace\u001b[49m\u001b[38;5;241;43m=\u001b[39;49m\u001b[43minplace\u001b[49m\u001b[43m,\u001b[49m\n\u001b[1;32m    254\u001b[0m \u001b[43m    \u001b[49m\u001b[43musing_cow\u001b[49m\u001b[38;5;241;43m=\u001b[39;49m\u001b[43musing_copy_on_write\u001b[49m\u001b[43m(\u001b[49m\u001b[43m)\u001b[49m\u001b[43m,\u001b[49m\n\u001b[1;32m    255\u001b[0m \u001b[43m    \u001b[49m\u001b[43malready_warned\u001b[49m\u001b[38;5;241;43m=\u001b[39;49m\u001b[43m_AlreadyWarned\u001b[49m\u001b[43m(\u001b[49m\u001b[43m)\u001b[49m\u001b[43m,\u001b[49m\n\u001b[1;32m    256\u001b[0m \u001b[43m\u001b[49m\u001b[43m)\u001b[49m\n",
      "File \u001b[0;32m~/miniconda3/envs/llm/lib/python3.10/site-packages/pandas/core/internals/managers.py:363\u001b[0m, in \u001b[0;36mBaseBlockManager.apply\u001b[0;34m(self, f, align_keys, **kwargs)\u001b[0m\n\u001b[1;32m    361\u001b[0m         applied \u001b[38;5;241m=\u001b[39m b\u001b[38;5;241m.\u001b[39mapply(f, \u001b[38;5;241m*\u001b[39m\u001b[38;5;241m*\u001b[39mkwargs)\n\u001b[1;32m    362\u001b[0m     \u001b[38;5;28;01melse\u001b[39;00m:\n\u001b[0;32m--> 363\u001b[0m         applied \u001b[38;5;241m=\u001b[39m \u001b[38;5;28;43mgetattr\u001b[39;49m\u001b[43m(\u001b[49m\u001b[43mb\u001b[49m\u001b[43m,\u001b[49m\u001b[43m \u001b[49m\u001b[43mf\u001b[49m\u001b[43m)\u001b[49m\u001b[43m(\u001b[49m\u001b[38;5;241;43m*\u001b[39;49m\u001b[38;5;241;43m*\u001b[39;49m\u001b[43mkwargs\u001b[49m\u001b[43m)\u001b[49m\n\u001b[1;32m    364\u001b[0m     result_blocks \u001b[38;5;241m=\u001b[39m extend_blocks(applied, result_blocks)\n\u001b[1;32m    366\u001b[0m out \u001b[38;5;241m=\u001b[39m \u001b[38;5;28mtype\u001b[39m(\u001b[38;5;28mself\u001b[39m)\u001b[38;5;241m.\u001b[39mfrom_blocks(result_blocks, \u001b[38;5;28mself\u001b[39m\u001b[38;5;241m.\u001b[39maxes)\n",
      "File \u001b[0;32m~/miniconda3/envs/llm/lib/python3.10/site-packages/pandas/core/internals/blocks.py:868\u001b[0m, in \u001b[0;36mBlock.replace\u001b[0;34m(self, to_replace, value, inplace, mask, using_cow, already_warned)\u001b[0m\n\u001b[1;32m    865\u001b[0m         \u001b[38;5;28;01mreturn\u001b[39;00m [\u001b[38;5;28mself\u001b[39m] \u001b[38;5;28;01mif\u001b[39;00m inplace \u001b[38;5;28;01melse\u001b[39;00m [\u001b[38;5;28mself\u001b[39m\u001b[38;5;241m.\u001b[39mcopy()]\n\u001b[1;32m    867\u001b[0m \u001b[38;5;28;01mif\u001b[39;00m mask \u001b[38;5;129;01mis\u001b[39;00m \u001b[38;5;28;01mNone\u001b[39;00m:\n\u001b[0;32m--> 868\u001b[0m     mask \u001b[38;5;241m=\u001b[39m \u001b[43mmissing\u001b[49m\u001b[38;5;241;43m.\u001b[39;49m\u001b[43mmask_missing\u001b[49m\u001b[43m(\u001b[49m\u001b[43mvalues\u001b[49m\u001b[43m,\u001b[49m\u001b[43m \u001b[49m\u001b[43mto_replace\u001b[49m\u001b[43m)\u001b[49m\n\u001b[1;32m    869\u001b[0m \u001b[38;5;28;01mif\u001b[39;00m \u001b[38;5;129;01mnot\u001b[39;00m mask\u001b[38;5;241m.\u001b[39many():\n\u001b[1;32m    870\u001b[0m     \u001b[38;5;66;03m# Note: we get here with test_replace_extension_other incorrectly\u001b[39;00m\n\u001b[1;32m    871\u001b[0m     \u001b[38;5;66;03m#  bc _can_hold_element is incorrect.\u001b[39;00m\n\u001b[1;32m    872\u001b[0m     \u001b[38;5;28;01mif\u001b[39;00m using_cow:\n",
      "File \u001b[0;32m~/miniconda3/envs/llm/lib/python3.10/site-packages/pandas/core/missing.py:124\u001b[0m, in \u001b[0;36mmask_missing\u001b[0;34m(arr, values_to_mask)\u001b[0m\n\u001b[1;32m    122\u001b[0m \u001b[38;5;28;01mif\u001b[39;00m potential_na:\n\u001b[1;32m    123\u001b[0m     new_mask \u001b[38;5;241m=\u001b[39m np\u001b[38;5;241m.\u001b[39mzeros(arr\u001b[38;5;241m.\u001b[39mshape, dtype\u001b[38;5;241m=\u001b[39mnp\u001b[38;5;241m.\u001b[39mbool_)\n\u001b[0;32m--> 124\u001b[0m     new_mask[arr_mask] \u001b[38;5;241m=\u001b[39m \u001b[43marr\u001b[49m\u001b[43m[\u001b[49m\u001b[43marr_mask\u001b[49m\u001b[43m]\u001b[49m\u001b[43m \u001b[49m\u001b[38;5;241;43m==\u001b[39;49m\u001b[43m \u001b[49m\u001b[43mx\u001b[49m\n\u001b[1;32m    125\u001b[0m \u001b[38;5;28;01melse\u001b[39;00m:\n\u001b[1;32m    126\u001b[0m     new_mask \u001b[38;5;241m=\u001b[39m arr \u001b[38;5;241m==\u001b[39m x\n",
      "\u001b[0;31mValueError\u001b[0m: The truth value of an array with more than one element is ambiguous. Use a.any() or a.all()"
     ]
    }
   ],
   "source": []
  },
  {
   "cell_type": "code",
   "execution_count": null,
   "metadata": {},
   "outputs": [],
   "source": []
  },
  {
   "cell_type": "code",
   "execution_count": 20,
   "metadata": {},
   "outputs": [
    {
     "data": {
      "text/plain": [
       "' # take only  rows where at least one of the fields to be embedded is not null\\nquery_condition = []\\n\\nfor field in fields_to_embed:\\n    query_condition.append(\"(\" + field + \"!= \\'\\'\")\\n\\nquery_condition = \" | \".join(query_condition)\\ndf = df.query(query_condition) '"
      ]
     },
     "execution_count": 20,
     "metadata": {},
     "output_type": "execute_result"
    }
   ],
   "source": [
    "\"\"\" # take only  rows where at least one of the fields to be embedded is not null\n",
    "query_condition = []\n",
    "\n",
    "for field in fields_to_embed:\n",
    "    query_condition.append(\"(\" + field + \"!= ''\")\n",
    "\n",
    "query_condition = \" | \".join(query_condition)\n",
    "df = df.query(query_condition) \"\"\""
   ]
  },
  {
   "cell_type": "code",
   "execution_count": 6,
   "metadata": {},
   "outputs": [],
   "source": [
    "# loading data into vector db requires one field with all text data to embed\n",
    "df[\"info_to_embed\"] = df[fields_to_embed].apply(lambda row: ' '.join(row.values.astype(str)), axis=1)\n",
    "\n",
    "# rest of columns become metadata automatically, so remove the ones you don't want\n",
    "df = df.drop(['subtitle'], axis=1)"
   ]
  },
  {
   "cell_type": "code",
   "execution_count": 7,
   "metadata": {},
   "outputs": [],
   "source": [
    "import csv\n",
    "df.to_csv(\"vrtmax_catalog.csv\",index=False)"
   ]
  },
  {
   "cell_type": "code",
   "execution_count": 8,
   "metadata": {},
   "outputs": [
    {
     "ename": "KeyError",
     "evalue": "\"['subtitle'] not in index\"",
     "output_type": "error",
     "traceback": [
      "\u001b[0;31m---------------------------------------------------------------------------\u001b[0m",
      "\u001b[0;31mKeyError\u001b[0m                                  Traceback (most recent call last)",
      "Cell \u001b[0;32mIn[8], line 3\u001b[0m\n\u001b[1;32m      1\u001b[0m \u001b[38;5;66;03m# create csv + metadata combinations (for every row)\u001b[39;00m\n\u001b[1;32m      2\u001b[0m \u001b[38;5;28;01mfor\u001b[39;00m index, row \u001b[38;5;129;01min\u001b[39;00m df\u001b[38;5;241m.\u001b[39miterrows():\n\u001b[0;32m----> 3\u001b[0m     \u001b[43mdf\u001b[49m\u001b[43m[\u001b[49m\u001b[43mdf\u001b[49m\u001b[38;5;241;43m.\u001b[39;49m\u001b[43mindex\u001b[49m\u001b[43m \u001b[49m\u001b[38;5;241;43m==\u001b[39;49m\u001b[43m \u001b[49m\u001b[43mindex\u001b[49m\u001b[43m]\u001b[49m\u001b[43m[\u001b[49m\u001b[43mfields_to_embed\u001b[49m\u001b[43m]\u001b[49m\u001b[38;5;241m.\u001b[39mto_csv(\u001b[38;5;124m\"\u001b[39m\u001b[38;5;124mopensearch/\u001b[39m\u001b[38;5;124m\"\u001b[39m \u001b[38;5;241m+\u001b[39m row[\u001b[38;5;124m\"\u001b[39m\u001b[38;5;124mmediacontent_media_id\u001b[39m\u001b[38;5;124m\"\u001b[39m] \u001b[38;5;241m+\u001b[39m \u001b[38;5;124m\"\u001b[39m\u001b[38;5;124m.csv\u001b[39m\u001b[38;5;124m\"\u001b[39m,index\u001b[38;5;241m=\u001b[39m\u001b[38;5;28;01mFalse\u001b[39;00m)\n\u001b[1;32m      4\u001b[0m     metadata \u001b[38;5;241m=\u001b[39m \u001b[38;5;28mdict\u001b[39m()\n\u001b[1;32m      5\u001b[0m     metadata[\u001b[38;5;124m\"\u001b[39m\u001b[38;5;124mmetadataAttributes\u001b[39m\u001b[38;5;124m\"\u001b[39m] \u001b[38;5;241m=\u001b[39m df[df\u001b[38;5;241m.\u001b[39mindex \u001b[38;5;241m==\u001b[39m index][metadata_fields]\u001b[38;5;241m.\u001b[39mto_dict(\u001b[38;5;124m\"\u001b[39m\u001b[38;5;124mrecords\u001b[39m\u001b[38;5;124m\"\u001b[39m)[\u001b[38;5;241m0\u001b[39m]\n",
      "File \u001b[0;32m~/miniconda3/envs/llm/lib/python3.10/site-packages/pandas/core/frame.py:4108\u001b[0m, in \u001b[0;36mDataFrame.__getitem__\u001b[0;34m(self, key)\u001b[0m\n\u001b[1;32m   4106\u001b[0m     \u001b[38;5;28;01mif\u001b[39;00m is_iterator(key):\n\u001b[1;32m   4107\u001b[0m         key \u001b[38;5;241m=\u001b[39m \u001b[38;5;28mlist\u001b[39m(key)\n\u001b[0;32m-> 4108\u001b[0m     indexer \u001b[38;5;241m=\u001b[39m \u001b[38;5;28;43mself\u001b[39;49m\u001b[38;5;241;43m.\u001b[39;49m\u001b[43mcolumns\u001b[49m\u001b[38;5;241;43m.\u001b[39;49m\u001b[43m_get_indexer_strict\u001b[49m\u001b[43m(\u001b[49m\u001b[43mkey\u001b[49m\u001b[43m,\u001b[49m\u001b[43m \u001b[49m\u001b[38;5;124;43m\"\u001b[39;49m\u001b[38;5;124;43mcolumns\u001b[39;49m\u001b[38;5;124;43m\"\u001b[39;49m\u001b[43m)\u001b[49m[\u001b[38;5;241m1\u001b[39m]\n\u001b[1;32m   4110\u001b[0m \u001b[38;5;66;03m# take() does not accept boolean indexers\u001b[39;00m\n\u001b[1;32m   4111\u001b[0m \u001b[38;5;28;01mif\u001b[39;00m \u001b[38;5;28mgetattr\u001b[39m(indexer, \u001b[38;5;124m\"\u001b[39m\u001b[38;5;124mdtype\u001b[39m\u001b[38;5;124m\"\u001b[39m, \u001b[38;5;28;01mNone\u001b[39;00m) \u001b[38;5;241m==\u001b[39m \u001b[38;5;28mbool\u001b[39m:\n",
      "File \u001b[0;32m~/miniconda3/envs/llm/lib/python3.10/site-packages/pandas/core/indexes/base.py:6200\u001b[0m, in \u001b[0;36mIndex._get_indexer_strict\u001b[0;34m(self, key, axis_name)\u001b[0m\n\u001b[1;32m   6197\u001b[0m \u001b[38;5;28;01melse\u001b[39;00m:\n\u001b[1;32m   6198\u001b[0m     keyarr, indexer, new_indexer \u001b[38;5;241m=\u001b[39m \u001b[38;5;28mself\u001b[39m\u001b[38;5;241m.\u001b[39m_reindex_non_unique(keyarr)\n\u001b[0;32m-> 6200\u001b[0m \u001b[38;5;28;43mself\u001b[39;49m\u001b[38;5;241;43m.\u001b[39;49m\u001b[43m_raise_if_missing\u001b[49m\u001b[43m(\u001b[49m\u001b[43mkeyarr\u001b[49m\u001b[43m,\u001b[49m\u001b[43m \u001b[49m\u001b[43mindexer\u001b[49m\u001b[43m,\u001b[49m\u001b[43m \u001b[49m\u001b[43maxis_name\u001b[49m\u001b[43m)\u001b[49m\n\u001b[1;32m   6202\u001b[0m keyarr \u001b[38;5;241m=\u001b[39m \u001b[38;5;28mself\u001b[39m\u001b[38;5;241m.\u001b[39mtake(indexer)\n\u001b[1;32m   6203\u001b[0m \u001b[38;5;28;01mif\u001b[39;00m \u001b[38;5;28misinstance\u001b[39m(key, Index):\n\u001b[1;32m   6204\u001b[0m     \u001b[38;5;66;03m# GH 42790 - Preserve name from an Index\u001b[39;00m\n",
      "File \u001b[0;32m~/miniconda3/envs/llm/lib/python3.10/site-packages/pandas/core/indexes/base.py:6252\u001b[0m, in \u001b[0;36mIndex._raise_if_missing\u001b[0;34m(self, key, indexer, axis_name)\u001b[0m\n\u001b[1;32m   6249\u001b[0m     \u001b[38;5;28;01mraise\u001b[39;00m \u001b[38;5;167;01mKeyError\u001b[39;00m(\u001b[38;5;124mf\u001b[39m\u001b[38;5;124m\"\u001b[39m\u001b[38;5;124mNone of [\u001b[39m\u001b[38;5;132;01m{\u001b[39;00mkey\u001b[38;5;132;01m}\u001b[39;00m\u001b[38;5;124m] are in the [\u001b[39m\u001b[38;5;132;01m{\u001b[39;00maxis_name\u001b[38;5;132;01m}\u001b[39;00m\u001b[38;5;124m]\u001b[39m\u001b[38;5;124m\"\u001b[39m)\n\u001b[1;32m   6251\u001b[0m not_found \u001b[38;5;241m=\u001b[39m \u001b[38;5;28mlist\u001b[39m(ensure_index(key)[missing_mask\u001b[38;5;241m.\u001b[39mnonzero()[\u001b[38;5;241m0\u001b[39m]]\u001b[38;5;241m.\u001b[39munique())\n\u001b[0;32m-> 6252\u001b[0m \u001b[38;5;28;01mraise\u001b[39;00m \u001b[38;5;167;01mKeyError\u001b[39;00m(\u001b[38;5;124mf\u001b[39m\u001b[38;5;124m\"\u001b[39m\u001b[38;5;132;01m{\u001b[39;00mnot_found\u001b[38;5;132;01m}\u001b[39;00m\u001b[38;5;124m not in index\u001b[39m\u001b[38;5;124m\"\u001b[39m)\n",
      "\u001b[0;31mKeyError\u001b[0m: \"['subtitle'] not in index\""
     ]
    }
   ],
   "source": [
    "# create csv + metadata combinations (for every row)\n",
    "for index, row in df.iterrows():\n",
    "    df[df.index == index][fields_to_embed].to_csv(\"opensearch/\" + row[\"mediacontent_media_id\"] + \".csv\",index=False)\n",
    "    metadata = dict()\n",
    "    metadata[\"metadataAttributes\"] = df[df.index == index][metadata_fields].to_dict(\"records\")[0]\n",
    "\n",
    "    # Convert and write JSON object to file\n",
    "    with open(\"opensearch/\" + row[\"mediacontent_media_id\"] + \".metadata.json\", \"w\") as outfile: \n",
    "        json.dump(metadata, outfile)"
   ]
  },
  {
   "cell_type": "code",
   "execution_count": null,
   "metadata": {},
   "outputs": [],
   "source": []
  }
 ],
 "metadata": {
  "kernelspec": {
   "display_name": "llm",
   "language": "python",
   "name": "python3"
  },
  "language_info": {
   "codemirror_mode": {
    "name": "ipython",
    "version": 3
   },
   "file_extension": ".py",
   "mimetype": "text/x-python",
   "name": "python",
   "nbconvert_exporter": "python",
   "pygments_lexer": "ipython3",
   "version": "3.10.14"
  }
 },
 "nbformat": 4,
 "nbformat_minor": 2
}
